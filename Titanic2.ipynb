{
 "cells": [
  {
   "cell_type": "code",
   "execution_count": 4,
   "metadata": {},
   "outputs": [
    {
     "name": "stdout",
     "output_type": "stream",
     "text": [
      "3.8.5\n"
     ]
    }
   ],
   "source": [
    "from platform import python_version \n",
    "\n",
    "print(python_version()) # Require Py 3.6 for tensorflow 2 "
   ]
  },
  {
   "cell_type": "code",
   "execution_count": 2,
   "metadata": {},
   "outputs": [],
   "source": [
    "# import libraries:\n",
    "\n",
    "import pandas as pd \n",
    "import seaborn as sns \n",
    "import matplotlib.pyplot as plt \n",
    "import numpy as np"
   ]
  },
  {
   "cell_type": "code",
   "execution_count": 73,
   "metadata": {},
   "outputs": [],
   "source": [
    "# Read in the pickle files from last notebook\n",
    "\n",
    "\n",
    "# Train Sets ------\n",
    "train = pd.read_pickle('train.pkl')\n",
    "train_one_hot = pd.read_pickle('train_one_hot.pkl') \n",
    "train_one_hot_nofare = pd.read_pickle('train_one_hot_nofare.pkl')\n",
    "train_UpLow = pd.read_pickle('train_UpLow.pkl')\n",
    "\n",
    "# Test Sets: ------\n",
    "test = pd.read_pickle('test.pkl')\n",
    "test_one_hot_nofare = pd.read_pickle('test_one_hot_nofare.pkl')"
   ]
  },
  {
   "cell_type": "code",
   "execution_count": 95,
   "metadata": {},
   "outputs": [],
   "source": [
    "# drop the fare vairable from dataframe\n",
    "train_UpLow_fare = train_UpLow \n",
    "train_UpLow_nofare = train_UpLow.drop('Fare', axis=1)"
   ]
  },
  {
   "cell_type": "code",
   "execution_count": 4,
   "metadata": {},
   "outputs": [],
   "source": [
    "# create 3 datasets to check accuracy. These all have ages as levels (not one hot encoded).\n",
    "\n",
    "train_fare_stand = train\n",
    "train_fare_stand['Fare'] = (train_fare_stand['Fare']-train_fare_stand['Fare'].mean())/train_fare_stand['Fare'].std() # Standardising\n",
    "train_nofare = train.drop('Fare', axis=1)\n"
   ]
  },
  {
   "cell_type": "markdown",
   "metadata": {},
   "source": [
    "## Lets look at fitting our first models:"
   ]
  },
  {
   "cell_type": "code",
   "execution_count": 145,
   "metadata": {},
   "outputs": [],
   "source": [
    "# Set up a Response Vector = Y and Data Vector = X using the dataset we want to explore\n",
    "\n",
    "dataset = train_one_hot_nofare #this dataset can chage depending on what we're testing\n",
    "\n",
    "X_train = dataset.drop('Survived', axis = 1)\n",
    "Y_train = dataset['Survived']\n",
    "\n",
    "#X_test = test.drop('Survived' , axis = 1)\n",
    "#Y_test = test['Survived']\n",
    "\n",
    "\n",
    "# Set up vectors of feature names for plotting importance later:\n",
    "\n",
    "X_names = list(X_train.columns)\n",
    "Y_names = Y_train.name\n",
    "\n",
    "# for each method we want to tune any hyperparameters using k-fold cross validation:\n",
    "from sklearn.model_selection import cross_val_score"
   ]
  },
  {
   "cell_type": "code",
   "execution_count": 6,
   "metadata": {},
   "outputs": [
    {
     "data": {
      "text/plain": [
       "['Pclass', 'Sex', 'Embarked', 'Title', 'Age_Level', 'Deck', 'GroupSize']"
      ]
     },
     "execution_count": 6,
     "metadata": {},
     "output_type": "execute_result"
    }
   ],
   "source": [
    "X_names # Sanity Check"
   ]
  },
  {
   "cell_type": "code",
   "execution_count": 7,
   "metadata": {},
   "outputs": [
    {
     "data": {
      "text/plain": [
       "'Survived'"
      ]
     },
     "execution_count": 7,
     "metadata": {},
     "output_type": "execute_result"
    }
   ],
   "source": [
    "Y_names"
   ]
  },
  {
   "cell_type": "markdown",
   "metadata": {},
   "source": [
    "## K-Nearest-Neighbours"
   ]
  },
  {
   "cell_type": "code",
   "execution_count": 146,
   "metadata": {},
   "outputs": [
    {
     "data": {
      "text/plain": [
       "KNeighborsClassifier()"
      ]
     },
     "execution_count": 146,
     "metadata": {},
     "output_type": "execute_result"
    }
   ],
   "source": [
    "## KNearestNeighbours\n",
    "\n",
    "from sklearn.neighbors import KNeighborsClassifier\n",
    "\n",
    "neigh = KNeighborsClassifier(n_neighbors=5)\n",
    "neigh.fit(X_train, Y_train)"
   ]
  },
  {
   "cell_type": "code",
   "execution_count": 147,
   "metadata": {},
   "outputs": [
    {
     "name": "stdout",
     "output_type": "stream",
     "text": [
      "Accuracy for 10 folds [0.82222222 0.83146067 0.78651685 0.85393258 0.85393258 0.83146067\n",
      " 0.80898876 0.7752809  0.86516854 0.8988764 ]\n",
      "Mean Accuracy: 0.8327840199750313\n",
      "Standard Deviation of Accuracy 0.03527040088094268\n"
     ]
    }
   ],
   "source": [
    "# Cross Val:\n",
    "\n",
    "CV_neigh = cross_val_score(neigh, X_train, Y_train, cv = 10, scoring='accuracy')\n",
    "print('Accuracy for 10 folds', CV_neigh)\n",
    "mean_neigh = CV_neigh.mean()\n",
    "print('Mean Accuracy:', mean_neigh)\n",
    "std_neigh = CV_neigh.std()\n",
    "print('Standard Deviation of Accuracy', std_neigh)\n"
   ]
  },
  {
   "cell_type": "code",
   "execution_count": 148,
   "metadata": {},
   "outputs": [
    {
     "name": "stdout",
     "output_type": "stream",
     "text": [
      "Tuning Table for K:\n",
      "     K  Mean_Accuracy  Std_Accuracy\n",
      "0   2       0.789026      0.049057\n",
      "1   3       0.818202      0.041271\n",
      "2   4       0.819351      0.041316\n",
      "3   5       0.832784      0.035270\n",
      "4   6       0.837291      0.036510\n",
      "5   7       0.823808      0.035110\n",
      "6   8       0.821586      0.040141\n",
      "7   9       0.828277      0.039602\n",
      "8  10       0.826030      0.033462\n"
     ]
    }
   ],
   "source": [
    "# How to select an optimal number of neighbours:\n",
    "\n",
    "neighbour_num = [2,3,4,5,6,7,8,9,10]\n",
    "d = []\n",
    "\n",
    "for i in neighbour_num :\n",
    "    neigh = KNeighborsClassifier(n_neighbors=i)\n",
    "    neigh.fit(X_train, Y_train)\n",
    "    CV_neigh = cross_val_score(neigh, X_train, Y_train, cv = 10, scoring='accuracy')\n",
    "    d.append((i, CV_neigh.mean(), CV_neigh.std()))\n",
    "    \n",
    "    tuning_table = pd.DataFrame(d, columns =('K', 'Mean_Accuracy', 'Std_Accuracy'))\n",
    "    \n",
    "print('Tuning Table for K:\\n' , tuning_table)"
   ]
  },
  {
   "cell_type": "code",
   "execution_count": 149,
   "metadata": {},
   "outputs": [
    {
     "name": "stdout",
     "output_type": "stream",
     "text": [
      "Max Accuracy: 0.8372908863920101   When K = 6\n",
      "Min Std :  0.03346196197872378   When K = 10\n"
     ]
    }
   ],
   "source": [
    "print( 'Max Accuracy:', tuning_table.Mean_Accuracy.max() , \n",
    "          '  When K =', tuning_table['K'].loc[tuning_table['Mean_Accuracy'] == tuning_table.Mean_Accuracy.max()].values[0] )\n",
    "print( 'Min Std : ' , tuning_table.Std_Accuracy.min() ,\n",
    "         '  When K =', tuning_table['K'].loc[tuning_table['Std_Accuracy'] == tuning_table.Std_Accuracy.min()].values[0]  )"
   ]
  },
  {
   "cell_type": "code",
   "execution_count": 150,
   "metadata": {},
   "outputs": [
    {
     "data": {
      "image/png": "[encoded data removed]",
      "text/plain": [
       "<Figure size 432x288 with 2 Axes>"
      ]
     },
     "metadata": {
      "needs_background": "light"
     },
     "output_type": "display_data"
    }
   ],
   "source": [
    "## Plot a line graph\n",
    "#tt = tuning_table.reset_index().melt('index', var_name='cols',  value_name='vals')\n",
    "#g = sns.catplot(x=\"index\", y=\"vals\", hue='cols', data=tt, kind='point')\n",
    "fig, ax =plt.subplots(1,2)\n",
    "\n",
    "sns.lineplot(x=tuning_table['K'], y=\"Mean_Accuracy\", data=tuning_table, ax=ax[0])\n",
    "sns.lineplot(x=tuning_table['K'], y=\"Std_Accuracy\", data=tuning_table, ax=ax[1])\n",
    "#g.set_xticklabels(['1','2','3','4','5','6','7','8'])\n",
    "#h.set_xticklabels(['1','2','3','4','5','6','7','8'])\n",
    "fig.suptitle('Number of Neighbours (K) Vs Mean Accuracy \\n and Standard Deviation of Accuracy', fontsize=18, y=1.03)\n",
    "fig.tight_layout()\n",
    "plt.show()"
   ]
  },
  {
   "cell_type": "code",
   "execution_count": 199,
   "metadata": {},
   "outputs": [
    {
     "name": "stdout",
     "output_type": "stream",
     "text": [
      "Accuracy for 10 folds [0.81111111 0.83146067 0.7752809  0.85393258 0.86516854 0.83146067\n",
      " 0.84269663 0.78651685 0.88764045 0.88764045]\n",
      "Mean Accuracy: 0.8372908863920101\n",
      "Standard Deviation of Accuracy 0.036510399890613845\n"
     ]
    }
   ],
   "source": [
    "# Thus we can choose K=6 as a mean variance trade off. Giving:\n",
    "\n",
    "neigh = KNeighborsClassifier(n_neighbors=6)\n",
    "neigh.fit(X_train, Y_train)\n",
    "CV_neigh = cross_val_score(neigh, X_train, Y_train, cv = 10, scoring='accuracy')\n",
    "print('Accuracy for 10 folds', CV_neigh)\n",
    "mean_neigh = CV_neigh.mean()\n",
    "print('Mean Accuracy:', mean_neigh)\n",
    "std_neigh = CV_neigh.std()\n",
    "print('Standard Deviation of Accuracy', std_neigh)\n"
   ]
  },
  {
   "cell_type": "code",
   "execution_count": 152,
   "metadata": {},
   "outputs": [
    {
     "name": "stdout",
     "output_type": "stream",
     "text": [
      "[[499  50]\n",
      " [ 79 263]]\n",
      "              precision    recall  f1-score   support\n",
      "\n",
      "           0       0.86      0.91      0.89       549\n",
      "           1       0.84      0.77      0.80       342\n",
      "\n",
      "    accuracy                           0.86       891\n",
      "   macro avg       0.85      0.84      0.84       891\n",
      "weighted avg       0.85      0.86      0.85       891\n",
      "\n"
     ]
    }
   ],
   "source": [
    "from sklearn.metrics import classification_report, confusion_matrix\n",
    "\n",
    "Y_pred = neigh.predict(X_train)\n",
    "\n",
    "cf_matrix = confusion_matrix(Y_train, Y_pred)\n",
    "\n",
    "print(confusion_matrix(Y_train, Y_pred))\n",
    "print(classification_report(Y_train, Y_pred))\n",
    "\n",
    "# Saving other metric (Recall, Precision, F1-Score)\n",
    "\n",
    "report = classification_report(Y_train, Y_pred, output_dict=True)\n",
    "recall_knn = report['0']['recall']\n",
    "precision_knn = report['0']['precision']\n",
    "f1_knn = report['0']['f1-score']\n"
   ]
  },
  {
   "cell_type": "code",
   "execution_count": 126,
   "metadata": {},
   "outputs": [
    {
     "name": "stdout",
     "output_type": "stream",
     "text": [
      "0.8185328185328187\n"
     ]
    }
   ],
   "source": []
  },
  {
   "cell_type": "code",
   "execution_count": 68,
   "metadata": {},
   "outputs": [],
   "source": [
    "CR = classification_report(Y_train, Y_pred, output_dict=True)\n"
   ]
  },
  {
   "cell_type": "code",
   "execution_count": 153,
   "metadata": {},
   "outputs": [
    {
     "data": {
      "text/plain": [
       "Text(0.5, 0.98, 'Confustion Matrix')"
      ]
     },
     "execution_count": 153,
     "metadata": {},
     "output_type": "execute_result"
    },
    {
     "data": {
      "image/png": "[encoded data removed]",
      "text/plain": [
       "<Figure size 432x288 with 2 Axes>"
      ]
     },
     "metadata": {
      "needs_background": "light"
     },
     "output_type": "display_data"
    }
   ],
   "source": [
    "group_names = ['True Neg','False Pos','False Neg','True Pos']\n",
    "group_counts = ['{0:0.0f}'.format(value) for value in\n",
    "                cf_matrix.flatten()]\n",
    "group_percentages = ['{0:.2%}'.format(value) for value in\n",
    "                     cf_matrix.flatten()/np.sum(cf_matrix)]\n",
    "labels = [f'{v1}\\n{v2}\\n{v3}' for v1, v2, v3 in\n",
    "          zip(group_names,group_counts,group_percentages)]\n",
    "labels = np.asarray(labels).reshape(2,2)\n",
    "sns.heatmap(cf_matrix, annot=labels, fmt='', cmap='Greens')\n",
    "plt.suptitle('Confustion Matrix')"
   ]
  },
  {
   "cell_type": "code",
   "execution_count": 56,
   "metadata": {},
   "outputs": [
    {
     "data": {
      "text/plain": [
       "array([0, 1, 1, 1, 0, 0, 1, 0, 0, 1, 1, 1, 0, 0, 0, 1, 0, 0, 1, 1, 0, 0,\n",
       "       1, 0, 0, 0, 0, 0, 1, 0, 0, 1, 1, 0, 0, 0, 0, 0, 0, 1, 1, 1, 0, 1,\n",
       "       1, 0, 0, 1, 0, 0, 0, 0, 1, 1, 1, 1, 1, 0, 1, 0, 0, 1, 0, 0, 0, 1,\n",
       "       1, 0, 0, 0, 0, 0, 0, 0, 0, 0, 0, 0, 1, 1, 0, 0, 1, 0, 1, 1, 0, 0,\n",
       "       1, 0, 0, 0, 1, 0, 0, 0, 0, 1, 1, 0, 1, 0, 0, 0, 0, 0, 1, 0, 0, 1,\n",
       "       0, 1, 0, 0, 1, 0, 0, 0, 0, 0, 0, 0, 0, 1, 0, 1, 0, 0, 1, 0, 0, 0,\n",
       "       1, 1, 0, 0, 1, 0, 0, 0, 0, 1, 0, 0, 0, 0, 0, 0, 0, 0, 0, 1, 0, 0,\n",
       "       0, 0, 1, 0, 0, 0, 0, 1, 0, 0, 0, 1, 1, 0, 0, 0, 0, 0, 1, 0, 0, 0,\n",
       "       0, 1, 0, 0, 0, 0, 0, 1, 1, 1, 1, 0, 0, 0, 1, 0, 0, 1, 1, 1, 0, 0,\n",
       "       1, 1, 0, 0, 0, 0, 0, 1, 0, 0, 1, 0, 0, 1, 0, 0, 0, 1, 1, 0, 1, 0,\n",
       "       0, 0, 0, 0, 0, 0, 0, 0, 0, 0, 1, 0, 0, 0, 0, 0, 0, 1, 0, 0, 0, 1,\n",
       "       0, 0, 0, 0, 1, 1, 0, 0, 0, 0, 0, 0, 1, 1, 1, 1, 1, 1, 0, 0, 1, 0,\n",
       "       1, 0, 0, 0, 1, 1, 0, 0, 1, 0, 1, 1, 1, 0, 0, 1, 0, 0, 0, 0, 0, 0,\n",
       "       0, 0, 0, 1, 1, 1, 1, 1, 0, 0, 0, 1, 0, 1, 1, 0, 0, 1, 0, 1, 1, 1,\n",
       "       0, 1, 1, 1, 1, 0, 0, 1, 1, 0, 1, 1, 0, 0, 1, 1, 0, 1, 0, 1, 1, 1,\n",
       "       1, 0, 0, 0, 1, 0, 0, 1, 0, 0, 1, 1, 0, 0, 0, 1, 1, 1, 1, 0, 0, 0,\n",
       "       0, 0, 0, 0, 1, 1, 1, 1, 0, 0, 0, 0, 0, 0, 1, 1, 1, 1, 1, 0, 0, 0,\n",
       "       0, 1, 1, 0, 0, 0, 1, 1, 0, 1, 0, 0, 0, 1, 0, 1, 1, 0, 0, 1, 0, 0,\n",
       "       1, 0, 0, 1, 0, 0, 0, 0, 1, 0, 0, 1, 0, 0, 0, 0, 1, 0, 0, 0, 1, 1,\n",
       "       0, 1, 0, 0, 0, 0, 0, 0, 1, 1, 0, 0, 1, 1, 1, 0, 1, 1, 0, 1, 0, 0,\n",
       "       1, 0, 0, 1, 0, 1, 1, 0, 1, 0, 0, 0, 0, 0, 0, 0, 1, 1, 1, 0, 1, 0,\n",
       "       1, 0, 0, 0, 0, 0, 0, 1, 0, 0, 1, 1, 1, 0, 0, 0, 0, 1, 0, 0, 0, 0,\n",
       "       0, 0, 1, 0, 0, 1, 0, 0, 0, 0, 0, 0, 1, 0, 1, 0, 0, 1, 1, 1, 1, 0,\n",
       "       1, 0, 0, 0, 0, 0, 1, 1, 0, 1, 1, 0, 1, 0, 1, 0, 0, 1, 0, 0, 1, 1,\n",
       "       0, 0, 1, 0, 0, 1, 1, 1, 0, 1, 0, 1, 1, 0, 0, 0, 0, 0, 1, 0, 0, 1,\n",
       "       0, 0, 0, 0, 1, 0, 1, 0, 1, 1, 0, 0, 0, 0, 0, 0, 0, 0, 0, 0, 0, 1,\n",
       "       1, 1, 0, 0, 1, 1, 1, 0, 1, 1, 0, 0, 0, 1, 0, 1, 0, 0, 0, 1, 0, 1,\n",
       "       0, 0, 1, 0, 0, 1, 1, 0, 0, 0, 0, 0, 0, 0, 1, 1, 0, 0, 1, 0, 0, 1,\n",
       "       0, 0, 1, 0, 0, 0, 0, 0, 0, 0, 0, 1, 0, 0, 0, 0, 0, 0, 0, 1, 0, 0,\n",
       "       0, 0, 0, 1, 0, 0, 1, 1, 0, 0, 0, 1, 0, 1, 0, 1, 1, 0, 0, 0, 0, 1,\n",
       "       0, 0, 1, 0, 0, 0, 0, 0, 0, 1, 1, 1, 0, 0, 0, 0, 0, 1, 0, 1, 1, 1,\n",
       "       0, 0, 0, 0, 0, 0, 0, 1, 1, 1, 0, 0, 0, 0, 0, 1, 0, 0, 1, 1, 0, 0,\n",
       "       0, 0, 1, 1, 1, 1, 1, 0, 0, 0, 0, 0, 1, 1, 0, 0, 1, 0, 0, 0, 0, 0,\n",
       "       1, 1, 0, 0, 1, 0, 0, 0, 0, 0, 0, 0, 0, 0, 1, 0, 1, 0, 0, 0, 0, 1,\n",
       "       0, 0, 1, 1, 0, 0, 1, 1, 0, 0, 0, 1, 0, 0, 0, 1, 0, 1, 0, 1, 0, 0,\n",
       "       0, 0, 1, 0, 1, 0, 0, 0, 0, 1, 1, 1, 0, 0, 0, 0, 1, 0, 1, 0, 0, 0,\n",
       "       0, 0, 0, 0, 1, 0, 0, 0, 0, 1, 1, 1, 0, 0, 0, 1, 0, 1, 0, 0, 0, 0,\n",
       "       0, 0, 1, 0, 0, 0, 1, 0, 0, 1, 0, 0, 0, 1, 0, 1, 1, 1, 0, 0, 0, 1,\n",
       "       0, 0, 0, 0, 0, 0, 1, 0, 0, 0, 0, 0, 0, 1, 0, 0, 1, 1, 1, 0, 1, 1,\n",
       "       1, 0, 0, 0, 1, 0, 0, 1, 1, 0, 0, 1, 0, 1, 0, 0, 1, 1, 0, 0, 0, 1,\n",
       "       1, 0, 1, 0, 0, 0, 0, 1, 0, 0, 0], dtype=int64)"
      ]
     },
     "execution_count": 56,
     "metadata": {},
     "output_type": "execute_result"
    }
   ],
   "source": []
  },
  {
   "cell_type": "markdown",
   "metadata": {},
   "source": [
    "## Logistic Regression"
   ]
  },
  {
   "cell_type": "code",
   "execution_count": 155,
   "metadata": {},
   "outputs": [
    {
     "name": "stdout",
     "output_type": "stream",
     "text": [
      "Accuracy for 10 folds [0.82222222 0.78651685 0.76404494 0.82022472 0.80898876 0.73033708\n",
      " 0.7752809  0.78651685 0.83146067 0.73033708]\n",
      "Mean Accuracy: 0.7855930087390762\n",
      "Standard Deviation of Accuracy 0.034454404727611125\n"
     ]
    }
   ],
   "source": [
    "## Logistic Regression:\n",
    "\n",
    "from sklearn.linear_model import LogisticRegression\n",
    "\n",
    "logreg = LogisticRegression(max_iter=1000)\n",
    "\n",
    "logreg.fit(X_train, Y_train)\n",
    "CV_logreg = cross_val_score(logreg, X_train, Y_train, cv = 10, scoring='accuracy')\n",
    "print('Accuracy for 10 folds', CV_logreg)\n",
    "mean_logreg = CV_logreg.mean()\n",
    "print('Mean Accuracy:', mean_logreg)\n",
    "std_logreg = CV_logreg.std()\n",
    "print('Standard Deviation of Accuracy', std_logreg)\n",
    "\n",
    "# We dont have hyperparameters to tune but we could use best subset selction and regularisation methods\n"
   ]
  },
  {
   "cell_type": "code",
   "execution_count": 156,
   "metadata": {},
   "outputs": [
    {
     "name": "stdout",
     "output_type": "stream",
     "text": [
      "Penalty: l1\n",
      "Tuned Hyperparameters : (Best Parameters)  {'C': 100.0}\n",
      "Accuracy : 0.7956803995006243\n",
      "-------------------------------------\n",
      "0.616 (+/-0.007) for {'C': 0.001}\n",
      "0.741 (+/-0.094) for {'C': 0.01}\n",
      "0.784 (+/-0.069) for {'C': 0.1}\n",
      "0.784 (+/-0.060) for {'C': 1.0}\n",
      "0.793 (+/-0.073) for {'C': 10.0}\n",
      "0.796 (+/-0.073) for {'C': 100.0}\n",
      "0.795 (+/-0.070) for {'C': 1000.0}\n",
      "-------------------------------------\n",
      "-------------------------------------\n",
      "Penalty: l2\n",
      "Tuned Hyperparameters : (Best Parameters)  {'C': 100.0}\n",
      "Accuracy : 0.7956803995006243\n",
      "-------------------------------------\n",
      "0.707 (+/-0.053) for {'C': 0.001}\n",
      "0.775 (+/-0.078) for {'C': 0.01}\n",
      "0.780 (+/-0.066) for {'C': 0.1}\n",
      "0.786 (+/-0.069) for {'C': 1.0}\n",
      "0.792 (+/-0.074) for {'C': 10.0}\n",
      "0.796 (+/-0.073) for {'C': 100.0}\n",
      "0.795 (+/-0.070) for {'C': 1000.0}\n",
      "-------------------------------------\n",
      "-------------------------------------\n"
     ]
    }
   ],
   "source": [
    "from sklearn.model_selection import GridSearchCV\n",
    "\n",
    "# Might need a special grid for logisitic regression. Or even tailored to each classifier.\n",
    "grid={\"C\":np.logspace(-3,3,7)}\n",
    "logreg_l1 = LogisticRegression(penalty = 'l1', solver='liblinear',max_iter=1000) #LASSO\n",
    "logreg_l2 = LogisticRegression(penalty = 'l2',max_iter=1000) #Ridge\n",
    "# logreg_elas = LogisticRegression(penalty = 'elasticnet' , solver = 'saga') leave this for now if adding need put in vector below\n",
    "regs = [logreg_l1, logreg_l2]\n",
    "\n",
    "\n",
    "for logreg in regs:\n",
    "    CV_logreg=GridSearchCV(logreg , grid , cv=10)\n",
    "    CV_logreg.fit(X_train, Y_train)\n",
    "    print(\"Penalty:\" , logreg.penalty )\n",
    "    print(\"Tuned Hyperparameters : (Best Parameters) \",CV_logreg.best_params_)\n",
    "    print(\"Accuracy :\",CV_logreg.best_score_)\n",
    "    print('-------------------------------------')\n",
    "    means = CV_logreg.cv_results_['mean_test_score']\n",
    "    stds = CV_logreg.cv_results_['std_test_score']\n",
    "    \n",
    "    for mean, std, params in zip(means, stds, CV_logreg.cv_results_['params']):\n",
    "        print(\"%0.3f (+/-%0.03f) for %r\"\n",
    "              % (mean, std * 2, params))\n",
    "    print('-------------------------------------')\n",
    "    print('-------------------------------------')\n",
    "\n"
   ]
  },
  {
   "cell_type": "code",
   "execution_count": 28,
   "metadata": {},
   "outputs": [
    {
     "data": {
      "text/plain": [
       "dict_keys(['C', 'class_weight', 'dual', 'fit_intercept', 'intercept_scaling', 'l1_ratio', 'max_iter', 'multi_class', 'n_jobs', 'penalty', 'random_state', 'solver', 'tol', 'verbose', 'warm_start'])"
      ]
     },
     "execution_count": 28,
     "metadata": {},
     "output_type": "execute_result"
    }
   ],
   "source": [
    "logreg.get_params().keys()"
   ]
  },
  {
   "cell_type": "code",
   "execution_count": 29,
   "metadata": {},
   "outputs": [
    {
     "data": {
      "text/plain": [
       "dict_keys(['cv', 'error_score', 'estimator__C', 'estimator__class_weight', 'estimator__dual', 'estimator__fit_intercept', 'estimator__intercept_scaling', 'estimator__l1_ratio', 'estimator__max_iter', 'estimator__multi_class', 'estimator__n_jobs', 'estimator__penalty', 'estimator__random_state', 'estimator__solver', 'estimator__tol', 'estimator__verbose', 'estimator__warm_start', 'estimator', 'iid', 'n_jobs', 'param_grid', 'pre_dispatch', 'refit', 'return_train_score', 'scoring', 'verbose'])"
      ]
     },
     "execution_count": 29,
     "metadata": {},
     "output_type": "execute_result"
    }
   ],
   "source": [
    "CV_logreg.get_params().keys()"
   ]
  },
  {
   "cell_type": "code",
   "execution_count": 157,
   "metadata": {},
   "outputs": [],
   "source": [
    "# Fit best models in each case. \n",
    "\n",
    "LR_L1 = LogisticRegression(C=100, penalty='l1', solver = 'liblinear',max_iter=1000).fit(X_train, Y_train)\n",
    "LR_L2 = LogisticRegression(C=100, penalty='l2',max_iter=1000).fit(X_train, Y_train)\n",
    "\n",
    "# Extract scores:\n",
    "CV_LR_L1 = cross_val_score( LR_L1 , X_train, Y_train, cv = 10, scoring='accuracy')\n",
    "mean_lasso = CV_LR_L1.mean()\n",
    "std_lasso = CV_LR_L1.std()\n",
    "\n",
    "CV_LR_L2 = cross_val_score( LR_L2, X_train, Y_train, cv = 10, scoring='accuracy')\n",
    "mean_ridge = CV_LR_L2.mean()\n",
    "std_ridge = CV_LR_L2.std()\n"
   ]
  },
  {
   "cell_type": "code",
   "execution_count": 32,
   "metadata": {},
   "outputs": [
    {
     "name": "stdout",
     "output_type": "stream",
     "text": [
      "logistic_regression (L1) accuracy: 0.7631578947368421\n",
      "logistic_regression (L2) accuracy: 0.7607655502392344\n"
     ]
    }
   ],
   "source": [
    "from sklearn.metrics import accuracy_score\n",
    "\n",
    "#print('logistic_regression (L1) accuracy:',accuracy_score(Y_test, LR_L1.predict(X_test)))\n",
    "#print('logistic_regression (L2) accuracy:',accuracy_score(Y_test, LR_L2.predict(X_test)))"
   ]
  },
  {
   "cell_type": "code",
   "execution_count": 158,
   "metadata": {},
   "outputs": [],
   "source": [
    "from sklearn.metrics import classification_report, confusion_matrix\n",
    "\n",
    "# LASSO:\n",
    "    \n",
    "Y_pred_L1 = LR_L1.predict(X_train)\n",
    "\n",
    "# Saving other metric (Recall, Precision, F1-Score)\n",
    "\n",
    "report = classification_report(Y_train, Y_pred_L1, output_dict=True)\n",
    "recall_L1 = report['0']['recall']\n",
    "precision_L1 = report['0']['precision']\n",
    "f1_L1 = report['0']['f1-score']\n",
    "\n",
    "# Ridge\n",
    "\n",
    "Y_pred_L2 = LR_L2.predict(X_train)\n",
    "\n",
    "# Saving other metric (Recall, Precision, F1-Score)\n",
    "\n",
    "report = classification_report(Y_train, Y_pred_L2, output_dict=True)\n",
    "recall_L2 = report['0']['recall']\n",
    "precision_L2 = report['0']['precision']\n",
    "f1_L2 = report['0']['f1-score']"
   ]
  },
  {
   "cell_type": "code",
   "execution_count": 160,
   "metadata": {},
   "outputs": [
    {
     "data": {
      "text/plain": [
       "0.8381962864721486"
      ]
     },
     "execution_count": 160,
     "metadata": {},
     "output_type": "execute_result"
    }
   ],
   "source": [
    "f1_L2"
   ]
  },
  {
   "cell_type": "code",
   "execution_count": 17,
   "metadata": {},
   "outputs": [],
   "source": [
    "# Feature Importance:\n",
    "def plot_coefficients(classifier, feature_names, clf_id, top_features=4):\n",
    "    coef = classifier.coef_.ravel()\n",
    "    top_positive_coefficients = np.argsort(coef)[-top_features:]\n",
    "    top_negative_coefficients = np.argsort(coef)[:top_features]\n",
    "    top_coefficients = np.hstack([top_negative_coefficients, top_positive_coefficients])\n",
    " # create plot\n",
    "    plt.figure(figsize=(15, 5))\n",
    "    plt.title(clf_id)\n",
    "    colors = ['red' if c < 0 else 'blue' for c in coef[top_coefficients]]\n",
    "    plt.bar(np.arange(2 * top_features), coef[top_coefficients], color=colors)\n",
    "    feature_names = np.array(feature_names)\n",
    "    plt.xticks(np.arange(0, 2 * top_features), feature_names[top_coefficients], rotation=0)\n",
    "    plt.show()"
   ]
  },
  {
   "cell_type": "code",
   "execution_count": 18,
   "metadata": {
    "scrolled": false
   },
   "outputs": [
    {
     "name": "stdout",
     "output_type": "stream",
     "text": [
      "logistic_regression (L1) accuracy: 0.797979797979798\n"
     ]
    },
    {
     "data": {
      "image/png": "[encoded data removed]",
      "text/plain": [
       "<Figure size 1080x360 with 1 Axes>"
      ]
     },
     "metadata": {
      "needs_background": "light"
     },
     "output_type": "display_data"
    }
   ],
   "source": [
    "from sklearn.metrics import accuracy_score\n",
    "\n",
    "print('logistic_regression (L1) accuracy:',accuracy_score(Y_train, LR_L1.predict(X_train)))\n",
    "plot_coefficients(LR_L1, X_names, 'Logistic Regression (L1)', top_features = 3)"
   ]
  },
  {
   "cell_type": "code",
   "execution_count": 19,
   "metadata": {
    "scrolled": false
   },
   "outputs": [
    {
     "name": "stdout",
     "output_type": "stream",
     "text": [
      "logistic_regression (L2) accuracy: 0.797979797979798\n"
     ]
    },
    {
     "data": {
      "image/png": "[encoded data removed]",
      "text/plain": [
       "<Figure size 1080x360 with 1 Axes>"
      ]
     },
     "metadata": {
      "needs_background": "light"
     },
     "output_type": "display_data"
    }
   ],
   "source": [
    "print('logistic_regression (L2) accuracy:',accuracy_score(Y_train, LR_L2.predict(X_train)))\n",
    "plot_coefficients(LR_L2, X_names, 'Logistic Regression (L2)', top_features=3)"
   ]
  },
  {
   "cell_type": "markdown",
   "metadata": {},
   "source": [
    "## Decision Tree and Random Forest"
   ]
  },
  {
   "cell_type": "code",
   "execution_count": 162,
   "metadata": {},
   "outputs": [
    {
     "name": "stdout",
     "output_type": "stream",
     "text": [
      "87.32\n"
     ]
    }
   ],
   "source": [
    "## Random Forest\n",
    "\n",
    "from sklearn.ensemble import RandomForestClassifier\n",
    "from sklearn.tree import DecisionTreeClassifier, plot_tree \n",
    "\n",
    "#parameters = [{'kernel': ['linear'],\n",
    "#                #'gamma': [1e-6, 1e-5, 1e-4],\n",
    "#                'C': [0.1, 1, 10, 100, 1000]}]\n",
    "\n",
    "\n",
    "#print(\"# Tuning hyper-parameters\")\n",
    "#clf = GridSearchCV(logreg, parameters, cv=10)\n",
    "#clf.fit(X_train, Y_train)\n",
    "\n",
    "\n",
    "#print('best parameters:')\n",
    "#print(clf.best_params_)\n",
    "#print('-------------------------------------')\n",
    "#means = clf.cv_results_['mean_test_score']\n",
    "#stds = clf.cv_results_['std_test_score']\n",
    "#for mean, std, params in zip(means, stds, clf.cv_results_['params']):\n",
    "#    print(\"%0.3f (+/-%0.03f) for %r\"\n",
    "#          % (mean, std * 2, params))\n",
    "\n",
    "random_forest = RandomForestClassifier(criterion = 'entropy' , n_estimators=100)\n",
    "random_forest.fit(X_train, Y_train)\n",
    "\n",
    "CV_random_forest = cross_val_score( random_forest, X_train, Y_train, cv = 10, scoring='accuracy')\n",
    "mean_random_forest = CV_random_forest.mean()\n",
    "std_random_forest = CV_random_forest.std()\n",
    "#Y_prediction = random_forest.predict(X_test)\n",
    "\n",
    "random_forest.score(X_train, Y_train)\n",
    "acc_random_forest = round(random_forest.score(X_train, Y_train) * 100, 2)\n",
    "print(acc_random_forest)\n",
    "\n",
    "\n",
    "RF = RandomForestClassifier(criterion='entropy',n_estimators=1000).fit(X_train, Y_train)\n",
    "\n",
    "#print('Random Forest accuracy:',accuracy_score(Y_test, RF.predict(X_test)))\n"
   ]
  },
  {
   "cell_type": "code",
   "execution_count": 163,
   "metadata": {},
   "outputs": [
    {
     "data": {
      "text/plain": [
       "0.8272159800249689"
      ]
     },
     "execution_count": 163,
     "metadata": {},
     "output_type": "execute_result"
    }
   ],
   "source": [
    "mean_random_forest"
   ]
  },
  {
   "cell_type": "code",
   "execution_count": 181,
   "metadata": {},
   "outputs": [],
   "source": [
    "Y_pred_RF = random_forest.predict(X_train)\n",
    "\n",
    "# Saving other metric (Recall, Precision, F1-Score)\n",
    "\n",
    "report = classification_report(Y_train, Y_pred_RF, output_dict=True)\n",
    "recall_RF = report['0']['recall']\n",
    "precision_RF = report['0']['precision']\n",
    "f1_RF = report['0']['f1-score']"
   ]
  },
  {
   "cell_type": "code",
   "execution_count": 165,
   "metadata": {},
   "outputs": [
    {
     "name": "stdout",
     "output_type": "stream",
     "text": [
      "87.32\n"
     ]
    }
   ],
   "source": [
    "# Decision Tree\n",
    "\n",
    "decision_tree = DecisionTreeClassifier(criterion = 'entropy' , max_depth=100) # Can change max depth\n",
    "decision_tree.fit(X_train, Y_train)\n",
    "\n",
    "CV_decision_tree = cross_val_score( decision_tree, X_train, Y_train, cv = 10, scoring='accuracy')\n",
    "mean_decision_tree = CV_decision_tree.mean()\n",
    "std_decision_tree = CV_decision_tree.std()\n",
    "#Y_prediction = random_forest.predict(X_test)\n",
    "\n",
    "decision_tree.score(X_train, Y_train)\n",
    "acc_decision_tree = round(decision_tree.score(X_train, Y_train) * 100, 2)\n",
    "print(acc_decision_tree)"
   ]
  },
  {
   "cell_type": "code",
   "execution_count": 166,
   "metadata": {},
   "outputs": [
    {
     "data": {
      "text/plain": [
       "0.8126466916354558"
      ]
     },
     "execution_count": 166,
     "metadata": {},
     "output_type": "execute_result"
    }
   ],
   "source": [
    "mean_decision_tree"
   ]
  },
  {
   "cell_type": "code",
   "execution_count": 180,
   "metadata": {},
   "outputs": [],
   "source": [
    "Y_pred_DT = decision_tree.predict(X_train)\n",
    "\n",
    "# Saving other metric (Recall, Precision, F1-Score)\n",
    "\n",
    "report = classification_report(Y_train, Y_pred_DT, output_dict=True)\n",
    "recall_DT = report['0']['recall']\n",
    "precision_DT = report['0']['precision']\n",
    "f1_DT = report['0']['f1-score']"
   ]
  },
  {
   "cell_type": "code",
   "execution_count": 35,
   "metadata": {},
   "outputs": [],
   "source": [
    "# for tree-based classifier's feature importance plotting\n",
    "def plot_keyFeat_trees(classifier, feature_names, clf_id, top_features=5):\n",
    "    importances = classifier.feature_importances_\n",
    "    indices = np.argsort(importances)[::-1]\n",
    "    indices_vis = indices[:top_features]\n",
    "    \n",
    "    plt.figure()\n",
    "    plt.figure(figsize=(15, 5))\n",
    "    plt.title(clf_id)\n",
    "    plt.bar(range(top_features), importances[indices_vis],\n",
    "       color=\"r\", align=\"center\")\n",
    "    plt.xticks(range(top_features), indices)\n",
    "    plt.xlim([-1, top_features])\n",
    "    feature_names = np.array(feature_names)\n",
    "    plt.xticks(np.arange(0, top_features), feature_names[indices_vis], rotation=60, ha='right')\n",
    "    plt.show()"
   ]
  },
  {
   "cell_type": "code",
   "execution_count": 337,
   "metadata": {
    "scrolled": true
   },
   "outputs": [
    {
     "data": {
      "image/png": "[encoded data removed]",
      "text/plain": [
       "<Figure size 432x288 with 1 Axes>"
      ]
     },
     "metadata": {
      "needs_background": "light"
     },
     "output_type": "display_data"
    }
   ],
   "source": [
    "plot_tree(decision_tree.fit(X_train, Y_train), filled=True)\n",
    "plt.show()"
   ]
  },
  {
   "cell_type": "code",
   "execution_count": 27,
   "metadata": {},
   "outputs": [
    {
     "data": {
      "text/html": [
       "<div>\n",
       "<style scoped>\n",
       "    .dataframe tbody tr th:only-of-type {\n",
       "        vertical-align: middle;\n",
       "    }\n",
       "\n",
       "    .dataframe tbody tr th {\n",
       "        vertical-align: top;\n",
       "    }\n",
       "\n",
       "    .dataframe thead th {\n",
       "        text-align: right;\n",
       "    }\n",
       "</style>\n",
       "<table border=\"1\" class=\"dataframe\">\n",
       "  <thead>\n",
       "    <tr style=\"text-align: right;\">\n",
       "      <th></th>\n",
       "      <th>Importance</th>\n",
       "    </tr>\n",
       "    <tr>\n",
       "      <th>Feature</th>\n",
       "      <th></th>\n",
       "    </tr>\n",
       "  </thead>\n",
       "  <tbody>\n",
       "    <tr>\n",
       "      <th>Title</th>\n",
       "      <td>0.232</td>\n",
       "    </tr>\n",
       "    <tr>\n",
       "      <th>Sex</th>\n",
       "      <td>0.185</td>\n",
       "    </tr>\n",
       "    <tr>\n",
       "      <th>Pclass</th>\n",
       "      <td>0.140</td>\n",
       "    </tr>\n",
       "    <tr>\n",
       "      <th>Deck</th>\n",
       "      <td>0.133</td>\n",
       "    </tr>\n",
       "    <tr>\n",
       "      <th>Age_Level</th>\n",
       "      <td>0.131</td>\n",
       "    </tr>\n",
       "    <tr>\n",
       "      <th>GroupSize</th>\n",
       "      <td>0.110</td>\n",
       "    </tr>\n",
       "    <tr>\n",
       "      <th>Embarked</th>\n",
       "      <td>0.070</td>\n",
       "    </tr>\n",
       "  </tbody>\n",
       "</table>\n",
       "</div>"
      ],
      "text/plain": [
       "           Importance\n",
       "Feature              \n",
       "Title           0.232\n",
       "Sex             0.185\n",
       "Pclass          0.140\n",
       "Deck            0.133\n",
       "Age_Level       0.131\n",
       "GroupSize       0.110\n",
       "Embarked        0.070"
      ]
     },
     "execution_count": 27,
     "metadata": {},
     "output_type": "execute_result"
    }
   ],
   "source": [
    "importances_RF = pd.DataFrame({'Feature':X_train.columns,'Importance':np.round(random_forest.feature_importances_,3)})\n",
    "importances_RF = importances_RF.sort_values('Importance',ascending=False).set_index('Feature')\n",
    "importances_RF.head(10)"
   ]
  },
  {
   "cell_type": "code",
   "execution_count": 28,
   "metadata": {},
   "outputs": [
    {
     "name": "stderr",
     "output_type": "stream",
     "text": [
      "C:\\Users\\Lenovo\\anaconda3\\lib\\site-packages\\pandas\\plotting\\_matplotlib\\core.py:1373: MatplotlibDeprecationWarning: Using a string of single character colors as a color sequence is deprecated since 3.2 and will be removed two minor releases later. Use an explicit list instead.\n",
      "  return ax.bar(x, y, w, bottom=start, log=log, **kwds)\n"
     ]
    },
    {
     "data": {
      "text/plain": [
       "<AxesSubplot:xlabel='Feature'>"
      ]
     },
     "execution_count": 28,
     "metadata": {},
     "output_type": "execute_result"
    },
    {
     "data": {
      "image/png": "[encoded data removed]",
      "text/plain": [
       "<Figure size 432x288 with 1 Axes>"
      ]
     },
     "metadata": {
      "needs_background": "light"
     },
     "output_type": "display_data"
    }
   ],
   "source": [
    "\n",
    "#Plot the data:\n",
    "my_colours = list('rgbkymc')  #red, green, blue, black, etc.\n",
    "importances_RF.plot.bar(color = 'rgbkymc')"
   ]
  },
  {
   "cell_type": "code",
   "execution_count": 30,
   "metadata": {},
   "outputs": [
    {
     "data": {
      "text/html": [
       "<div>\n",
       "<style scoped>\n",
       "    .dataframe tbody tr th:only-of-type {\n",
       "        vertical-align: middle;\n",
       "    }\n",
       "\n",
       "    .dataframe tbody tr th {\n",
       "        vertical-align: top;\n",
       "    }\n",
       "\n",
       "    .dataframe thead th {\n",
       "        text-align: right;\n",
       "    }\n",
       "</style>\n",
       "<table border=\"1\" class=\"dataframe\">\n",
       "  <thead>\n",
       "    <tr style=\"text-align: right;\">\n",
       "      <th></th>\n",
       "      <th>Importance</th>\n",
       "    </tr>\n",
       "    <tr>\n",
       "      <th>Feature</th>\n",
       "      <th></th>\n",
       "    </tr>\n",
       "  </thead>\n",
       "  <tbody>\n",
       "    <tr>\n",
       "      <th>Title</th>\n",
       "      <td>0.457</td>\n",
       "    </tr>\n",
       "    <tr>\n",
       "      <th>Pclass</th>\n",
       "      <td>0.173</td>\n",
       "    </tr>\n",
       "    <tr>\n",
       "      <th>Deck</th>\n",
       "      <td>0.103</td>\n",
       "    </tr>\n",
       "    <tr>\n",
       "      <th>Age_Level</th>\n",
       "      <td>0.102</td>\n",
       "    </tr>\n",
       "    <tr>\n",
       "      <th>GroupSize</th>\n",
       "      <td>0.097</td>\n",
       "    </tr>\n",
       "    <tr>\n",
       "      <th>Embarked</th>\n",
       "      <td>0.066</td>\n",
       "    </tr>\n",
       "    <tr>\n",
       "      <th>Sex</th>\n",
       "      <td>0.002</td>\n",
       "    </tr>\n",
       "  </tbody>\n",
       "</table>\n",
       "</div>"
      ],
      "text/plain": [
       "           Importance\n",
       "Feature              \n",
       "Title           0.457\n",
       "Pclass          0.173\n",
       "Deck            0.103\n",
       "Age_Level       0.102\n",
       "GroupSize       0.097\n",
       "Embarked        0.066\n",
       "Sex             0.002"
      ]
     },
     "execution_count": 30,
     "metadata": {},
     "output_type": "execute_result"
    }
   ],
   "source": [
    "importances_DT = pd.DataFrame({'Feature':X_train.columns,'Importance':np.round(decision_tree.feature_importances_,3)})\n",
    "importances_DT = importances_DT.sort_values('Importance',ascending=False).set_index('Feature')\n",
    "importances_DT.head(10)"
   ]
  },
  {
   "cell_type": "code",
   "execution_count": 188,
   "metadata": {},
   "outputs": [
    {
     "name": "stderr",
     "output_type": "stream",
     "text": [
      "C:\\Users\\Lenovo\\anaconda3\\lib\\site-packages\\pandas\\plotting\\_matplotlib\\core.py:1373: MatplotlibDeprecationWarning: Using a string of single character colors as a color sequence is deprecated since 3.2 and will be removed two minor releases later. Use an explicit list instead.\n",
      "  return ax.bar(x, y, w, bottom=start, log=log, **kwds)\n"
     ]
    },
    {
     "data": {
      "text/plain": [
       "<AxesSubplot:xlabel='Feature'>"
      ]
     },
     "execution_count": 188,
     "metadata": {},
     "output_type": "execute_result"
    },
    {
     "data": {
      "image/png": "[encoded data removed]",
      "text/plain": [
       "<Figure size 432x288 with 1 Axes>"
      ]
     },
     "metadata": {
      "needs_background": "light"
     },
     "output_type": "display_data"
    }
   ],
   "source": [
    "#Plot the data:\n",
    "my_colours = list('rgbkymc')  #red, green, blue, black, etc.\n",
    "importances_DT.plot.bar(color = 'rgbkymc')"
   ]
  },
  {
   "cell_type": "code",
   "execution_count": null,
   "metadata": {},
   "outputs": [],
   "source": [
    "### Gradient Booster:"
   ]
  },
  {
   "cell_type": "code",
   "execution_count": 93,
   "metadata": {},
   "outputs": [
    {
     "ename": "ImportError",
     "evalue": "cannot import name 'cross_validation' from 'sklearn' (C:\\Users\\Lenovo\\anaconda3\\lib\\site-packages\\sklearn\\__init__.py)",
     "output_type": "error",
     "traceback": [
      "\u001b[1;31m---------------------------------------------------------------------------\u001b[0m",
      "\u001b[1;31mImportError\u001b[0m                               Traceback (most recent call last)",
      "\u001b[1;32m<ipython-input-93-8bbc2cd94b0b>\u001b[0m in \u001b[0;36m<module>\u001b[1;34m\u001b[0m\n\u001b[0;32m      1\u001b[0m \u001b[1;32mimport\u001b[0m \u001b[0msklearn\u001b[0m\u001b[1;33m.\u001b[0m\u001b[0mensemble\u001b[0m \u001b[1;32mas\u001b[0m \u001b[0mske\u001b[0m\u001b[1;33m\u001b[0m\u001b[1;33m\u001b[0m\u001b[0m\n\u001b[1;32m----> 2\u001b[1;33m \u001b[1;32mfrom\u001b[0m \u001b[0msklearn\u001b[0m \u001b[1;32mimport\u001b[0m \u001b[0mcross_validation\u001b[0m\u001b[1;33m\u001b[0m\u001b[1;33m\u001b[0m\u001b[0m\n\u001b[0m\u001b[0;32m      3\u001b[0m \u001b[1;33m\u001b[0m\u001b[0m\n\u001b[0;32m      4\u001b[0m \u001b[0mshuffle_validator\u001b[0m \u001b[1;33m=\u001b[0m \u001b[0mcross_validation\u001b[0m\u001b[1;33m.\u001b[0m\u001b[0mShuffleSplit\u001b[0m\u001b[1;33m(\u001b[0m\u001b[0mlen\u001b[0m\u001b[1;33m(\u001b[0m\u001b[0mX_train\u001b[0m\u001b[1;33m)\u001b[0m\u001b[1;33m,\u001b[0m \u001b[0mn_iter\u001b[0m\u001b[1;33m=\u001b[0m\u001b[1;36m20\u001b[0m\u001b[1;33m,\u001b[0m \u001b[0mtest_size\u001b[0m\u001b[1;33m=\u001b[0m\u001b[1;36m0.2\u001b[0m\u001b[1;33m,\u001b[0m \u001b[0mrandom_state\u001b[0m\u001b[1;33m=\u001b[0m\u001b[1;36m0\u001b[0m\u001b[1;33m)\u001b[0m\u001b[1;33m\u001b[0m\u001b[1;33m\u001b[0m\u001b[0m\n\u001b[0;32m      5\u001b[0m \u001b[1;33m\u001b[0m\u001b[0m\n",
      "\u001b[1;31mImportError\u001b[0m: cannot import name 'cross_validation' from 'sklearn' (C:\\Users\\Lenovo\\anaconda3\\lib\\site-packages\\sklearn\\__init__.py)"
     ]
    }
   ],
   "source": [
    "import sklearn.ensemble as ske\n",
    "from sklearn import cross_validation\n",
    "\n",
    "shuffle_validator = cross_validation.ShuffleSplit(len(X_train), n_iter=20, test_size=0.2, random_state=0)\n",
    "\n",
    "def test_classifier(clf):\n",
    "    scores = cross_validation.cross_val_score(clf, X_train, Y_train, cv=shuffle_validator)\n",
    "    print(\"Accuracy: %0.4f (+/- %0.2f)\" % (scores.mean(), scores.std()))\n",
    "\n",
    "clf_gb = ske.GradientBoostingClassifier(n_estimators=50)\n",
    "test_classifier(clf_gb)"
   ]
  },
  {
   "cell_type": "code",
   "execution_count": null,
   "metadata": {},
   "outputs": [],
   "source": []
  },
  {
   "cell_type": "markdown",
   "metadata": {},
   "source": [
    "## Support Vector Machine"
   ]
  },
  {
   "cell_type": "code",
   "execution_count": 44,
   "metadata": {},
   "outputs": [
    {
     "name": "stdout",
     "output_type": "stream",
     "text": [
      "# Tuning hyper-parameters\n",
      "best parameters:\n",
      "{'C': 100, 'gamma': 0.0001, 'kernel': 'rbf'}\n",
      "-------------------------------------\n",
      "0.787 (+/-0.057) for {'C': 0.1, 'gamma': 1e-06, 'kernel': 'linear'}\n",
      "0.616 (+/-0.007) for {'C': 0.1, 'gamma': 1e-06, 'kernel': 'rbf'}\n",
      "0.787 (+/-0.057) for {'C': 0.1, 'gamma': 1e-05, 'kernel': 'linear'}\n",
      "0.616 (+/-0.007) for {'C': 0.1, 'gamma': 1e-05, 'kernel': 'rbf'}\n",
      "0.787 (+/-0.057) for {'C': 0.1, 'gamma': 0.0001, 'kernel': 'linear'}\n",
      "0.616 (+/-0.007) for {'C': 0.1, 'gamma': 0.0001, 'kernel': 'rbf'}\n",
      "0.787 (+/-0.057) for {'C': 1, 'gamma': 1e-06, 'kernel': 'linear'}\n",
      "0.616 (+/-0.007) for {'C': 1, 'gamma': 1e-06, 'kernel': 'rbf'}\n",
      "0.787 (+/-0.057) for {'C': 1, 'gamma': 1e-05, 'kernel': 'linear'}\n",
      "0.616 (+/-0.007) for {'C': 1, 'gamma': 1e-05, 'kernel': 'rbf'}\n",
      "0.787 (+/-0.057) for {'C': 1, 'gamma': 0.0001, 'kernel': 'linear'}\n",
      "0.616 (+/-0.007) for {'C': 1, 'gamma': 0.0001, 'kernel': 'rbf'}\n",
      "0.787 (+/-0.057) for {'C': 10, 'gamma': 1e-06, 'kernel': 'linear'}\n",
      "0.616 (+/-0.007) for {'C': 10, 'gamma': 1e-06, 'kernel': 'rbf'}\n",
      "0.787 (+/-0.057) for {'C': 10, 'gamma': 1e-05, 'kernel': 'linear'}\n",
      "0.616 (+/-0.007) for {'C': 10, 'gamma': 1e-05, 'kernel': 'rbf'}\n",
      "0.787 (+/-0.057) for {'C': 10, 'gamma': 0.0001, 'kernel': 'linear'}\n",
      "0.788 (+/-0.053) for {'C': 10, 'gamma': 0.0001, 'kernel': 'rbf'}\n",
      "0.787 (+/-0.057) for {'C': 100, 'gamma': 1e-06, 'kernel': 'linear'}\n",
      "0.616 (+/-0.007) for {'C': 100, 'gamma': 1e-06, 'kernel': 'rbf'}\n",
      "0.787 (+/-0.057) for {'C': 100, 'gamma': 1e-05, 'kernel': 'linear'}\n",
      "0.788 (+/-0.053) for {'C': 100, 'gamma': 1e-05, 'kernel': 'rbf'}\n",
      "0.787 (+/-0.057) for {'C': 100, 'gamma': 0.0001, 'kernel': 'linear'}\n",
      "0.789 (+/-0.061) for {'C': 100, 'gamma': 0.0001, 'kernel': 'rbf'}\n",
      "0.787 (+/-0.057) for {'C': 1000, 'gamma': 1e-06, 'kernel': 'linear'}\n",
      "0.788 (+/-0.053) for {'C': 1000, 'gamma': 1e-06, 'kernel': 'rbf'}\n",
      "0.787 (+/-0.057) for {'C': 1000, 'gamma': 1e-05, 'kernel': 'linear'}\n",
      "0.789 (+/-0.061) for {'C': 1000, 'gamma': 1e-05, 'kernel': 'rbf'}\n",
      "0.787 (+/-0.057) for {'C': 1000, 'gamma': 0.0001, 'kernel': 'linear'}\n",
      "0.787 (+/-0.057) for {'C': 1000, 'gamma': 0.0001, 'kernel': 'rbf'}\n"
     ]
    }
   ],
   "source": [
    "from sklearn.svm import SVC\n",
    "\n",
    "parameters = [{'kernel': ['linear', 'rbf'],\n",
    "                'gamma': [1e-6, 1e-5, 1e-4],\n",
    "                'C': [0.1, 1, 10, 100, 1000]}]\n",
    "\n",
    "\n",
    "print(\"# Tuning hyper-parameters\")\n",
    "clf = GridSearchCV(SVC(), parameters, cv=10)\n",
    "clf.fit(X_train, Y_train)\n",
    "\n",
    "\n",
    "print('best parameters:')\n",
    "print(clf.best_params_)\n",
    "print('-------------------------------------')\n",
    "means = clf.cv_results_['mean_test_score']\n",
    "stds = clf.cv_results_['std_test_score']\n",
    "for mean, std, params in zip(means, stds, clf.cv_results_['params']):\n",
    "    print(\"%0.3f (+/-%0.03f) for %r\"\n",
    "          % (mean, std * 2, params))"
   ]
  },
  {
   "cell_type": "code",
   "execution_count": 169,
   "metadata": {},
   "outputs": [
    {
     "name": "stdout",
     "output_type": "stream",
     "text": [
      "# Tuning hyper-parameters\n",
      "best parameters:\n",
      "{'C': 0.1, 'gamma': 1e-06, 'kernel': 'linear'}\n",
      "-------------------------------------\n",
      "0.787 (+/-0.057) for {'C': 0.1, 'gamma': 1e-06, 'kernel': 'linear'}\n",
      "0.787 (+/-0.057) for {'C': 0.1, 'gamma': 1e-05, 'kernel': 'linear'}\n",
      "0.787 (+/-0.057) for {'C': 0.1, 'gamma': 0.0001, 'kernel': 'linear'}\n",
      "0.787 (+/-0.057) for {'C': 1, 'gamma': 1e-06, 'kernel': 'linear'}\n",
      "0.787 (+/-0.057) for {'C': 1, 'gamma': 1e-05, 'kernel': 'linear'}\n",
      "0.787 (+/-0.057) for {'C': 1, 'gamma': 0.0001, 'kernel': 'linear'}\n",
      "0.787 (+/-0.057) for {'C': 10, 'gamma': 1e-06, 'kernel': 'linear'}\n",
      "0.787 (+/-0.057) for {'C': 10, 'gamma': 1e-05, 'kernel': 'linear'}\n",
      "0.787 (+/-0.057) for {'C': 10, 'gamma': 0.0001, 'kernel': 'linear'}\n",
      "0.787 (+/-0.057) for {'C': 100, 'gamma': 1e-06, 'kernel': 'linear'}\n",
      "0.787 (+/-0.057) for {'C': 100, 'gamma': 1e-05, 'kernel': 'linear'}\n",
      "0.787 (+/-0.057) for {'C': 100, 'gamma': 0.0001, 'kernel': 'linear'}\n",
      "# Tuning hyper-parameters\n",
      "best parameters:\n",
      "{'C': 100, 'gamma': 0.0001, 'kernel': 'rbf'}\n",
      "-------------------------------------\n",
      "0.616 (+/-0.007) for {'C': 0.1, 'gamma': 1e-06, 'kernel': 'rbf'}\n",
      "0.616 (+/-0.007) for {'C': 0.1, 'gamma': 1e-05, 'kernel': 'rbf'}\n",
      "0.616 (+/-0.007) for {'C': 0.1, 'gamma': 0.0001, 'kernel': 'rbf'}\n",
      "0.616 (+/-0.007) for {'C': 1, 'gamma': 1e-06, 'kernel': 'rbf'}\n",
      "0.616 (+/-0.007) for {'C': 1, 'gamma': 1e-05, 'kernel': 'rbf'}\n",
      "0.616 (+/-0.007) for {'C': 1, 'gamma': 0.0001, 'kernel': 'rbf'}\n",
      "0.616 (+/-0.007) for {'C': 10, 'gamma': 1e-06, 'kernel': 'rbf'}\n",
      "0.616 (+/-0.007) for {'C': 10, 'gamma': 1e-05, 'kernel': 'rbf'}\n",
      "0.784 (+/-0.054) for {'C': 10, 'gamma': 0.0001, 'kernel': 'rbf'}\n",
      "0.616 (+/-0.007) for {'C': 100, 'gamma': 1e-06, 'kernel': 'rbf'}\n",
      "0.784 (+/-0.054) for {'C': 100, 'gamma': 1e-05, 'kernel': 'rbf'}\n",
      "0.788 (+/-0.057) for {'C': 100, 'gamma': 0.0001, 'kernel': 'rbf'}\n"
     ]
    }
   ],
   "source": [
    "from sklearn.svm import SVC\n",
    "# Can split up into Linear and Rbf. \n",
    "\n",
    "# Linear: ___________________________________\n",
    "\n",
    "parameters = [{'kernel': ['linear'],\n",
    "                'gamma': [1e-6, 1e-5, 1e-4],\n",
    "                'C': [0.1, 1, 10, 100]}]\n",
    "\n",
    "print(\"# Tuning hyper-parameters\")\n",
    "clf = GridSearchCV(SVC(), parameters, cv=10)\n",
    "clf.fit(X_train, Y_train)\n",
    "\n",
    "print('best parameters:')\n",
    "print(clf.best_params_)\n",
    "print('-------------------------------------')\n",
    "means = clf.cv_results_['mean_test_score']\n",
    "stds = clf.cv_results_['std_test_score']\n",
    "for mean, std, params in zip(means, stds, clf.cv_results_['params']):\n",
    "    print(\"%0.3f (+/-%0.03f) for %r\"\n",
    "          % (mean, std * 2, params))\n",
    "linear = pd.DataFrame({'mean' : means , 'std' : stds , 'C' : clf.cv_results_['param_C'].data,\n",
    "                       'gamma' : clf.cv_results_['param_gamma'].data, 'kernal' : clf.cv_results_['param_kernel'].data} )  \n",
    "\n",
    "   \n",
    "# Rbf: ____________________________________\n",
    "\n",
    "parameters = [{'kernel': ['rbf'],\n",
    "                'gamma': [1e-6, 1e-5, 1e-4],\n",
    "                'C': [0.1, 1, 10, 100]}]\n",
    "\n",
    "print(\"# Tuning hyper-parameters\")\n",
    "clf = GridSearchCV(SVC(), parameters, cv=10)\n",
    "clf.fit(X_train, Y_train)\n",
    "\n",
    "print('best parameters:')\n",
    "print(clf.best_params_)\n",
    "print('-------------------------------------')\n",
    "means = clf.cv_results_['mean_test_score']\n",
    "stds = clf.cv_results_['std_test_score']\n",
    "for mean, std, params in zip(means, stds, clf.cv_results_['params']):\n",
    "    print(\"%0.3f (+/-%0.03f) for %r\"\n",
    "          % (mean, std * 2, params))\n",
    "\n",
    "rbf  =  pd.DataFrame({'mean' : means , 'std' : stds , 'C' : clf.cv_results_['param_C'].data,\n",
    "                       'gamma' : clf.cv_results_['param_gamma'].data, 'kernal' : clf.cv_results_['param_kernel'].data} )  \n"
   ]
  },
  {
   "cell_type": "code",
   "execution_count": 103,
   "metadata": {},
   "outputs": [
    {
     "data": {
      "text/plain": [
       "dict_keys(['mean_fit_time', 'std_fit_time', 'mean_score_time', 'std_score_time', 'param_C', 'param_gamma', 'param_kernel', 'params', 'split0_test_score', 'split1_test_score', 'split2_test_score', 'split3_test_score', 'split4_test_score', 'split5_test_score', 'split6_test_score', 'split7_test_score', 'split8_test_score', 'split9_test_score', 'mean_test_score', 'std_test_score', 'rank_test_score'])"
      ]
     },
     "execution_count": 103,
     "metadata": {},
     "output_type": "execute_result"
    }
   ],
   "source": [
    "clf.cv_results_.keys()"
   ]
  },
  {
   "cell_type": "raw",
   "metadata": {},
   "source": []
  },
  {
   "cell_type": "code",
   "execution_count": 83,
   "metadata": {},
   "outputs": [
    {
     "data": {
      "text/html": [
       "<div>\n",
       "<style scoped>\n",
       "    .dataframe tbody tr th:only-of-type {\n",
       "        vertical-align: middle;\n",
       "    }\n",
       "\n",
       "    .dataframe tbody tr th {\n",
       "        vertical-align: top;\n",
       "    }\n",
       "\n",
       "    .dataframe thead th {\n",
       "        text-align: right;\n",
       "    }\n",
       "</style>\n",
       "<table border=\"1\" class=\"dataframe\">\n",
       "  <thead>\n",
       "    <tr style=\"text-align: right;\">\n",
       "      <th></th>\n",
       "      <th>mean</th>\n",
       "      <th>std</th>\n",
       "      <th>C</th>\n",
       "      <th>gamma</th>\n",
       "      <th>kernal</th>\n",
       "      <th>ParamCombo</th>\n",
       "    </tr>\n",
       "  </thead>\n",
       "  <tbody>\n",
       "    <tr>\n",
       "      <th>0</th>\n",
       "      <td>0.786729</td>\n",
       "      <td>0.028599</td>\n",
       "      <td>0.1</td>\n",
       "      <td>1e-06</td>\n",
       "      <td>linear</td>\n",
       "      <td>[0.1, 1e-06]</td>\n",
       "    </tr>\n",
       "    <tr>\n",
       "      <th>1</th>\n",
       "      <td>0.786729</td>\n",
       "      <td>0.028599</td>\n",
       "      <td>0.1</td>\n",
       "      <td>1e-05</td>\n",
       "      <td>linear</td>\n",
       "      <td>[0.1, 1e-05]</td>\n",
       "    </tr>\n",
       "    <tr>\n",
       "      <th>2</th>\n",
       "      <td>0.786729</td>\n",
       "      <td>0.028599</td>\n",
       "      <td>0.1</td>\n",
       "      <td>0.0001</td>\n",
       "      <td>linear</td>\n",
       "      <td>[0.1, 0.0001]</td>\n",
       "    </tr>\n",
       "    <tr>\n",
       "      <th>3</th>\n",
       "      <td>0.786729</td>\n",
       "      <td>0.028599</td>\n",
       "      <td>1</td>\n",
       "      <td>1e-06</td>\n",
       "      <td>linear</td>\n",
       "      <td>[1, 1e-06]</td>\n",
       "    </tr>\n",
       "    <tr>\n",
       "      <th>4</th>\n",
       "      <td>0.786729</td>\n",
       "      <td>0.028599</td>\n",
       "      <td>1</td>\n",
       "      <td>1e-05</td>\n",
       "      <td>linear</td>\n",
       "      <td>[1, 1e-05]</td>\n",
       "    </tr>\n",
       "    <tr>\n",
       "      <th>5</th>\n",
       "      <td>0.786729</td>\n",
       "      <td>0.028599</td>\n",
       "      <td>1</td>\n",
       "      <td>0.0001</td>\n",
       "      <td>linear</td>\n",
       "      <td>[1, 0.0001]</td>\n",
       "    </tr>\n",
       "    <tr>\n",
       "      <th>6</th>\n",
       "      <td>0.786729</td>\n",
       "      <td>0.028599</td>\n",
       "      <td>10</td>\n",
       "      <td>1e-06</td>\n",
       "      <td>linear</td>\n",
       "      <td>[10, 1e-06]</td>\n",
       "    </tr>\n",
       "    <tr>\n",
       "      <th>7</th>\n",
       "      <td>0.786729</td>\n",
       "      <td>0.028599</td>\n",
       "      <td>10</td>\n",
       "      <td>1e-05</td>\n",
       "      <td>linear</td>\n",
       "      <td>[10, 1e-05]</td>\n",
       "    </tr>\n",
       "    <tr>\n",
       "      <th>8</th>\n",
       "      <td>0.786729</td>\n",
       "      <td>0.028599</td>\n",
       "      <td>10</td>\n",
       "      <td>0.0001</td>\n",
       "      <td>linear</td>\n",
       "      <td>[10, 0.0001]</td>\n",
       "    </tr>\n",
       "    <tr>\n",
       "      <th>9</th>\n",
       "      <td>0.786729</td>\n",
       "      <td>0.028599</td>\n",
       "      <td>100</td>\n",
       "      <td>1e-06</td>\n",
       "      <td>linear</td>\n",
       "      <td>[100, 1e-06]</td>\n",
       "    </tr>\n",
       "    <tr>\n",
       "      <th>10</th>\n",
       "      <td>0.786729</td>\n",
       "      <td>0.028599</td>\n",
       "      <td>100</td>\n",
       "      <td>1e-05</td>\n",
       "      <td>linear</td>\n",
       "      <td>[100, 1e-05]</td>\n",
       "    </tr>\n",
       "    <tr>\n",
       "      <th>11</th>\n",
       "      <td>0.786729</td>\n",
       "      <td>0.028599</td>\n",
       "      <td>100</td>\n",
       "      <td>0.0001</td>\n",
       "      <td>linear</td>\n",
       "      <td>[100, 0.0001]</td>\n",
       "    </tr>\n",
       "    <tr>\n",
       "      <th>12</th>\n",
       "      <td>0.786729</td>\n",
       "      <td>0.028599</td>\n",
       "      <td>1000</td>\n",
       "      <td>1e-06</td>\n",
       "      <td>linear</td>\n",
       "      <td>[1000, 1e-06]</td>\n",
       "    </tr>\n",
       "    <tr>\n",
       "      <th>13</th>\n",
       "      <td>0.786729</td>\n",
       "      <td>0.028599</td>\n",
       "      <td>1000</td>\n",
       "      <td>1e-05</td>\n",
       "      <td>linear</td>\n",
       "      <td>[1000, 1e-05]</td>\n",
       "    </tr>\n",
       "    <tr>\n",
       "      <th>14</th>\n",
       "      <td>0.786729</td>\n",
       "      <td>0.028599</td>\n",
       "      <td>1000</td>\n",
       "      <td>0.0001</td>\n",
       "      <td>linear</td>\n",
       "      <td>[1000, 0.0001]</td>\n",
       "    </tr>\n",
       "  </tbody>\n",
       "</table>\n",
       "</div>"
      ],
      "text/plain": [
       "        mean       std     C   gamma  kernal      ParamCombo\n",
       "0   0.786729  0.028599   0.1   1e-06  linear    [0.1, 1e-06]\n",
       "1   0.786729  0.028599   0.1   1e-05  linear    [0.1, 1e-05]\n",
       "2   0.786729  0.028599   0.1  0.0001  linear   [0.1, 0.0001]\n",
       "3   0.786729  0.028599     1   1e-06  linear      [1, 1e-06]\n",
       "4   0.786729  0.028599     1   1e-05  linear      [1, 1e-05]\n",
       "5   0.786729  0.028599     1  0.0001  linear     [1, 0.0001]\n",
       "6   0.786729  0.028599    10   1e-06  linear     [10, 1e-06]\n",
       "7   0.786729  0.028599    10   1e-05  linear     [10, 1e-05]\n",
       "8   0.786729  0.028599    10  0.0001  linear    [10, 0.0001]\n",
       "9   0.786729  0.028599   100   1e-06  linear    [100, 1e-06]\n",
       "10  0.786729  0.028599   100   1e-05  linear    [100, 1e-05]\n",
       "11  0.786729  0.028599   100  0.0001  linear   [100, 0.0001]\n",
       "12  0.786729  0.028599  1000   1e-06  linear   [1000, 1e-06]\n",
       "13  0.786729  0.028599  1000   1e-05  linear   [1000, 1e-05]\n",
       "14  0.786729  0.028599  1000  0.0001  linear  [1000, 0.0001]"
      ]
     },
     "execution_count": 83,
     "metadata": {},
     "output_type": "execute_result"
    }
   ],
   "source": [
    "linear['ParamCombo'] = linear[['C', 'gamma']].values.tolist()\n",
    "rbf['ParamCombo'] = rbf[['C', 'gamma']].values.tolist()\n",
    "linear"
   ]
  },
  {
   "cell_type": "code",
   "execution_count": 209,
   "metadata": {},
   "outputs": [],
   "source": [
    "linear['ParamCombo'] = linear['ParamCombo'].apply(str)"
   ]
  },
  {
   "cell_type": "code",
   "execution_count": 210,
   "metadata": {},
   "outputs": [
    {
     "data": {
      "text/html": [
       "<div>\n",
       "<style scoped>\n",
       "    .dataframe tbody tr th:only-of-type {\n",
       "        vertical-align: middle;\n",
       "    }\n",
       "\n",
       "    .dataframe tbody tr th {\n",
       "        vertical-align: top;\n",
       "    }\n",
       "\n",
       "    .dataframe thead th {\n",
       "        text-align: right;\n",
       "    }\n",
       "</style>\n",
       "<table border=\"1\" class=\"dataframe\">\n",
       "  <thead>\n",
       "    <tr style=\"text-align: right;\">\n",
       "      <th></th>\n",
       "      <th>mean</th>\n",
       "      <th>std</th>\n",
       "      <th>C</th>\n",
       "      <th>gamma</th>\n",
       "      <th>kernal</th>\n",
       "      <th>ParamCombo</th>\n",
       "    </tr>\n",
       "  </thead>\n",
       "  <tbody>\n",
       "    <tr>\n",
       "      <th>0</th>\n",
       "      <td>0.786729</td>\n",
       "      <td>0.028599</td>\n",
       "      <td>0.1</td>\n",
       "      <td>1e-06</td>\n",
       "      <td>linear</td>\n",
       "      <td>[0.1, 1e-06]</td>\n",
       "    </tr>\n",
       "    <tr>\n",
       "      <th>1</th>\n",
       "      <td>0.786729</td>\n",
       "      <td>0.028599</td>\n",
       "      <td>0.1</td>\n",
       "      <td>1e-05</td>\n",
       "      <td>linear</td>\n",
       "      <td>[0.1, 1e-05]</td>\n",
       "    </tr>\n",
       "    <tr>\n",
       "      <th>2</th>\n",
       "      <td>0.786729</td>\n",
       "      <td>0.028599</td>\n",
       "      <td>0.1</td>\n",
       "      <td>0.0001</td>\n",
       "      <td>linear</td>\n",
       "      <td>[0.1, 0.0001]</td>\n",
       "    </tr>\n",
       "    <tr>\n",
       "      <th>3</th>\n",
       "      <td>0.786729</td>\n",
       "      <td>0.028599</td>\n",
       "      <td>1</td>\n",
       "      <td>1e-06</td>\n",
       "      <td>linear</td>\n",
       "      <td>[1, 1e-06]</td>\n",
       "    </tr>\n",
       "    <tr>\n",
       "      <th>4</th>\n",
       "      <td>0.786729</td>\n",
       "      <td>0.028599</td>\n",
       "      <td>1</td>\n",
       "      <td>1e-05</td>\n",
       "      <td>linear</td>\n",
       "      <td>[1, 1e-05]</td>\n",
       "    </tr>\n",
       "    <tr>\n",
       "      <th>5</th>\n",
       "      <td>0.786729</td>\n",
       "      <td>0.028599</td>\n",
       "      <td>1</td>\n",
       "      <td>0.0001</td>\n",
       "      <td>linear</td>\n",
       "      <td>[1, 0.0001]</td>\n",
       "    </tr>\n",
       "    <tr>\n",
       "      <th>6</th>\n",
       "      <td>0.786729</td>\n",
       "      <td>0.028599</td>\n",
       "      <td>10</td>\n",
       "      <td>1e-06</td>\n",
       "      <td>linear</td>\n",
       "      <td>[10, 1e-06]</td>\n",
       "    </tr>\n",
       "    <tr>\n",
       "      <th>7</th>\n",
       "      <td>0.786729</td>\n",
       "      <td>0.028599</td>\n",
       "      <td>10</td>\n",
       "      <td>1e-05</td>\n",
       "      <td>linear</td>\n",
       "      <td>[10, 1e-05]</td>\n",
       "    </tr>\n",
       "    <tr>\n",
       "      <th>8</th>\n",
       "      <td>0.786729</td>\n",
       "      <td>0.028599</td>\n",
       "      <td>10</td>\n",
       "      <td>0.0001</td>\n",
       "      <td>linear</td>\n",
       "      <td>[10, 0.0001]</td>\n",
       "    </tr>\n",
       "    <tr>\n",
       "      <th>9</th>\n",
       "      <td>0.786729</td>\n",
       "      <td>0.028599</td>\n",
       "      <td>100</td>\n",
       "      <td>1e-06</td>\n",
       "      <td>linear</td>\n",
       "      <td>[100, 1e-06]</td>\n",
       "    </tr>\n",
       "    <tr>\n",
       "      <th>10</th>\n",
       "      <td>0.786729</td>\n",
       "      <td>0.028599</td>\n",
       "      <td>100</td>\n",
       "      <td>1e-05</td>\n",
       "      <td>linear</td>\n",
       "      <td>[100, 1e-05]</td>\n",
       "    </tr>\n",
       "    <tr>\n",
       "      <th>11</th>\n",
       "      <td>0.786729</td>\n",
       "      <td>0.028599</td>\n",
       "      <td>100</td>\n",
       "      <td>0.0001</td>\n",
       "      <td>linear</td>\n",
       "      <td>[100, 0.0001]</td>\n",
       "    </tr>\n",
       "    <tr>\n",
       "      <th>12</th>\n",
       "      <td>0.786729</td>\n",
       "      <td>0.028599</td>\n",
       "      <td>1000</td>\n",
       "      <td>1e-06</td>\n",
       "      <td>linear</td>\n",
       "      <td>[1000, 1e-06]</td>\n",
       "    </tr>\n",
       "    <tr>\n",
       "      <th>13</th>\n",
       "      <td>0.786729</td>\n",
       "      <td>0.028599</td>\n",
       "      <td>1000</td>\n",
       "      <td>1e-05</td>\n",
       "      <td>linear</td>\n",
       "      <td>[1000, 1e-05]</td>\n",
       "    </tr>\n",
       "    <tr>\n",
       "      <th>14</th>\n",
       "      <td>0.786729</td>\n",
       "      <td>0.028599</td>\n",
       "      <td>1000</td>\n",
       "      <td>0.0001</td>\n",
       "      <td>linear</td>\n",
       "      <td>[1000, 0.0001]</td>\n",
       "    </tr>\n",
       "  </tbody>\n",
       "</table>\n",
       "</div>"
      ],
      "text/plain": [
       "        mean       std     C   gamma  kernal      ParamCombo\n",
       "0   0.786729  0.028599   0.1   1e-06  linear    [0.1, 1e-06]\n",
       "1   0.786729  0.028599   0.1   1e-05  linear    [0.1, 1e-05]\n",
       "2   0.786729  0.028599   0.1  0.0001  linear   [0.1, 0.0001]\n",
       "3   0.786729  0.028599     1   1e-06  linear      [1, 1e-06]\n",
       "4   0.786729  0.028599     1   1e-05  linear      [1, 1e-05]\n",
       "5   0.786729  0.028599     1  0.0001  linear     [1, 0.0001]\n",
       "6   0.786729  0.028599    10   1e-06  linear     [10, 1e-06]\n",
       "7   0.786729  0.028599    10   1e-05  linear     [10, 1e-05]\n",
       "8   0.786729  0.028599    10  0.0001  linear    [10, 0.0001]\n",
       "9   0.786729  0.028599   100   1e-06  linear    [100, 1e-06]\n",
       "10  0.786729  0.028599   100   1e-05  linear    [100, 1e-05]\n",
       "11  0.786729  0.028599   100  0.0001  linear   [100, 0.0001]\n",
       "12  0.786729  0.028599  1000   1e-06  linear   [1000, 1e-06]\n",
       "13  0.786729  0.028599  1000   1e-05  linear   [1000, 1e-05]\n",
       "14  0.786729  0.028599  1000  0.0001  linear  [1000, 0.0001]"
      ]
     },
     "execution_count": 210,
     "metadata": {},
     "output_type": "execute_result"
    }
   ],
   "source": [
    "linear"
   ]
  },
  {
   "cell_type": "code",
   "execution_count": 131,
   "metadata": {},
   "outputs": [],
   "source": [
    "# Extract scores from best models\n",
    "\n",
    "SVM_L = SVC(C=0.1, kernel='linear', gamma = 1e-06).fit(X_train, Y_train)\n",
    "SVM_rbf = SVC(C=100, kernel='rbf', gamma = 0.0001).fit(X_train, Y_train)\n",
    "\n",
    "# Extract scores:\n",
    "CV_SVM_L = cross_val_score( SVM_L , X_train, Y_train, cv = 10, scoring='accuracy')\n",
    "mean_SVM_L = CV_SVM_L.mean()\n",
    "std_SVM_L = CV_SVM_L.std()\n",
    "\n",
    "CV_SVM_rbf = cross_val_score( SVM_rbf, X_train, Y_train, cv = 10, scoring='accuracy')\n",
    "mean_SVM_rbf = CV_SVM_rbf.mean()\n",
    "std_SVM_rbf = CV_SVM_rbf.std()\n"
   ]
  },
  {
   "cell_type": "code",
   "execution_count": 85,
   "metadata": {},
   "outputs": [
    {
     "data": {
      "text/plain": [
       "0.028599350013463757"
      ]
     },
     "execution_count": 85,
     "metadata": {},
     "output_type": "execute_result"
    }
   ],
   "source": [
    "std_SVM_L"
   ]
  },
  {
   "cell_type": "code",
   "execution_count": 179,
   "metadata": {},
   "outputs": [],
   "source": [
    "## Linear Kernal\n",
    "\n",
    "Y_pred_SVM_L = SVM_L.predict(X_train)\n",
    "\n",
    "# Saving other metric (Recall, Precision, F1-Score)\n",
    "\n",
    "report = classification_report(Y_train, Y_pred_SVM_L, output_dict=True)\n",
    "recall_SVM_L = report['0']['recall']\n",
    "precision_SVM_L = report['0']['precision']\n",
    "f1_SVM_L = report['0']['f1-score']\n",
    "\n",
    "\n",
    "## RBF Kernal\n",
    "\n",
    "Y_pred_SVM_rbf = SVM_rbf.predict(X_train)\n",
    "\n",
    "# Saving other metric (Recall, Precision, F1-Score)\n",
    "\n",
    "report = classification_report(Y_train, Y_pred_SVM_rbf, output_dict=True)\n",
    "recall_SVM_rbf = report['0']['recall']\n",
    "precision_SVM_rbf = report['0']['precision']\n",
    "f1_SVM_rbf = report['0']['f1-score']"
   ]
  },
  {
   "cell_type": "markdown",
   "metadata": {},
   "source": [
    "## Naive Bayes (Gaussian Assumption)"
   ]
  },
  {
   "cell_type": "code",
   "execution_count": 172,
   "metadata": {
    "scrolled": true
   },
   "outputs": [],
   "source": [
    "from sklearn.naive_bayes import GaussianNB\n",
    "\n",
    "gaussian = GaussianNB() \n",
    "gaussian.fit(X_train, Y_train)  \n",
    "#Y_pred = gaussian.predict(X_test)  \n",
    "acc_gaussian = round(gaussian.score(X_train, Y_train) * 100, 2)\n",
    "\n",
    "parameters = [{#'kernel': ['linear', 'rbf'],\n",
    "                'gamma': [1e-6, 1e-5, 1e-4],\n",
    "                'C': [0.1, 1, 10, 100, 1000]}]\n",
    "\n",
    "\n",
    "#print(\"# Tuning hyper-parameters\")\n",
    "#clf = GridSearchCV(gaussian, parameters, cv=10)\n",
    "#clf.fit(X_train, Y_train)\n",
    "\n",
    "CV_GNB = cross_val_score(gaussian, X_train, Y_train, cv=10, n_jobs=1, scoring = 'accuracy')\n",
    "mean_GNB = CV_GNB.mean()\n",
    "std_GNB = CV_GNB.std()\n",
    "\n",
    "\n",
    "# We can work out mean and std as for nearest neighbours. No hyperparameters to tune ( oh yes there are what about mu and sigma?)\n",
    "\n",
    "#print('best parameters:')\n",
    "#print(clf.best_params_)\n",
    "#print('-------------------------------------')\n",
    "#means = clf.cv_results_['mean_test_score']\n",
    "#stds = clf.cv_results_['std_test_score']\n",
    "#for mean, std, params in zip(means, stds, clf.cv_results_['params']):\n",
    "#    print(\"%0.3f (+/-%0.03f) for %r\"\n",
    "#          % (mean, std * 2, params))"
   ]
  },
  {
   "cell_type": "code",
   "execution_count": 173,
   "metadata": {},
   "outputs": [
    {
     "data": {
      "text/plain": [
       "0.025791106296443447"
      ]
     },
     "execution_count": 173,
     "metadata": {},
     "output_type": "execute_result"
    }
   ],
   "source": [
    "std_GNB"
   ]
  },
  {
   "cell_type": "code",
   "execution_count": 174,
   "metadata": {},
   "outputs": [
    {
     "data": {
      "text/plain": [
       "0.772147315855181"
      ]
     },
     "execution_count": 174,
     "metadata": {},
     "output_type": "execute_result"
    }
   ],
   "source": [
    "mean_GNB"
   ]
  },
  {
   "cell_type": "code",
   "execution_count": 175,
   "metadata": {},
   "outputs": [],
   "source": [
    "Y_pred_NB = gaussian.predict(X_train)\n",
    "\n",
    "# Saving other metric (Recall, Precision, F1-Score)\n",
    "\n",
    "report = classification_report(Y_train, Y_pred_NB, output_dict=True)\n",
    "recall_NB = report['0']['recall']\n",
    "precision_NB = report['0']['precision']\n",
    "f1_NB = report['0']['f1-score']"
   ]
  },
  {
   "cell_type": "code",
   "execution_count": null,
   "metadata": {},
   "outputs": [],
   "source": [
    "gaussian.get_params().keys()"
   ]
  },
  {
   "cell_type": "code",
   "execution_count": null,
   "metadata": {},
   "outputs": [],
   "source": [
    "gaussian.fit(X_train, Y_train)"
   ]
  },
  {
   "cell_type": "markdown",
   "metadata": {},
   "source": [
    "## Perceptron "
   ]
  },
  {
   "cell_type": "code",
   "execution_count": 177,
   "metadata": {},
   "outputs": [],
   "source": [
    "from sklearn.linear_model import Perceptron\n",
    "\n",
    "perceptron = Perceptron(max_iter=100)\n",
    "perceptron.fit(X_train, Y_train)\n",
    "\n",
    "CV_perceptron = cross_val_score(perceptron, X_train, Y_train, cv=10, scoring = 'accuracy')\n",
    "mean_perceptron = CV_perceptron.mean()\n",
    "std_perceptron = CV_perceptron.std()"
   ]
  },
  {
   "cell_type": "code",
   "execution_count": 166,
   "metadata": {},
   "outputs": [
    {
     "data": {
      "text/plain": [
       "0.10656006645704358"
      ]
     },
     "execution_count": 166,
     "metadata": {},
     "output_type": "execute_result"
    }
   ],
   "source": [
    "std_perceptron"
   ]
  },
  {
   "cell_type": "code",
   "execution_count": 178,
   "metadata": {},
   "outputs": [],
   "source": [
    "Y_pred_perceptron = perceptron.predict(X_train)\n",
    "\n",
    "# Saving other metric (Recall, Precision, F1-Score)\n",
    "\n",
    "report = classification_report(Y_train, Y_pred_perceptron, output_dict=True)\n",
    "recall_perceptron = report['0']['recall']\n",
    "precision_perceptron = report['0']['precision']\n",
    "f1_perceptron = report['0']['f1-score']"
   ]
  },
  {
   "cell_type": "markdown",
   "metadata": {},
   "source": [
    "## Deep Learning (Multi Layer Perceptron)"
   ]
  },
  {
   "cell_type": "code",
   "execution_count": 41,
   "metadata": {},
   "outputs": [
    {
     "name": "stderr",
     "output_type": "stream",
     "text": [
      "Using TensorFlow backend.\n"
     ]
    }
   ],
   "source": [
    "from keras.models import Sequential\n",
    "from keras.layers import Dense, Activation, Dropout\n",
    "from keras.utils import np_utils"
   ]
  },
  {
   "cell_type": "markdown",
   "metadata": {},
   "source": [
    "batch_size = 128\n",
    "nb_classes = 10\n",
    "im_dim = 784 # the total pixel number \n",
    "nb_hidden = 256\n",
    "nb_epoch = 5"
   ]
  },
  {
   "cell_type": "markdown",
   "metadata": {},
   "source": [
    "(X_train, y_train), (X_test, y_test) = mnist.load_data()\n",
    "X_train = X_train.reshape(60000, im_dim)\n",
    "X_test = X_test.reshape(10000, im_dim)\n",
    "X_train = X_train.astype('float32')\n",
    "X_test = X_test.astype('float32')\n",
    "X_train /= 255\n",
    "X_test /= 255\n",
    "Y_train = np_utils.to_categorical(y_train, nb_classes)\n",
    "Y_test = np_utils.to_categorical(y_test, nb_classes)"
   ]
  },
  {
   "cell_type": "code",
   "execution_count": 64,
   "metadata": {},
   "outputs": [],
   "source": [
    "nb_hidden = len(X_names)\n",
    "nb_epoch = 5 \n",
    "nb_classes = 2\n",
    "\n",
    "# Keras requires y-data in (N, # classes) shape, not (N). For multiclass we can use OneHotEncoder. \n",
    "Y_train_deep = np_utils.to_categorical(Y_train, nb_classes) \n",
    "Y_test_deep = np_utils.to_categorical(Y_test, nb_classes)"
   ]
  },
  {
   "cell_type": "code",
   "execution_count": 70,
   "metadata": {},
   "outputs": [
    {
     "name": "stdout",
     "output_type": "stream",
     "text": [
      "Model: \"sequential_9\"\n",
      "_________________________________________________________________\n",
      "Layer (type)                 Output Shape              Param #   \n",
      "=================================================================\n",
      "dense_25 (Dense)             (None, 7)                 56        \n",
      "_________________________________________________________________\n",
      "activation_25 (Activation)   (None, 7)                 0         \n",
      "_________________________________________________________________\n",
      "dropout_17 (Dropout)         (None, 7)                 0         \n",
      "_________________________________________________________________\n",
      "dense_26 (Dense)             (None, 7)                 56        \n",
      "_________________________________________________________________\n",
      "activation_26 (Activation)   (None, 7)                 0         \n",
      "_________________________________________________________________\n",
      "dropout_18 (Dropout)         (None, 7)                 0         \n",
      "_________________________________________________________________\n",
      "dense_27 (Dense)             (None, 2)                 16        \n",
      "_________________________________________________________________\n",
      "activation_27 (Activation)   (None, 2)                 0         \n",
      "=================================================================\n",
      "Total params: 128\n",
      "Trainable params: 128\n",
      "Non-trainable params: 0\n",
      "_________________________________________________________________\n"
     ]
    }
   ],
   "source": [
    "# Deep Multilayer Perceptron model\n",
    "model = Sequential()\n",
    "model.add(Dense(input_dim=nb_hidden,units=nb_hidden))\n",
    "model.add(Activation('relu')) \n",
    "model.add(Dropout(0.2))\n",
    "model.add(Dense(input_dim=nb_hidden,units=nb_hidden))\n",
    "model.add(Activation('relu'))\n",
    "model.add(Dropout(0.5))\n",
    "model.add(Dense(input_dim=nb_hidden, units=(nb_classes)))\n",
    "model.add(Activation('sigmoid')) # converts to a categorical prediction at the end\n",
    "\n",
    "# use sparse_categorical_crossentropy is we havent one hot encoded the output labels. \n",
    "model.compile(optimizer='adam', loss='categorical_crossentropy', metrics=['accuracy'])\n",
    "model.summary()"
   ]
  },
  {
   "cell_type": "code",
   "execution_count": 74,
   "metadata": {},
   "outputs": [
    {
     "name": "stdout",
     "output_type": "stream",
     "text": [
      "Train on 712 samples, validate on 179 samples\n",
      "Epoch 1/5\n",
      "712/712 [==============================] - 0s 31us/step - loss: 0.6669 - accuracy: 0.6222 - val_loss: 0.6445 - val_accuracy: 0.7374\n",
      "Epoch 2/5\n",
      "712/712 [==============================] - 0s 66us/step - loss: 0.6620 - accuracy: 0.6180 - val_loss: 0.6316 - val_accuracy: 0.7374\n",
      "Epoch 3/5\n",
      "712/712 [==============================] - 0s 49us/step - loss: 0.6587 - accuracy: 0.6250 - val_loss: 0.6165 - val_accuracy: 0.7318\n",
      "Epoch 4/5\n",
      "712/712 [==============================] - 0s 44us/step - loss: 0.6491 - accuracy: 0.6166 - val_loss: 0.6000 - val_accuracy: 0.7207\n",
      "Epoch 5/5\n",
      "712/712 [==============================] - 0s 44us/step - loss: 0.6454 - accuracy: 0.6110 - val_loss: 0.5837 - val_accuracy: 0.7318\n"
     ]
    }
   ],
   "source": [
    "# Train\n",
    "history = model.fit(X_train, Y_train_deep, epochs=nb_epoch , \n",
    "                   validation_split = 0.2 )#,\n",
    "                   # batch_size=batch_size, verbose=1)\n"
   ]
  },
  {
   "cell_type": "code",
   "execution_count": 75,
   "metadata": {},
   "outputs": [
    {
     "name": "stdout",
     "output_type": "stream",
     "text": [
      "418/418 [==============================] - 0s 30us/step\n",
      "Summary: Loss over the test dataset: 0.61, Accuracy: 0.69\n"
     ]
    }
   ],
   "source": [
    "# Evaluate\n",
    "evaluation = model.evaluate(X_test, Y_test_deep, verbose=1)\n",
    "print('Summary: Loss over the test dataset: %.2f, Accuracy: %.2f' % (evaluation[0], evaluation[1]))"
   ]
  },
  {
   "cell_type": "code",
   "execution_count": 48,
   "metadata": {},
   "outputs": [
    {
     "data": {
      "text/plain": [
       "0      0\n",
       "1      1\n",
       "2      0\n",
       "3      0\n",
       "4      1\n",
       "      ..\n",
       "413    0\n",
       "414    1\n",
       "415    0\n",
       "416    0\n",
       "417    1\n",
       "Name: Survived, Length: 418, dtype: int64"
      ]
     },
     "execution_count": 48,
     "metadata": {},
     "output_type": "execute_result"
    }
   ],
   "source": [
    "## Deep learning only really outperforms other methods as data increases into a big data scenario. "
   ]
  },
  {
   "cell_type": "code",
   "execution_count": null,
   "metadata": {},
   "outputs": [],
   "source": []
  },
  {
   "cell_type": "markdown",
   "metadata": {},
   "source": [
    "## Summary "
   ]
  },
  {
   "cell_type": "code",
   "execution_count": 35,
   "metadata": {},
   "outputs": [],
   "source": [
    "results = pd.DataFrame({\n",
    "    'Model': ['KNN', \n",
    "              'Logistic Regression (Ridge)', 'LASSO-Logisitc',  \n",
    "              'Random Forest', 'Decision Tree' , \n",
    "              'SVM - Linear Kernel', 'SVM - rbf Kernel', \n",
    "              'Naive Bayes' , \n",
    "              'Perceptron'],\n",
    "    'Mean Accuracy': [mean_neigh, \n",
    "                      mean_ridge, mean_lasso, \n",
    "                      mean_random_forest, mean_decision_tree, \n",
    "                      mean_SVM_L , mean_SVM_rbf,  \n",
    "                      mean_GNB, \n",
    "                      mean_perceptron ],\n",
    "    'Accuracy Error' : [std_neigh, \n",
    "                      std_ridge, std_lasso, \n",
    "                      std_random_forest, std_decision_tree,\n",
    "                      std_SVM_L, std_SVM_rbf, \n",
    "                      std_GNB, \n",
    "                      std_perceptron ]\n",
    "        })\n",
    "\n",
    "\n",
    "result_df_train_nofare = results.sort_values(by='Mean_Accuracy', ascending=False)\n",
    "#result_df_train_rawfare.to_pickle('result_df_train_rawfare.pkl')"
   ]
  },
  {
   "cell_type": "code",
   "execution_count": 183,
   "metadata": {},
   "outputs": [],
   "source": [
    "results = pd.DataFrame({\n",
    "    'Model': ['KNN', \n",
    "              'Logistic Regression (Ridge)', 'LASSO-Logisitc',  \n",
    "              'Random Forest', 'Decision Tree' , \n",
    "              'SVM - Linear Kernel', 'SVM - rbf Kernel', \n",
    "              'Naive Bayes' , \n",
    "              'Perceptron'],\n",
    "    'Mean Accuracy': [mean_neigh, \n",
    "                      mean_ridge, mean_lasso, \n",
    "                      mean_random_forest, mean_decision_tree, \n",
    "                      mean_SVM_L , mean_SVM_rbf,  \n",
    "                      mean_GNB, \n",
    "                      mean_perceptron ],\n",
    "    'Accuracy Error' : [std_neigh, \n",
    "                      std_ridge, std_lasso, \n",
    "                      std_random_forest, std_decision_tree,\n",
    "                      std_SVM_L, std_SVM_rbf, \n",
    "                      std_GNB, \n",
    "                      std_perceptron ],\n",
    "    'Recall' : [recall_knn, \n",
    "                recall_L2, recall_L1 , \n",
    "                recall_RF , recall_DT , \n",
    "                recall_SVM_L , recall_SVM_rbf , \n",
    "                recall_NB , recall_perceptron ] ,\n",
    "    'Precision' : [precision_knn, \n",
    "                precision_L2, precision_L1 , \n",
    "                precision_RF , precision_DT , \n",
    "                precision_SVM_L , precision_SVM_rbf , \n",
    "                precision_NB , precision_perceptron ] ,\n",
    "    'F1-Score' : [f1_knn, \n",
    "                f1_L2, f1_L1 , \n",
    "                f1_RF , f1_DT , \n",
    "                f1_SVM_L , f1_SVM_rbf , \n",
    "                f1_NB , f1_perceptron ]\n",
    "    })\n",
    "\n",
    "\n",
    "result_df_train_final = results.sort_values(by='Mean Accuracy', ascending=False)\n",
    "#result_df_train_rawfare.to_pickle('result_df_train_rawfare.pkl')"
   ]
  },
  {
   "cell_type": "code",
   "execution_count": 192,
   "metadata": {},
   "outputs": [
    {
     "data": {
      "text/html": [
       "<style  type=\"text/css\" >\n",
       "#T_23e349c7_61ae_11eb_9f34_548d5af7bfbfrow0_col1,#T_23e349c7_61ae_11eb_9f34_548d5af7bfbfrow2_col3,#T_23e349c7_61ae_11eb_9f34_548d5af7bfbfrow2_col5,#T_23e349c7_61ae_11eb_9f34_548d5af7bfbfrow7_col2,#T_23e349c7_61ae_11eb_9f34_548d5af7bfbfrow8_col4{\n",
       "            background-color:  yellow;\n",
       "        }</style><table id=\"T_23e349c7_61ae_11eb_9f34_548d5af7bfbf\" ><thead>    <tr>        <th class=\"blank level0\" ></th>        <th class=\"col_heading level0 col0\" >Model</th>        <th class=\"col_heading level0 col1\" >Mean Accuracy</th>        <th class=\"col_heading level0 col2\" >Accuracy Error</th>        <th class=\"col_heading level0 col3\" >Recall</th>        <th class=\"col_heading level0 col4\" >Precision</th>        <th class=\"col_heading level0 col5\" >F1-Score</th>    </tr></thead><tbody>\n",
       "                <tr>\n",
       "                        <th id=\"T_23e349c7_61ae_11eb_9f34_548d5af7bfbflevel0_row0\" class=\"row_heading level0 row0\" >0</th>\n",
       "                        <td id=\"T_23e349c7_61ae_11eb_9f34_548d5af7bfbfrow0_col0\" class=\"data row0 col0\" >KNN</td>\n",
       "                        <td id=\"T_23e349c7_61ae_11eb_9f34_548d5af7bfbfrow0_col1\" class=\"data row0 col1\" >0.833</td>\n",
       "                        <td id=\"T_23e349c7_61ae_11eb_9f34_548d5af7bfbfrow0_col2\" class=\"data row0 col2\" >0.035</td>\n",
       "                        <td id=\"T_23e349c7_61ae_11eb_9f34_548d5af7bfbfrow0_col3\" class=\"data row0 col3\" >0.909</td>\n",
       "                        <td id=\"T_23e349c7_61ae_11eb_9f34_548d5af7bfbfrow0_col4\" class=\"data row0 col4\" >0.863</td>\n",
       "                        <td id=\"T_23e349c7_61ae_11eb_9f34_548d5af7bfbfrow0_col5\" class=\"data row0 col5\" >0.886</td>\n",
       "            </tr>\n",
       "            <tr>\n",
       "                        <th id=\"T_23e349c7_61ae_11eb_9f34_548d5af7bfbflevel0_row1\" class=\"row_heading level0 row1\" >3</th>\n",
       "                        <td id=\"T_23e349c7_61ae_11eb_9f34_548d5af7bfbfrow1_col0\" class=\"data row1 col0\" >Random Forest</td>\n",
       "                        <td id=\"T_23e349c7_61ae_11eb_9f34_548d5af7bfbfrow1_col1\" class=\"data row1 col1\" >0.827</td>\n",
       "                        <td id=\"T_23e349c7_61ae_11eb_9f34_548d5af7bfbfrow1_col2\" class=\"data row1 col2\" >0.045</td>\n",
       "                        <td id=\"T_23e349c7_61ae_11eb_9f34_548d5af7bfbfrow1_col3\" class=\"data row1 col3\" >0.931</td>\n",
       "                        <td id=\"T_23e349c7_61ae_11eb_9f34_548d5af7bfbfrow1_col4\" class=\"data row1 col4\" >0.872</td>\n",
       "                        <td id=\"T_23e349c7_61ae_11eb_9f34_548d5af7bfbfrow1_col5\" class=\"data row1 col5\" >0.900</td>\n",
       "            </tr>\n",
       "            <tr>\n",
       "                        <th id=\"T_23e349c7_61ae_11eb_9f34_548d5af7bfbflevel0_row2\" class=\"row_heading level0 row2\" >4</th>\n",
       "                        <td id=\"T_23e349c7_61ae_11eb_9f34_548d5af7bfbfrow2_col0\" class=\"data row2 col0\" >Decision Tree</td>\n",
       "                        <td id=\"T_23e349c7_61ae_11eb_9f34_548d5af7bfbfrow2_col1\" class=\"data row2 col1\" >0.813</td>\n",
       "                        <td id=\"T_23e349c7_61ae_11eb_9f34_548d5af7bfbfrow2_col2\" class=\"data row2 col2\" >0.045</td>\n",
       "                        <td id=\"T_23e349c7_61ae_11eb_9f34_548d5af7bfbfrow2_col3\" class=\"data row2 col3\" >0.953</td>\n",
       "                        <td id=\"T_23e349c7_61ae_11eb_9f34_548d5af7bfbfrow2_col4\" class=\"data row2 col4\" >0.857</td>\n",
       "                        <td id=\"T_23e349c7_61ae_11eb_9f34_548d5af7bfbfrow2_col5\" class=\"data row2 col5\" >0.903</td>\n",
       "            </tr>\n",
       "            <tr>\n",
       "                        <th id=\"T_23e349c7_61ae_11eb_9f34_548d5af7bfbflevel0_row3\" class=\"row_heading level0 row3\" >1</th>\n",
       "                        <td id=\"T_23e349c7_61ae_11eb_9f34_548d5af7bfbfrow3_col0\" class=\"data row3 col0\" >Logistic Regression (Ridge)</td>\n",
       "                        <td id=\"T_23e349c7_61ae_11eb_9f34_548d5af7bfbfrow3_col1\" class=\"data row3 col1\" >0.796</td>\n",
       "                        <td id=\"T_23e349c7_61ae_11eb_9f34_548d5af7bfbfrow3_col2\" class=\"data row3 col2\" >0.036</td>\n",
       "                        <td id=\"T_23e349c7_61ae_11eb_9f34_548d5af7bfbfrow3_col3\" class=\"data row3 col3\" >0.863</td>\n",
       "                        <td id=\"T_23e349c7_61ae_11eb_9f34_548d5af7bfbfrow3_col4\" class=\"data row3 col4\" >0.814</td>\n",
       "                        <td id=\"T_23e349c7_61ae_11eb_9f34_548d5af7bfbfrow3_col5\" class=\"data row3 col5\" >0.838</td>\n",
       "            </tr>\n",
       "            <tr>\n",
       "                        <th id=\"T_23e349c7_61ae_11eb_9f34_548d5af7bfbflevel0_row4\" class=\"row_heading level0 row4\" >2</th>\n",
       "                        <td id=\"T_23e349c7_61ae_11eb_9f34_548d5af7bfbfrow4_col0\" class=\"data row4 col0\" >LASSO-Logisitc</td>\n",
       "                        <td id=\"T_23e349c7_61ae_11eb_9f34_548d5af7bfbfrow4_col1\" class=\"data row4 col1\" >0.796</td>\n",
       "                        <td id=\"T_23e349c7_61ae_11eb_9f34_548d5af7bfbfrow4_col2\" class=\"data row4 col2\" >0.036</td>\n",
       "                        <td id=\"T_23e349c7_61ae_11eb_9f34_548d5af7bfbfrow4_col3\" class=\"data row4 col3\" >0.863</td>\n",
       "                        <td id=\"T_23e349c7_61ae_11eb_9f34_548d5af7bfbfrow4_col4\" class=\"data row4 col4\" >0.814</td>\n",
       "                        <td id=\"T_23e349c7_61ae_11eb_9f34_548d5af7bfbfrow4_col5\" class=\"data row4 col5\" >0.838</td>\n",
       "            </tr>\n",
       "            <tr>\n",
       "                        <th id=\"T_23e349c7_61ae_11eb_9f34_548d5af7bfbflevel0_row5\" class=\"row_heading level0 row5\" >6</th>\n",
       "                        <td id=\"T_23e349c7_61ae_11eb_9f34_548d5af7bfbfrow5_col0\" class=\"data row5 col0\" >SVM - rbf Kernel</td>\n",
       "                        <td id=\"T_23e349c7_61ae_11eb_9f34_548d5af7bfbfrow5_col1\" class=\"data row5 col1\" >0.788</td>\n",
       "                        <td id=\"T_23e349c7_61ae_11eb_9f34_548d5af7bfbfrow5_col2\" class=\"data row5 col2\" >0.028</td>\n",
       "                        <td id=\"T_23e349c7_61ae_11eb_9f34_548d5af7bfbfrow5_col3\" class=\"data row5 col3\" >0.852</td>\n",
       "                        <td id=\"T_23e349c7_61ae_11eb_9f34_548d5af7bfbfrow5_col4\" class=\"data row5 col4\" >0.812</td>\n",
       "                        <td id=\"T_23e349c7_61ae_11eb_9f34_548d5af7bfbfrow5_col5\" class=\"data row5 col5\" >0.832</td>\n",
       "            </tr>\n",
       "            <tr>\n",
       "                        <th id=\"T_23e349c7_61ae_11eb_9f34_548d5af7bfbflevel0_row6\" class=\"row_heading level0 row6\" >5</th>\n",
       "                        <td id=\"T_23e349c7_61ae_11eb_9f34_548d5af7bfbfrow6_col0\" class=\"data row6 col0\" >SVM - Linear Kernel</td>\n",
       "                        <td id=\"T_23e349c7_61ae_11eb_9f34_548d5af7bfbfrow6_col1\" class=\"data row6 col1\" >0.787</td>\n",
       "                        <td id=\"T_23e349c7_61ae_11eb_9f34_548d5af7bfbfrow6_col2\" class=\"data row6 col2\" >0.029</td>\n",
       "                        <td id=\"T_23e349c7_61ae_11eb_9f34_548d5af7bfbfrow6_col3\" class=\"data row6 col3\" >0.852</td>\n",
       "                        <td id=\"T_23e349c7_61ae_11eb_9f34_548d5af7bfbfrow6_col4\" class=\"data row6 col4\" >0.811</td>\n",
       "                        <td id=\"T_23e349c7_61ae_11eb_9f34_548d5af7bfbfrow6_col5\" class=\"data row6 col5\" >0.831</td>\n",
       "            </tr>\n",
       "            <tr>\n",
       "                        <th id=\"T_23e349c7_61ae_11eb_9f34_548d5af7bfbflevel0_row7\" class=\"row_heading level0 row7\" >7</th>\n",
       "                        <td id=\"T_23e349c7_61ae_11eb_9f34_548d5af7bfbfrow7_col0\" class=\"data row7 col0\" >Naive Bayes</td>\n",
       "                        <td id=\"T_23e349c7_61ae_11eb_9f34_548d5af7bfbfrow7_col1\" class=\"data row7 col1\" >0.772</td>\n",
       "                        <td id=\"T_23e349c7_61ae_11eb_9f34_548d5af7bfbfrow7_col2\" class=\"data row7 col2\" >0.026</td>\n",
       "                        <td id=\"T_23e349c7_61ae_11eb_9f34_548d5af7bfbfrow7_col3\" class=\"data row7 col3\" >0.756</td>\n",
       "                        <td id=\"T_23e349c7_61ae_11eb_9f34_548d5af7bfbfrow7_col4\" class=\"data row7 col4\" >0.861</td>\n",
       "                        <td id=\"T_23e349c7_61ae_11eb_9f34_548d5af7bfbfrow7_col5\" class=\"data row7 col5\" >0.805</td>\n",
       "            </tr>\n",
       "            <tr>\n",
       "                        <th id=\"T_23e349c7_61ae_11eb_9f34_548d5af7bfbflevel0_row8\" class=\"row_heading level0 row8\" >8</th>\n",
       "                        <td id=\"T_23e349c7_61ae_11eb_9f34_548d5af7bfbfrow8_col0\" class=\"data row8 col0\" >Perceptron</td>\n",
       "                        <td id=\"T_23e349c7_61ae_11eb_9f34_548d5af7bfbfrow8_col1\" class=\"data row8 col1\" >0.708</td>\n",
       "                        <td id=\"T_23e349c7_61ae_11eb_9f34_548d5af7bfbfrow8_col2\" class=\"data row8 col2\" >0.104</td>\n",
       "                        <td id=\"T_23e349c7_61ae_11eb_9f34_548d5af7bfbfrow8_col3\" class=\"data row8 col3\" >0.690</td>\n",
       "                        <td id=\"T_23e349c7_61ae_11eb_9f34_548d5af7bfbfrow8_col4\" class=\"data row8 col4\" >0.877</td>\n",
       "                        <td id=\"T_23e349c7_61ae_11eb_9f34_548d5af7bfbfrow8_col5\" class=\"data row8 col5\" >0.773</td>\n",
       "            </tr>\n",
       "    </tbody></table>"
      ],
      "text/plain": [
       "<pandas.io.formats.style.Styler at 0x20a07e492b0>"
      ]
     },
     "execution_count": 192,
     "metadata": {},
     "output_type": "execute_result"
    }
   ],
   "source": [
    "## Highlghting the best features within dataframe:\n",
    "\n",
    "result_df_train_final\n",
    "\n",
    "#result_df_train_final.style.apply(lambda x: [\"background: yellow\" if v > x.iloc[0] else \"\" for v in x], axis = 1)\n",
    "\n",
    "result_df_train_final.style\\\n",
    "    .highlight_max(color = 'yellow', axis = 0, subset=['Mean Accuracy','Recall','Precision','F1-Score'])\\\n",
    "    .highlight_min(color = 'yellow', axis = 0, subset=['Accuracy Error'])\\\n",
    "    .set_precision(3)\n",
    "\n",
    "\n",
    "#df.style\\\n",
    "#  .applymap(color_negative_red)\\\n",
    "#  .apply(highlight_max)\\\n",
    "#  .set_precision(2)\n"
   ]
  },
  {
   "cell_type": "code",
   "execution_count": 36,
   "metadata": {},
   "outputs": [
    {
     "data": {
      "text/html": [
       "<div>\n",
       "<style scoped>\n",
       "    .dataframe tbody tr th:only-of-type {\n",
       "        vertical-align: middle;\n",
       "    }\n",
       "\n",
       "    .dataframe tbody tr th {\n",
       "        vertical-align: top;\n",
       "    }\n",
       "\n",
       "    .dataframe thead th {\n",
       "        text-align: right;\n",
       "    }\n",
       "</style>\n",
       "<table border=\"1\" class=\"dataframe\">\n",
       "  <thead>\n",
       "    <tr style=\"text-align: right;\">\n",
       "      <th></th>\n",
       "      <th>Model</th>\n",
       "      <th>Mean_Accuracy</th>\n",
       "      <th>Std_Accuracy</th>\n",
       "    </tr>\n",
       "  </thead>\n",
       "  <tbody>\n",
       "    <tr>\n",
       "      <th>3</th>\n",
       "      <td>Random Forest</td>\n",
       "      <td>0.828340</td>\n",
       "      <td>0.037275</td>\n",
       "    </tr>\n",
       "    <tr>\n",
       "      <th>0</th>\n",
       "      <td>KNN</td>\n",
       "      <td>0.827203</td>\n",
       "      <td>0.037421</td>\n",
       "    </tr>\n",
       "    <tr>\n",
       "      <th>4</th>\n",
       "      <td>Decision Tree</td>\n",
       "      <td>0.816017</td>\n",
       "      <td>0.049116</td>\n",
       "    </tr>\n",
       "    <tr>\n",
       "      <th>2</th>\n",
       "      <td>LASSO-Logisitc</td>\n",
       "      <td>0.788976</td>\n",
       "      <td>0.023112</td>\n",
       "    </tr>\n",
       "    <tr>\n",
       "      <th>6</th>\n",
       "      <td>SVM - rbf Kernel</td>\n",
       "      <td>0.788976</td>\n",
       "      <td>0.030629</td>\n",
       "    </tr>\n",
       "    <tr>\n",
       "      <th>5</th>\n",
       "      <td>SVM - Linear Kernel</td>\n",
       "      <td>0.786729</td>\n",
       "      <td>0.028599</td>\n",
       "    </tr>\n",
       "    <tr>\n",
       "      <th>1</th>\n",
       "      <td>Logistic Regression (Ridge)</td>\n",
       "      <td>0.785605</td>\n",
       "      <td>0.024546</td>\n",
       "    </tr>\n",
       "    <tr>\n",
       "      <th>7</th>\n",
       "      <td>Naive Bayes</td>\n",
       "      <td>0.769888</td>\n",
       "      <td>0.017238</td>\n",
       "    </tr>\n",
       "    <tr>\n",
       "      <th>8</th>\n",
       "      <td>Perceptron</td>\n",
       "      <td>0.681511</td>\n",
       "      <td>0.183468</td>\n",
       "    </tr>\n",
       "  </tbody>\n",
       "</table>\n",
       "</div>"
      ],
      "text/plain": [
       "                         Model  Mean_Accuracy  Std_Accuracy\n",
       "3                Random Forest       0.828340      0.037275\n",
       "0                          KNN       0.827203      0.037421\n",
       "4                Decision Tree       0.816017      0.049116\n",
       "2               LASSO-Logisitc       0.788976      0.023112\n",
       "6             SVM - rbf Kernel       0.788976      0.030629\n",
       "5          SVM - Linear Kernel       0.786729      0.028599\n",
       "1  Logistic Regression (Ridge)       0.785605      0.024546\n",
       "7                  Naive Bayes       0.769888      0.017238\n",
       "8                   Perceptron       0.681511      0.183468"
      ]
     },
     "execution_count": 36,
     "metadata": {},
     "output_type": "execute_result"
    }
   ],
   "source": [
    "result_df_train_nofare"
   ]
  },
  {
   "cell_type": "code",
   "execution_count": 129,
   "metadata": {},
   "outputs": [
    {
     "data": {
      "text/html": [
       "<div>\n",
       "<style scoped>\n",
       "    .dataframe tbody tr th:only-of-type {\n",
       "        vertical-align: middle;\n",
       "    }\n",
       "\n",
       "    .dataframe tbody tr th {\n",
       "        vertical-align: top;\n",
       "    }\n",
       "\n",
       "    .dataframe thead th {\n",
       "        text-align: right;\n",
       "    }\n",
       "</style>\n",
       "<table border=\"1\" class=\"dataframe\">\n",
       "  <thead>\n",
       "    <tr style=\"text-align: right;\">\n",
       "      <th></th>\n",
       "      <th>Model</th>\n",
       "      <th>Mean_Accuracy</th>\n",
       "      <th>Std_Accuracy</th>\n",
       "    </tr>\n",
       "  </thead>\n",
       "  <tbody>\n",
       "    <tr>\n",
       "      <th>3</th>\n",
       "      <td>Random Forest</td>\n",
       "      <td>0.820499</td>\n",
       "      <td>0.038780</td>\n",
       "    </tr>\n",
       "    <tr>\n",
       "      <th>0</th>\n",
       "      <td>KNN</td>\n",
       "      <td>0.813720</td>\n",
       "      <td>0.037506</td>\n",
       "    </tr>\n",
       "    <tr>\n",
       "      <th>4</th>\n",
       "      <td>Decision Tree</td>\n",
       "      <td>0.809263</td>\n",
       "      <td>0.036858</td>\n",
       "    </tr>\n",
       "    <tr>\n",
       "      <th>2</th>\n",
       "      <td>LASSO-Logisitc</td>\n",
       "      <td>0.790100</td>\n",
       "      <td>0.029466</td>\n",
       "    </tr>\n",
       "    <tr>\n",
       "      <th>5</th>\n",
       "      <td>SVM - Linear Kernel</td>\n",
       "      <td>0.786729</td>\n",
       "      <td>0.028599</td>\n",
       "    </tr>\n",
       "    <tr>\n",
       "      <th>6</th>\n",
       "      <td>SVM - rbf Kernel</td>\n",
       "      <td>0.786729</td>\n",
       "      <td>0.028599</td>\n",
       "    </tr>\n",
       "    <tr>\n",
       "      <th>1</th>\n",
       "      <td>Logistic Regression (Ridge)</td>\n",
       "      <td>0.785581</td>\n",
       "      <td>0.033006</td>\n",
       "    </tr>\n",
       "    <tr>\n",
       "      <th>7</th>\n",
       "      <td>Naive Bayes</td>\n",
       "      <td>0.768789</td>\n",
       "      <td>0.025797</td>\n",
       "    </tr>\n",
       "    <tr>\n",
       "      <th>8</th>\n",
       "      <td>Perceptron</td>\n",
       "      <td>0.707341</td>\n",
       "      <td>0.103821</td>\n",
       "    </tr>\n",
       "  </tbody>\n",
       "</table>\n",
       "</div>"
      ],
      "text/plain": [
       "                         Model  Mean_Accuracy  Std_Accuracy\n",
       "3                Random Forest       0.820499      0.038780\n",
       "0                          KNN       0.813720      0.037506\n",
       "4                Decision Tree       0.809263      0.036858\n",
       "2               LASSO-Logisitc       0.790100      0.029466\n",
       "5          SVM - Linear Kernel       0.786729      0.028599\n",
       "6             SVM - rbf Kernel       0.786729      0.028599\n",
       "1  Logistic Regression (Ridge)       0.785581      0.033006\n",
       "7                  Naive Bayes       0.768789      0.025797\n",
       "8                   Perceptron       0.707341      0.103821"
      ]
     },
     "execution_count": 129,
     "metadata": {},
     "output_type": "execute_result"
    }
   ],
   "source": [
    "result_df_UpLow_nofare"
   ]
  },
  {
   "cell_type": "code",
   "execution_count": 90,
   "metadata": {},
   "outputs": [
    {
     "data": {
      "text/html": [
       "<div>\n",
       "<style scoped>\n",
       "    .dataframe tbody tr th:only-of-type {\n",
       "        vertical-align: middle;\n",
       "    }\n",
       "\n",
       "    .dataframe tbody tr th {\n",
       "        vertical-align: top;\n",
       "    }\n",
       "\n",
       "    .dataframe thead th {\n",
       "        text-align: right;\n",
       "    }\n",
       "</style>\n",
       "<table border=\"1\" class=\"dataframe\">\n",
       "  <thead>\n",
       "    <tr style=\"text-align: right;\">\n",
       "      <th></th>\n",
       "      <th>Model</th>\n",
       "      <th>Mean_Accuracy</th>\n",
       "      <th>Std_Accuracy</th>\n",
       "    </tr>\n",
       "  </thead>\n",
       "  <tbody>\n",
       "    <tr>\n",
       "      <th>0</th>\n",
       "      <td>KNN</td>\n",
       "      <td>0.840637</td>\n",
       "      <td>0.031652</td>\n",
       "    </tr>\n",
       "    <tr>\n",
       "      <th>3</th>\n",
       "      <td>Random Forest</td>\n",
       "      <td>0.833958</td>\n",
       "      <td>0.033957</td>\n",
       "    </tr>\n",
       "    <tr>\n",
       "      <th>4</th>\n",
       "      <td>Decision Tree</td>\n",
       "      <td>0.816017</td>\n",
       "      <td>0.040369</td>\n",
       "    </tr>\n",
       "    <tr>\n",
       "      <th>1</th>\n",
       "      <td>Logistic Regression (Ridge)</td>\n",
       "      <td>0.795680</td>\n",
       "      <td>0.030756</td>\n",
       "    </tr>\n",
       "    <tr>\n",
       "      <th>6</th>\n",
       "      <td>SVM - rbf Kernel</td>\n",
       "      <td>0.788976</td>\n",
       "      <td>0.030629</td>\n",
       "    </tr>\n",
       "    <tr>\n",
       "      <th>2</th>\n",
       "      <td>LASSO-Logisitc</td>\n",
       "      <td>0.788964</td>\n",
       "      <td>0.031904</td>\n",
       "    </tr>\n",
       "    <tr>\n",
       "      <th>5</th>\n",
       "      <td>SVM - Linear Kernel</td>\n",
       "      <td>0.786729</td>\n",
       "      <td>0.028599</td>\n",
       "    </tr>\n",
       "    <tr>\n",
       "      <th>7</th>\n",
       "      <td>Naive Bayes</td>\n",
       "      <td>0.767665</td>\n",
       "      <td>0.028080</td>\n",
       "    </tr>\n",
       "    <tr>\n",
       "      <th>8</th>\n",
       "      <td>Perceptron</td>\n",
       "      <td>0.699213</td>\n",
       "      <td>0.100218</td>\n",
       "    </tr>\n",
       "  </tbody>\n",
       "</table>\n",
       "</div>"
      ],
      "text/plain": [
       "                         Model  Mean_Accuracy  Std_Accuracy\n",
       "0                          KNN       0.840637      0.031652\n",
       "3                Random Forest       0.833958      0.033957\n",
       "4                Decision Tree       0.816017      0.040369\n",
       "1  Logistic Regression (Ridge)       0.795680      0.030756\n",
       "6             SVM - rbf Kernel       0.788976      0.030629\n",
       "2               LASSO-Logisitc       0.788964      0.031904\n",
       "5          SVM - Linear Kernel       0.786729      0.028599\n",
       "7                  Naive Bayes       0.767665      0.028080\n",
       "8                   Perceptron       0.699213      0.100218"
      ]
     },
     "execution_count": 90,
     "metadata": {},
     "output_type": "execute_result"
    }
   ],
   "source": [
    "result_df_one_hot_nofare"
   ]
  },
  {
   "cell_type": "code",
   "execution_count": 205,
   "metadata": {},
   "outputs": [
    {
     "ename": "NameError",
     "evalue": "name 'result_df_one_hot_nofare' is not defined",
     "output_type": "error",
     "traceback": [
      "\u001b[1;31m---------------------------------------------------------------------------\u001b[0m",
      "\u001b[1;31mNameError\u001b[0m                                 Traceback (most recent call last)",
      "\u001b[1;32m<ipython-input-205-f2bbc478f303>\u001b[0m in \u001b[0;36m<module>\u001b[1;34m\u001b[0m\n\u001b[1;32m----> 1\u001b[1;33m \u001b[0mresult_df_one_hot_nofare\u001b[0m\u001b[1;33m.\u001b[0m\u001b[0mnames\u001b[0m\u001b[1;33m(\u001b[0m\u001b[1;33m)\u001b[0m\u001b[1;33m\u001b[0m\u001b[1;33m\u001b[0m\u001b[0m\n\u001b[0m",
      "\u001b[1;31mNameError\u001b[0m: name 'result_df_one_hot_nofare' is not defined"
     ]
    }
   ],
   "source": [
    "result_df_one_hot_nofare.names()"
   ]
  },
  {
   "cell_type": "code",
   "execution_count": 56,
   "metadata": {},
   "outputs": [
    {
     "data": {
      "text/html": [
       "<div>\n",
       "<style scoped>\n",
       "    .dataframe tbody tr th:only-of-type {\n",
       "        vertical-align: middle;\n",
       "    }\n",
       "\n",
       "    .dataframe tbody tr th {\n",
       "        vertical-align: top;\n",
       "    }\n",
       "\n",
       "    .dataframe thead th {\n",
       "        text-align: right;\n",
       "    }\n",
       "</style>\n",
       "<table border=\"1\" class=\"dataframe\">\n",
       "  <thead>\n",
       "    <tr style=\"text-align: right;\">\n",
       "      <th></th>\n",
       "      <th>Model</th>\n",
       "      <th>Mean_Accuracy</th>\n",
       "      <th>Std_Accuracy</th>\n",
       "    </tr>\n",
       "  </thead>\n",
       "  <tbody>\n",
       "    <tr>\n",
       "      <th>0</th>\n",
       "      <td>KNN</td>\n",
       "      <td>0.835044</td>\n",
       "      <td>0.034679</td>\n",
       "    </tr>\n",
       "    <tr>\n",
       "      <th>3</th>\n",
       "      <td>Random Forest</td>\n",
       "      <td>0.817041</td>\n",
       "      <td>0.032673</td>\n",
       "    </tr>\n",
       "    <tr>\n",
       "      <th>4</th>\n",
       "      <td>Decision Tree</td>\n",
       "      <td>0.799164</td>\n",
       "      <td>0.042984</td>\n",
       "    </tr>\n",
       "    <tr>\n",
       "      <th>6</th>\n",
       "      <td>SVM - rbf Kernel</td>\n",
       "      <td>0.788976</td>\n",
       "      <td>0.030629</td>\n",
       "    </tr>\n",
       "    <tr>\n",
       "      <th>1</th>\n",
       "      <td>Logistic Regression (Ridge)</td>\n",
       "      <td>0.787815</td>\n",
       "      <td>0.030243</td>\n",
       "    </tr>\n",
       "    <tr>\n",
       "      <th>5</th>\n",
       "      <td>SVM - Linear Kernel</td>\n",
       "      <td>0.786729</td>\n",
       "      <td>0.028599</td>\n",
       "    </tr>\n",
       "    <tr>\n",
       "      <th>2</th>\n",
       "      <td>LASSO-Logisitc</td>\n",
       "      <td>0.781099</td>\n",
       "      <td>0.031735</td>\n",
       "    </tr>\n",
       "    <tr>\n",
       "      <th>7</th>\n",
       "      <td>Naive Bayes</td>\n",
       "      <td>0.764295</td>\n",
       "      <td>0.028972</td>\n",
       "    </tr>\n",
       "    <tr>\n",
       "      <th>8</th>\n",
       "      <td>Perceptron</td>\n",
       "      <td>0.699213</td>\n",
       "      <td>0.100218</td>\n",
       "    </tr>\n",
       "  </tbody>\n",
       "</table>\n",
       "</div>"
      ],
      "text/plain": [
       "                         Model  Mean_Accuracy  Std_Accuracy\n",
       "0                          KNN       0.835044      0.034679\n",
       "3                Random Forest       0.817041      0.032673\n",
       "4                Decision Tree       0.799164      0.042984\n",
       "6             SVM - rbf Kernel       0.788976      0.030629\n",
       "1  Logistic Regression (Ridge)       0.787815      0.030243\n",
       "5          SVM - Linear Kernel       0.786729      0.028599\n",
       "2               LASSO-Logisitc       0.781099      0.031735\n",
       "7                  Naive Bayes       0.764295      0.028972\n",
       "8                   Perceptron       0.699213      0.100218"
      ]
     },
     "execution_count": 56,
     "metadata": {},
     "output_type": "execute_result"
    }
   ],
   "source": [
    "result_df_one_hot"
   ]
  },
  {
   "cell_type": "code",
   "execution_count": 268,
   "metadata": {
    "scrolled": true
   },
   "outputs": [
    {
     "data": {
      "text/html": [
       "<div>\n",
       "<style scoped>\n",
       "    .dataframe tbody tr th:only-of-type {\n",
       "        vertical-align: middle;\n",
       "    }\n",
       "\n",
       "    .dataframe tbody tr th {\n",
       "        vertical-align: top;\n",
       "    }\n",
       "\n",
       "    .dataframe thead th {\n",
       "        text-align: right;\n",
       "    }\n",
       "</style>\n",
       "<table border=\"1\" class=\"dataframe\">\n",
       "  <thead>\n",
       "    <tr style=\"text-align: right;\">\n",
       "      <th></th>\n",
       "      <th>Model</th>\n",
       "      <th>Mean_Accuracy</th>\n",
       "      <th>Std_Accuracy</th>\n",
       "    </tr>\n",
       "  </thead>\n",
       "  <tbody>\n",
       "    <tr>\n",
       "      <th>0</th>\n",
       "      <td>KNN</td>\n",
       "      <td>0.835069</td>\n",
       "      <td>0.040250</td>\n",
       "    </tr>\n",
       "    <tr>\n",
       "      <th>3</th>\n",
       "      <td>Random Forest</td>\n",
       "      <td>0.828340</td>\n",
       "      <td>0.040520</td>\n",
       "    </tr>\n",
       "    <tr>\n",
       "      <th>4</th>\n",
       "      <td>Decision Tree</td>\n",
       "      <td>0.819363</td>\n",
       "      <td>0.036001</td>\n",
       "    </tr>\n",
       "    <tr>\n",
       "      <th>2</th>\n",
       "      <td>LASSO-Logisitc</td>\n",
       "      <td>0.791211</td>\n",
       "      <td>0.027374</td>\n",
       "    </tr>\n",
       "    <tr>\n",
       "      <th>6</th>\n",
       "      <td>SVM - rbf Kernel</td>\n",
       "      <td>0.788976</td>\n",
       "      <td>0.027594</td>\n",
       "    </tr>\n",
       "    <tr>\n",
       "      <th>1</th>\n",
       "      <td>Logistic Regression (Ridge)</td>\n",
       "      <td>0.788976</td>\n",
       "      <td>0.025699</td>\n",
       "    </tr>\n",
       "    <tr>\n",
       "      <th>5</th>\n",
       "      <td>SVM - Linear Kernel</td>\n",
       "      <td>0.786729</td>\n",
       "      <td>0.028599</td>\n",
       "    </tr>\n",
       "    <tr>\n",
       "      <th>7</th>\n",
       "      <td>Naive Bayes</td>\n",
       "      <td>0.769888</td>\n",
       "      <td>0.017238</td>\n",
       "    </tr>\n",
       "    <tr>\n",
       "      <th>8</th>\n",
       "      <td>Perceptron</td>\n",
       "      <td>0.693895</td>\n",
       "      <td>0.150559</td>\n",
       "    </tr>\n",
       "  </tbody>\n",
       "</table>\n",
       "</div>"
      ],
      "text/plain": [
       "                         Model  Mean_Accuracy  Std_Accuracy\n",
       "0                          KNN       0.835069      0.040250\n",
       "3                Random Forest       0.828340      0.040520\n",
       "4                Decision Tree       0.819363      0.036001\n",
       "2               LASSO-Logisitc       0.791211      0.027374\n",
       "6             SVM - rbf Kernel       0.788976      0.027594\n",
       "1  Logistic Regression (Ridge)       0.788976      0.025699\n",
       "5          SVM - Linear Kernel       0.786729      0.028599\n",
       "7                  Naive Bayes       0.769888      0.017238\n",
       "8                   Perceptron       0.693895      0.150559"
      ]
     },
     "execution_count": 268,
     "metadata": {},
     "output_type": "execute_result"
    }
   ],
   "source": [
    "result_df_train"
   ]
  },
  {
   "cell_type": "markdown",
   "metadata": {},
   "source": [
    "### Feature Selection Process:\n",
    "\n",
    "We can try to tabulate all results from the pickles stored: However it seems that the one-hot-encoded age categories with no fare variable produced the best results. K-NN and decision tree/random forest produced the best results. We can plot the results for the dataset **train_one_hot_nofare**.  "
   ]
  },
  {
   "cell_type": "code",
   "execution_count": 54,
   "metadata": {},
   "outputs": [
    {
     "data": {
      "text/plain": [
       "Text(0.5, 0.98, 'Comparison of Machine Leanring Algorithms')"
      ]
     },
     "execution_count": 54,
     "metadata": {},
     "output_type": "execute_result"
    },
    {
     "data": {
      "image/png": "[encoded data removed]",
      "text/plain": [
       "<Figure size 432x288 with 1 Axes>"
      ]
     },
     "metadata": {
      "needs_background": "light"
     },
     "output_type": "display_data"
    }
   ],
   "source": [
    "%matplotlib inline\n",
    "\n",
    "results = pd.read_pickle('result_df_one_hot_nofare.pkl') \n",
    "\n",
    "x = [0,1,2,3,4,5,6,7,8]\n",
    "labels = ['kNN', 'RF', 'DT', 'Ridge', 'rbf', 'LASSO', 'SVM-lin', 'NB', 'Perc']\n",
    "\n",
    "colour = sns.color_palette(\"colorblind\")\n",
    "ax = sns.pointplot(x = 'Model', y = 'Mean_Accuracy',\n",
    "                    data=results, join=False, hue = 'Model', scale =1.5 ,\n",
    "                     palette = colour )\n",
    "plt.xticks(x, labels,rotation=90)\n",
    "plt.legend(bbox_to_anchor=(1.05, 1), loc=2, borderaxespad=0.)\n",
    "\n",
    "ax.errorbar(x = results['Model'], y = results['Mean_Accuracy'], yerr=results['Std_Accuracy'], \n",
    "            fmt = ' ' , ecolor = colour)\n",
    "plt.suptitle('Comparison of Machine Leanring Algorithms')"
   ]
  },
  {
   "cell_type": "markdown",
   "metadata": {},
   "source": [
    "###  We can explore AUC and ROC curves of the chose model evaluated on the test set. "
   ]
  },
  {
   "cell_type": "code",
   "execution_count": 193,
   "metadata": {},
   "outputs": [],
   "source": [
    "### Our Test Set\n",
    "test_one_hot_nofare\n",
    "\n",
    "# Data Set-Up\n",
    "X_test = test_one_hot_nofare.drop('Survived' , axis = 1)\n",
    "Y_test = test_one_hot_nofare['Survived']\n",
    "\n",
    "# Refresh Memory\n",
    "X_train = train_one_hot_nofare.drop('Survived', axis = 1)\n",
    "Y_train = train_one_hot_nofare['Survived']"
   ]
  },
  {
   "cell_type": "markdown",
   "metadata": {},
   "source": [
    "### Final Model is a kNN-Classifier. "
   ]
  },
  {
   "cell_type": "code",
   "execution_count": 201,
   "metadata": {},
   "outputs": [
    {
     "name": "stdout",
     "output_type": "stream",
     "text": [
      "No Skill: ROC AUC=0.500\n",
      "kNN K=5: ROC AUC=0.804\n"
     ]
    },
    {
     "data": {
      "image/png": "[encoded data removed]",
      "text/plain": [
       "<Figure size 432x288 with 1 Axes>"
      ]
     },
     "metadata": {
      "needs_background": "light"
     },
     "output_type": "display_data"
    }
   ],
   "source": [
    "# Choose a best model and use this to explore ROC and AUC on the test set. \n",
    "\n",
    "from sklearn.metrics import roc_curve\n",
    "from sklearn.metrics import roc_auc_score\n",
    "from matplotlib import pyplot\n",
    "\n",
    "# generate a no skill prediction (majority class)\n",
    "ns_probs = [0 for _ in range(len(Y_test))]\n",
    "\n",
    "# fit a model\n",
    "final_model = KNeighborsClassifier(n_neighbors=6)\n",
    "final_model.fit(X_train, Y_train)\n",
    "# predict probabilities\n",
    "lr_probs = final_model.predict_proba(X_test)\n",
    "# keep probabilities for the positive outcome only\n",
    "lr_probs = lr_probs[:, 1]\n",
    "# calculate scores\n",
    "ns_auc = roc_auc_score(Y_test, ns_probs)\n",
    "lr_auc = roc_auc_score(Y_test, lr_probs)\n",
    "# print scores\n",
    "print('No Skill: ROC AUC=%.3f' % (ns_auc))\n",
    "print('kNN K=5: ROC AUC=%.3f' % (lr_auc))\n",
    "\n",
    "\n",
    "# calculate roc curves\n",
    "ns_fpr, ns_tpr, _ = roc_curve(Y_test, ns_probs)\n",
    "lr_fpr, lr_tpr, _ = roc_curve(Y_test, lr_probs)\n",
    "# plot the roc curve for the model\n",
    "pyplot.plot(ns_fpr, ns_tpr, linestyle='--', label='Coin Toss')\n",
    "pyplot.plot(lr_fpr, lr_tpr, marker='.', color='m' , label='kNN k=6')\n",
    "# fix axis, title and legends \n",
    "pyplot.xlabel('False Positive Rate')\n",
    "pyplot.ylabel('True Positive Rate')\n",
    "pyplot.legend()\n",
    "plt.suptitle('ROC AUC Curve - Test Set', fontsize=18)\n",
    "plt.text(0.65,0.05, 'AUC = 80.40%', color='Black', fontsize=16 )\n",
    "\n",
    "\n",
    "# show the plot\n",
    "pyplot.show()"
   ]
  },
  {
   "cell_type": "code",
   "execution_count": 203,
   "metadata": {},
   "outputs": [
    {
     "name": "stdout",
     "output_type": "stream",
     "text": [
      "              precision    recall  f1-score   support\n",
      "\n",
      "           0       0.86      0.91      0.89       549\n",
      "           1       0.84      0.77      0.80       342\n",
      "\n",
      "    accuracy                           0.86       891\n",
      "   macro avg       0.85      0.84      0.84       891\n",
      "weighted avg       0.85      0.86      0.85       891\n",
      "\n"
     ]
    },
    {
     "data": {
      "text/plain": [
       "Text(0.5, 0.98, 'Confusion Matrix - Test Set    ')"
      ]
     },
     "execution_count": 203,
     "metadata": {},
     "output_type": "execute_result"
    },
    {
     "data": {
      "image/png": "[encoded data removed]",
      "text/plain": [
       "<Figure size 432x288 with 2 Axes>"
      ]
     },
     "metadata": {
      "needs_background": "light"
     },
     "output_type": "display_data"
    }
   ],
   "source": [
    "from sklearn.metrics import classification_report, confusion_matrix\n",
    "\n",
    "Y_pred_test = final_model.predict(X_test)\n",
    "\n",
    "cf_matrix = confusion_matrix(Y_test, Y_pred_test)\n",
    "\n",
    "#print(confusion_matrix(Y_train, Y_pred))\n",
    "print(classification_report(Y_train, Y_pred))\n",
    "\n",
    "group_names = ['True Neg','False Pos','False Neg','True Pos']\n",
    "group_counts = ['{0:0.0f}'.format(value) for value in\n",
    "                cf_matrix.flatten()]\n",
    "group_percentages = ['{0:.2%}'.format(value) for value in\n",
    "                     cf_matrix.flatten()/np.sum(cf_matrix)]\n",
    "labels = [f'{v1}\\n{v2}\\n{v3}' for v1, v2, v3 in\n",
    "          zip(group_names,group_counts,group_percentages)]\n",
    "labels = np.asarray(labels).reshape(2,2)\n",
    "sns.heatmap(cf_matrix, annot=labels, fmt='', cmap='Greens')\n",
    "plt.suptitle('Confusion Matrix - Test Set    ', fontsize=18)"
   ]
  },
  {
   "cell_type": "code",
   "execution_count": 204,
   "metadata": {},
   "outputs": [
    {
     "name": "stdout",
     "output_type": "stream",
     "text": [
      "              precision    recall  f1-score   support\n",
      "\n",
      "           0       0.80      0.84      0.82       260\n",
      "           1       0.71      0.65      0.68       158\n",
      "\n",
      "    accuracy                           0.77       418\n",
      "   macro avg       0.75      0.74      0.75       418\n",
      "weighted avg       0.76      0.77      0.76       418\n",
      "\n"
     ]
    },
    {
     "data": {
      "text/html": [
       "<div>\n",
       "<style scoped>\n",
       "    .dataframe tbody tr th:only-of-type {\n",
       "        vertical-align: middle;\n",
       "    }\n",
       "\n",
       "    .dataframe tbody tr th {\n",
       "        vertical-align: top;\n",
       "    }\n",
       "\n",
       "    .dataframe thead th {\n",
       "        text-align: right;\n",
       "    }\n",
       "</style>\n",
       "<table border=\"1\" class=\"dataframe\">\n",
       "  <thead>\n",
       "    <tr style=\"text-align: right;\">\n",
       "      <th></th>\n",
       "      <th>0</th>\n",
       "      <th>1</th>\n",
       "      <th>accuracy</th>\n",
       "      <th>macro avg</th>\n",
       "      <th>weighted avg</th>\n",
       "    </tr>\n",
       "  </thead>\n",
       "  <tbody>\n",
       "    <tr>\n",
       "      <th>precision</th>\n",
       "      <td>0.795620</td>\n",
       "      <td>0.708333</td>\n",
       "      <td>0.76555</td>\n",
       "      <td>0.751977</td>\n",
       "      <td>0.762627</td>\n",
       "    </tr>\n",
       "    <tr>\n",
       "      <th>recall</th>\n",
       "      <td>0.838462</td>\n",
       "      <td>0.645570</td>\n",
       "      <td>0.76555</td>\n",
       "      <td>0.742016</td>\n",
       "      <td>0.765550</td>\n",
       "    </tr>\n",
       "    <tr>\n",
       "      <th>f1-score</th>\n",
       "      <td>0.816479</td>\n",
       "      <td>0.675497</td>\n",
       "      <td>0.76555</td>\n",
       "      <td>0.745988</td>\n",
       "      <td>0.763189</td>\n",
       "    </tr>\n",
       "    <tr>\n",
       "      <th>support</th>\n",
       "      <td>260.000000</td>\n",
       "      <td>158.000000</td>\n",
       "      <td>0.76555</td>\n",
       "      <td>418.000000</td>\n",
       "      <td>418.000000</td>\n",
       "    </tr>\n",
       "  </tbody>\n",
       "</table>\n",
       "</div>"
      ],
      "text/plain": [
       "                    0           1  accuracy   macro avg  weighted avg\n",
       "precision    0.795620    0.708333   0.76555    0.751977      0.762627\n",
       "recall       0.838462    0.645570   0.76555    0.742016      0.765550\n",
       "f1-score     0.816479    0.675497   0.76555    0.745988      0.763189\n",
       "support    260.000000  158.000000   0.76555  418.000000    418.000000"
      ]
     },
     "execution_count": 204,
     "metadata": {},
     "output_type": "execute_result"
    }
   ],
   "source": [
    "print(classification_report(Y_test, Y_pred_test))\n",
    "\n",
    "report = classification_report(Y_test, Y_pred_test, output_dict=True)\n",
    "\n",
    "pd.DataFrame(report)"
   ]
  },
  {
   "cell_type": "code",
   "execution_count": 124,
   "metadata": {},
   "outputs": [
    {
     "data": {
      "text/plain": [
       "0.8217054263565892"
      ]
     },
     "execution_count": 124,
     "metadata": {},
     "output_type": "execute_result"
    }
   ],
   "source": [
    "precison = report['0']['precision']"
   ]
  },
  {
   "cell_type": "markdown",
   "metadata": {},
   "source": [
    "### Lets see how the ROC curve for Random Forest looks. "
   ]
  },
  {
   "cell_type": "code",
   "execution_count": 195,
   "metadata": {},
   "outputs": [
    {
     "name": "stdout",
     "output_type": "stream",
     "text": [
      "No Skill: ROC AUC=0.500\n",
      "kNN K=5: ROC AUC=0.815\n"
     ]
    },
    {
     "data": {
      "image/png": "[encoded data removed]",
      "text/plain": [
       "<Figure size 432x288 with 1 Axes>"
      ]
     },
     "metadata": {
      "needs_background": "light"
     },
     "output_type": "display_data"
    }
   ],
   "source": [
    "from sklearn.metrics import roc_curve\n",
    "from sklearn.metrics import roc_auc_score\n",
    "from matplotlib import pyplot\n",
    "\n",
    "\n",
    "# generate a no skill prediction (majority class)\n",
    "ns_probs = [0 for _ in range(len(Y_test))]\n",
    "\n",
    "# fit a model\n",
    "final_model2 = RandomForestClassifier(criterion = 'entropy' , n_estimators=100)\n",
    "final_model2.fit(X_train, Y_train)\n",
    "# predict probabilities\n",
    "lr_probs = final_model2.predict_proba(X_test)\n",
    "# keep probabilities for the positive outcome only\n",
    "lr_probs = lr_probs[:, 1]\n",
    "# calculate scores\n",
    "ns_auc = roc_auc_score(Y_test, ns_probs)\n",
    "lr_auc = roc_auc_score(Y_test, lr_probs)\n",
    "# print scores\n",
    "print('No Skill: ROC AUC=%.3f' % (ns_auc))\n",
    "print('kNN K=5: ROC AUC=%.3f' % (lr_auc))\n",
    "\n",
    "\n",
    "# calculate roc curves\n",
    "ns_fpr, ns_tpr, _ = roc_curve(Y_test, ns_probs)\n",
    "lr_fpr, lr_tpr, _ = roc_curve(Y_test, lr_probs)\n",
    "# plot the roc curve for the model\n",
    "pyplot.plot(ns_fpr, ns_tpr, linestyle='--', label='Coin Toss')\n",
    "pyplot.plot(lr_fpr, lr_tpr, marker='.', color='m' , label='Decision Tree')\n",
    "# fix axis, title and legends \n",
    "pyplot.xlabel('False Positive Rate')\n",
    "pyplot.ylabel('True Positive Rate')\n",
    "pyplot.legend()\n",
    "plt.suptitle('ROC AUC Curve - Test Set', fontsize=18)\n",
    "plt.text(0.65,0.05, 'AUC = 81.10%', color='Black', fontsize=16 )\n",
    "\n",
    "\n",
    "# show the plot\n",
    "pyplot.show()"
   ]
  },
  {
   "cell_type": "code",
   "execution_count": 198,
   "metadata": {},
   "outputs": [
    {
     "name": "stdout",
     "output_type": "stream",
     "text": [
      "              precision    recall  f1-score   support\n",
      "\n",
      "           0       0.86      0.91      0.89       549\n",
      "           1       0.84      0.77      0.80       342\n",
      "\n",
      "    accuracy                           0.86       891\n",
      "   macro avg       0.85      0.84      0.84       891\n",
      "weighted avg       0.85      0.86      0.85       891\n",
      "\n"
     ]
    },
    {
     "data": {
      "text/plain": [
       "Text(0.5, 0.98, 'Confusion Matrix - Test Set    ')"
      ]
     },
     "execution_count": 198,
     "metadata": {},
     "output_type": "execute_result"
    },
    {
     "data": {
      "image/png": "[encoded data removed]",
      "text/plain": [
       "<Figure size 432x288 with 2 Axes>"
      ]
     },
     "metadata": {
      "needs_background": "light"
     },
     "output_type": "display_data"
    }
   ],
   "source": [
    "from sklearn.metrics import classification_report, confusion_matrix\n",
    "\n",
    "Y_pred_test = final_model2.predict(X_test)\n",
    "\n",
    "cf_matrix = confusion_matrix(Y_test, Y_pred_test)\n",
    "\n",
    "#print(confusion_matrix(Y_train, Y_pred))\n",
    "print(classification_report(Y_train, Y_pred))\n",
    "\n",
    "group_names = ['True Neg','False Pos','False Neg','True Pos']\n",
    "group_counts = ['{0:0.0f}'.format(value) for value in\n",
    "                cf_matrix.flatten()]\n",
    "group_percentages = ['{0:.2%}'.format(value) for value in\n",
    "                     cf_matrix.flatten()/np.sum(cf_matrix)]\n",
    "labels = [f'{v1}\\n{v2}\\n{v3}' for v1, v2, v3 in\n",
    "          zip(group_names,group_counts,group_percentages)]\n",
    "labels = np.asarray(labels).reshape(2,2)\n",
    "sns.heatmap(cf_matrix, annot=labels, fmt='', cmap='Greens')\n",
    "plt.suptitle('Confusion Matrix - Test Set    ', fontsize=18)"
   ]
  },
  {
   "cell_type": "markdown",
   "metadata": {},
   "source": [
    "### End of Notebook. \n",
    "\n",
    "Thank you. "
   ]
  }
 ],
 "metadata": {
  "kernelspec": {
   "display_name": "Python 3",
   "language": "python",
   "name": "python3"
  },
  "language_info": {
   "codemirror_mode": {
    "name": "ipython",
    "version": 3
   },
   "file_extension": ".py",
   "mimetype": "text/x-python",
   "name": "python",
   "nbconvert_exporter": "python",
   "pygments_lexer": "ipython3",
   "version": "3.8.5"
  }
 },
 "nbformat": 4,
 "nbformat_minor": 4
}
