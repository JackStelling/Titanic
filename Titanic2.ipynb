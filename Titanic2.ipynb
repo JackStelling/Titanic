{
 "cells": [
  {
   "cell_type": "code",
   "execution_count": 1,
   "metadata": {},
   "outputs": [
    {
     "name": "stdout",
     "output_type": "stream",
     "text": [
      "3.6.12\n"
     ]
    }
   ],
   "source": [
    "from platform import python_version \n",
    "\n",
    "print(python_version()) # Require Py 3.6 for tensorflow 2 "
   ]
  },
  {
   "cell_type": "code",
   "execution_count": 2,
   "metadata": {},
   "outputs": [],
   "source": [
    "# import libraries:\n",
    "\n",
    "import pandas as pd \n",
    "import seaborn as sns \n",
    "import matplotlib.pyplot as plt \n",
    "import numpy as np"
   ]
  },
  {
   "cell_type": "code",
   "execution_count": 3,
   "metadata": {},
   "outputs": [],
   "source": [
    "# Read in the pickle files from last notebook\n",
    "\n",
    "\n",
    "# Train Sets ------\n",
    "train = pd.read_pickle('train.pkl')\n",
    "train_one_hot = pd.read_pickle('train_one_hot.pkl') \n",
    "train_one_hot_nofare = pd.read_pickle('train_one_hot_nofare.pkl')\n",
    "train_UpLow = pd.read_pickle('train_UpLow.pkl')\n",
    "\n",
    "# Test Sets: ------\n",
    "test = pd.read_pickle('test.pkl')\n",
    "test_one_hot_nofare = pd.read_pickle('test_one_hot_nofare.pkl')"
   ]
  },
  {
   "cell_type": "code",
   "execution_count": 4,
   "metadata": {},
   "outputs": [],
   "source": [
    "# drop the fare vairable from dataframe\n",
    "train_UpLow_fare = train_UpLow \n",
    "train_UpLow_nofare = train_UpLow.drop('Fare', axis=1)"
   ]
  },
  {
   "cell_type": "code",
   "execution_count": 5,
   "metadata": {},
   "outputs": [],
   "source": [
    "# create 3 datasets to check accuracy. These all have ages as levels (not one hot encoded).\n",
    "\n",
    "train_fare_stand = train\n",
    "train_fare_stand['Fare'] = (train_fare_stand['Fare']-train_fare_stand['Fare'].mean())/train_fare_stand['Fare'].std() # Standardising\n",
    "train_nofare = train.drop('Fare', axis=1)\n"
   ]
  },
  {
   "cell_type": "markdown",
   "metadata": {},
   "source": [
    "## Lets look at fitting our first models:"
   ]
  },
  {
   "cell_type": "code",
   "execution_count": 6,
   "metadata": {},
   "outputs": [],
   "source": [
    "# Set up a Response Vector = Y and Data Vector = X using the dataset we want to explore\n",
    "\n",
    "dataset = train_one_hot_nofare #this dataset can chage depending on what we're testing\n",
    "\n",
    "X_train = dataset.drop('Survived', axis = 1)\n",
    "Y_train = dataset['Survived']\n",
    "\n",
    "X_test = test.drop('Survived' , axis = 1)\n",
    "Y_test = test['Survived']\n",
    "\n",
    "\n",
    "# Set up vectors of feature names for plotting importance later:\n",
    "\n",
    "X_names = list(X_train.columns)\n",
    "Y_names = Y_train.name\n",
    "\n",
    "# for each method we want to tune any hyperparameters using k-fold cross validation:\n",
    "from sklearn.model_selection import cross_val_score"
   ]
  },
  {
   "cell_type": "code",
   "execution_count": 7,
   "metadata": {},
   "outputs": [
    {
     "data": {
      "text/plain": [
       "['Pclass',\n",
       " 'Sex',\n",
       " 'Embarked',\n",
       " 'Title',\n",
       " 'Deck',\n",
       " 'GroupSize',\n",
       " 'Adolescent',\n",
       " 'Adult',\n",
       " 'Child',\n",
       " 'Senior',\n",
       " 'Young Adult']"
      ]
     },
     "execution_count": 7,
     "metadata": {},
     "output_type": "execute_result"
    }
   ],
   "source": [
    "X_names # Sanity Check"
   ]
  },
  {
   "cell_type": "code",
   "execution_count": 8,
   "metadata": {},
   "outputs": [
    {
     "data": {
      "text/plain": [
       "'Survived'"
      ]
     },
     "execution_count": 8,
     "metadata": {},
     "output_type": "execute_result"
    }
   ],
   "source": [
    "Y_names"
   ]
  },
  {
   "cell_type": "markdown",
   "metadata": {},
   "source": [
    "## K-Nearest-Neighbours"
   ]
  },
  {
   "cell_type": "code",
   "execution_count": 9,
   "metadata": {},
   "outputs": [
    {
     "data": {
      "text/plain": [
       "KNeighborsClassifier()"
      ]
     },
     "execution_count": 9,
     "metadata": {},
     "output_type": "execute_result"
    }
   ],
   "source": [
    "## KNearestNeighbours\n",
    "\n",
    "from sklearn.neighbors import KNeighborsClassifier\n",
    "\n",
    "neigh = KNeighborsClassifier(n_neighbors=5)\n",
    "neigh.fit(X_train, Y_train)"
   ]
  },
  {
   "cell_type": "code",
   "execution_count": 10,
   "metadata": {},
   "outputs": [
    {
     "name": "stdout",
     "output_type": "stream",
     "text": [
      "Accuracy for 10 folds [0.81111111 0.83146067 0.7752809  0.86516854 0.87640449 0.80898876\n",
      " 0.83146067 0.7752809  0.8988764  0.87640449]\n",
      "Mean Accuracy: 0.835043695380774\n",
      "Standard Deviation of Accuracy 0.041017118590292244\n"
     ]
    }
   ],
   "source": [
    "# Cross Val:\n",
    "\n",
    "CV_neigh = cross_val_score(neigh, X_train, Y_train, cv = 10, scoring='accuracy')\n",
    "print('Accuracy for 10 folds', CV_neigh)\n",
    "mean_neigh = CV_neigh.mean()\n",
    "print('Mean Accuracy:', mean_neigh)\n",
    "std_neigh = CV_neigh.std()\n",
    "print('Standard Deviation of Accuracy', std_neigh)\n"
   ]
  },
  {
   "cell_type": "code",
   "execution_count": 11,
   "metadata": {},
   "outputs": [
    {
     "name": "stdout",
     "output_type": "stream",
     "text": [
      "Tuning Table for K:\n",
      "     K  Mean_Accuracy  Std_Accuracy\n",
      "0   2       0.790150      0.045095\n",
      "1   3       0.826055      0.041734\n",
      "2   4       0.820462      0.034590\n",
      "3   5       0.835044      0.041017\n",
      "4   6       0.841785      0.040797\n",
      "5   7       0.824981      0.040501\n",
      "6   8       0.835069      0.039935\n",
      "7   9       0.833895      0.035453\n",
      "8  10       0.830524      0.036401\n"
     ]
    }
   ],
   "source": [
    "# How to select an optimal number of neighbours:\n",
    "\n",
    "neighbour_num = [2,3,4,5,6,7,8,9,10]\n",
    "d = []\n",
    "\n",
    "for i in neighbour_num :\n",
    "    neigh = KNeighborsClassifier(n_neighbors=i)\n",
    "    neigh.fit(X_train, Y_train)\n",
    "    CV_neigh = cross_val_score(neigh, X_train, Y_train, cv = 10, scoring='accuracy')\n",
    "    d.append((i, CV_neigh.mean(), CV_neigh.std()))\n",
    "    \n",
    "    tuning_table = pd.DataFrame(d, columns =('K', 'Mean_Accuracy', 'Std_Accuracy'))\n",
    "    \n",
    "print('Tuning Table for K:\\n' , tuning_table)"
   ]
  },
  {
   "cell_type": "code",
   "execution_count": 12,
   "metadata": {},
   "outputs": [
    {
     "name": "stdout",
     "output_type": "stream",
     "text": [
      "Max Accuracy: 0.8417852684144819   When K = 6\n",
      "Min Std :  0.034590220126847114   When K = 4\n"
     ]
    }
   ],
   "source": [
    "print( 'Max Accuracy:', tuning_table.Mean_Accuracy.max() , \n",
    "          '  When K =', tuning_table['K'].loc[tuning_table['Mean_Accuracy'] == tuning_table.Mean_Accuracy.max()].values[0] )\n",
    "print( 'Min Std : ' , tuning_table.Std_Accuracy.min() ,\n",
    "         '  When K =', tuning_table['K'].loc[tuning_table['Std_Accuracy'] == tuning_table.Std_Accuracy.min()].values[0]  )"
   ]
  },
  {
   "cell_type": "code",
   "execution_count": 13,
   "metadata": {},
   "outputs": [
    {
     "data": {
      "image/png": "[encoded data removed]",
      "text/plain": [
       "<Figure size 432x288 with 2 Axes>"
      ]
     },
     "metadata": {
      "needs_background": "light"
     },
     "output_type": "display_data"
    }
   ],
   "source": [
    "## Plot a line graph\n",
    "#tt = tuning_table.reset_index().melt('index', var_name='cols',  value_name='vals')\n",
    "#g = sns.catplot(x=\"index\", y=\"vals\", hue='cols', data=tt, kind='point')\n",
    "fig, ax =plt.subplots(1,2)\n",
    "\n",
    "sns.lineplot(x=tuning_table['K'], y=\"Mean_Accuracy\", data=tuning_table, ax=ax[0])\n",
    "sns.lineplot(x=tuning_table['K'], y=\"Std_Accuracy\", data=tuning_table, ax=ax[1])\n",
    "#g.set_xticklabels(['1','2','3','4','5','6','7','8'])\n",
    "#h.set_xticklabels(['1','2','3','4','5','6','7','8'])\n",
    "fig.suptitle('Number of Neighbours (K) Vs Mean Accuracy \\n and Standard Deviation of Accuracy', fontsize=18, y=1.03)\n",
    "fig.tight_layout()\n",
    "plt.show()"
   ]
  },
  {
   "cell_type": "code",
   "execution_count": 14,
   "metadata": {},
   "outputs": [
    {
     "name": "stdout",
     "output_type": "stream",
     "text": [
      "Accuracy for 10 folds [0.81111111 0.84269663 0.7752809  0.87640449 0.87640449 0.82022472\n",
      " 0.84269663 0.78651685 0.8988764  0.88764045]\n",
      "Mean Accuracy: 0.8417852684144819\n",
      "Standard Deviation of Accuracy 0.040796970764718166\n"
     ]
    }
   ],
   "source": [
    "# Thus we can choose K=6 as a mean variance trade off. Giving:\n",
    "\n",
    "neigh = KNeighborsClassifier(n_neighbors=6)\n",
    "neigh.fit(X_train, Y_train)\n",
    "CV_neigh = cross_val_score(neigh, X_train, Y_train, cv = 10, scoring='accuracy')\n",
    "print('Accuracy for 10 folds', CV_neigh)\n",
    "mean_neigh = CV_neigh.mean()\n",
    "print('Mean Accuracy:', mean_neigh)\n",
    "std_neigh = CV_neigh.std()\n",
    "print('Standard Deviation of Accuracy', std_neigh)\n"
   ]
  },
  {
   "cell_type": "code",
   "execution_count": 15,
   "metadata": {},
   "outputs": [
    {
     "name": "stdout",
     "output_type": "stream",
     "text": [
      "[[507  42]\n",
      " [ 85 257]]\n",
      "              precision    recall  f1-score   support\n",
      "\n",
      "           0       0.86      0.92      0.89       549\n",
      "           1       0.86      0.75      0.80       342\n",
      "\n",
      "    accuracy                           0.86       891\n",
      "   macro avg       0.86      0.84      0.85       891\n",
      "weighted avg       0.86      0.86      0.86       891\n",
      "\n"
     ]
    }
   ],
   "source": [
    "from sklearn.metrics import classification_report, confusion_matrix\n",
    "\n",
    "Y_pred = neigh.predict(X_train)\n",
    "\n",
    "cf_matrix = confusion_matrix(Y_train, Y_pred)\n",
    "\n",
    "print(confusion_matrix(Y_train, Y_pred))\n",
    "print(classification_report(Y_train, Y_pred))\n",
    "\n",
    "# Saving other metric (Recall, Precision, F1-Score)\n",
    "\n",
    "report = classification_report(Y_train, Y_pred, output_dict=True)\n",
    "recall_knn = report['0']['recall']\n",
    "precision_knn = report['0']['precision']\n",
    "f1_knn = report['0']['f1-score']\n"
   ]
  },
  {
   "cell_type": "code",
   "execution_count": null,
   "metadata": {},
   "outputs": [],
   "source": []
  },
  {
   "cell_type": "code",
   "execution_count": 16,
   "metadata": {},
   "outputs": [],
   "source": [
    "CR = classification_report(Y_train, Y_pred, output_dict=True)\n"
   ]
  },
  {
   "cell_type": "code",
   "execution_count": 17,
   "metadata": {},
   "outputs": [
    {
     "data": {
      "text/plain": [
       "Text(0.5, 0.98, 'Confustion Matrix')"
      ]
     },
     "execution_count": 17,
     "metadata": {},
     "output_type": "execute_result"
    },
    {
     "data": {
      "image/png": "[encoded data removed]",
      "text/plain": [
       "<Figure size 432x288 with 2 Axes>"
      ]
     },
     "metadata": {
      "needs_background": "light"
     },
     "output_type": "display_data"
    }
   ],
   "source": [
    "group_names = ['True Neg','False Pos','False Neg','True Pos']\n",
    "group_counts = ['{0:0.0f}'.format(value) for value in\n",
    "                cf_matrix.flatten()]\n",
    "group_percentages = ['{0:.2%}'.format(value) for value in\n",
    "                     cf_matrix.flatten()/np.sum(cf_matrix)]\n",
    "labels = [f'{v1}\\n{v2}\\n{v3}' for v1, v2, v3 in\n",
    "          zip(group_names,group_counts,group_percentages)]\n",
    "labels = np.asarray(labels).reshape(2,2)\n",
    "sns.heatmap(cf_matrix, annot=labels, fmt='', cmap='Greens')\n",
    "plt.suptitle('Confustion Matrix')"
   ]
  },
  {
   "cell_type": "code",
   "execution_count": null,
   "metadata": {},
   "outputs": [],
   "source": []
  },
  {
   "cell_type": "markdown",
   "metadata": {},
   "source": [
    "## Logistic Regression"
   ]
  },
  {
   "cell_type": "code",
   "execution_count": 18,
   "metadata": {},
   "outputs": [
    {
     "name": "stdout",
     "output_type": "stream",
     "text": [
      "Accuracy for 10 folds [0.83333333 0.78651685 0.74157303 0.80898876 0.83146067 0.76404494\n",
      " 0.79775281 0.79775281 0.83146067 0.76404494]\n",
      "Mean Accuracy: 0.795692883895131\n",
      "Standard Deviation of Accuracy 0.03029369904495602\n"
     ]
    }
   ],
   "source": [
    "## Logistic Regression:\n",
    "\n",
    "from sklearn.linear_model import LogisticRegression\n",
    "\n",
    "logreg = LogisticRegression(max_iter=1000)\n",
    "\n",
    "logreg.fit(X_train, Y_train)\n",
    "CV_logreg = cross_val_score(logreg, X_train, Y_train, cv = 10, scoring='accuracy')\n",
    "print('Accuracy for 10 folds', CV_logreg)\n",
    "mean_logreg = CV_logreg.mean()\n",
    "print('Mean Accuracy:', mean_logreg)\n",
    "std_logreg = CV_logreg.std()\n",
    "print('Standard Deviation of Accuracy', std_logreg)\n",
    "\n",
    "# We dont have hyperparameters to tune but we could use best subset selction and regularisation methods\n"
   ]
  },
  {
   "cell_type": "code",
   "execution_count": 19,
   "metadata": {},
   "outputs": [
    {
     "name": "stdout",
     "output_type": "stream",
     "text": [
      "Penalty: l1\n",
      "Tuned Hyperparameters : (Best Parameters)  {'C': 1.0}\n",
      "Accuracy : 0.7979400749063671\n",
      "-------------------------------------\n",
      "0.616 (+/-0.007) for {'C': 0.001}\n",
      "0.741 (+/-0.094) for {'C': 0.01}\n",
      "0.784 (+/-0.069) for {'C': 0.1}\n",
      "0.798 (+/-0.056) for {'C': 1.0}\n",
      "0.787 (+/-0.048) for {'C': 10.0}\n",
      "0.788 (+/-0.052) for {'C': 100.0}\n",
      "0.788 (+/-0.052) for {'C': 1000.0}\n",
      "-------------------------------------\n",
      "-------------------------------------\n",
      "Penalty: l2\n",
      "Tuned Hyperparameters : (Best Parameters)  {'C': 1.0}\n",
      "Accuracy : 0.795692883895131\n",
      "-------------------------------------\n",
      "0.707 (+/-0.053) for {'C': 0.001}\n",
      "0.781 (+/-0.076) for {'C': 0.01}\n",
      "0.781 (+/-0.063) for {'C': 0.1}\n",
      "0.796 (+/-0.061) for {'C': 1.0}\n",
      "0.787 (+/-0.052) for {'C': 10.0}\n",
      "0.788 (+/-0.052) for {'C': 100.0}\n",
      "0.788 (+/-0.052) for {'C': 1000.0}\n",
      "-------------------------------------\n",
      "-------------------------------------\n"
     ]
    }
   ],
   "source": [
    "from sklearn.model_selection import GridSearchCV\n",
    "\n",
    "# Might need a special grid for logisitic regression. Or even tailored to each classifier.\n",
    "grid={\"C\":np.logspace(-3,3,7)}\n",
    "logreg_l1 = LogisticRegression(penalty = 'l1', solver='liblinear',max_iter=1000) #LASSO\n",
    "logreg_l2 = LogisticRegression(penalty = 'l2',max_iter=1000) #Ridge\n",
    "# logreg_elas = LogisticRegression(penalty = 'elasticnet' , solver = 'saga') leave this for now if adding need put in vector below\n",
    "regs = [logreg_l1, logreg_l2]\n",
    "\n",
    "\n",
    "for logreg in regs:\n",
    "    CV_logreg=GridSearchCV(logreg , grid , cv=10)\n",
    "    CV_logreg.fit(X_train, Y_train)\n",
    "    print(\"Penalty:\" , logreg.penalty )\n",
    "    print(\"Tuned Hyperparameters : (Best Parameters) \",CV_logreg.best_params_)\n",
    "    print(\"Accuracy :\",CV_logreg.best_score_)\n",
    "    print('-------------------------------------')\n",
    "    means = CV_logreg.cv_results_['mean_test_score']\n",
    "    stds = CV_logreg.cv_results_['std_test_score']\n",
    "    \n",
    "    for mean, std, params in zip(means, stds, CV_logreg.cv_results_['params']):\n",
    "        print(\"%0.3f (+/-%0.03f) for %r\"\n",
    "              % (mean, std * 2, params))\n",
    "    print('-------------------------------------')\n",
    "    print('-------------------------------------')\n",
    "\n"
   ]
  },
  {
   "cell_type": "code",
   "execution_count": 20,
   "metadata": {},
   "outputs": [
    {
     "data": {
      "text/plain": [
       "dict_keys(['C', 'class_weight', 'dual', 'fit_intercept', 'intercept_scaling', 'l1_ratio', 'max_iter', 'multi_class', 'n_jobs', 'penalty', 'random_state', 'solver', 'tol', 'verbose', 'warm_start'])"
      ]
     },
     "execution_count": 20,
     "metadata": {},
     "output_type": "execute_result"
    }
   ],
   "source": [
    "logreg.get_params().keys()"
   ]
  },
  {
   "cell_type": "code",
   "execution_count": 21,
   "metadata": {},
   "outputs": [
    {
     "data": {
      "text/plain": [
       "dict_keys(['cv', 'error_score', 'estimator__C', 'estimator__class_weight', 'estimator__dual', 'estimator__fit_intercept', 'estimator__intercept_scaling', 'estimator__l1_ratio', 'estimator__max_iter', 'estimator__multi_class', 'estimator__n_jobs', 'estimator__penalty', 'estimator__random_state', 'estimator__solver', 'estimator__tol', 'estimator__verbose', 'estimator__warm_start', 'estimator', 'iid', 'n_jobs', 'param_grid', 'pre_dispatch', 'refit', 'return_train_score', 'scoring', 'verbose'])"
      ]
     },
     "execution_count": 21,
     "metadata": {},
     "output_type": "execute_result"
    }
   ],
   "source": [
    "CV_logreg.get_params().keys()"
   ]
  },
  {
   "cell_type": "code",
   "execution_count": 22,
   "metadata": {},
   "outputs": [],
   "source": [
    "# Fit best models in each case. \n",
    "\n",
    "LR_L1 = LogisticRegression(C=100, penalty='l1', solver = 'liblinear',max_iter=1000).fit(X_train, Y_train)\n",
    "LR_L2 = LogisticRegression(C=100, penalty='l2',max_iter=1000).fit(X_train, Y_train)\n",
    "\n",
    "# Extract scores:\n",
    "CV_LR_L1 = cross_val_score( LR_L1 , X_train, Y_train, cv = 10, scoring='accuracy')\n",
    "mean_lasso = CV_LR_L1.mean()\n",
    "std_lasso = CV_LR_L1.std()\n",
    "\n",
    "CV_LR_L2 = cross_val_score( LR_L2, X_train, Y_train, cv = 10, scoring='accuracy')\n",
    "mean_ridge = CV_LR_L2.mean()\n",
    "std_ridge = CV_LR_L2.std()\n"
   ]
  },
  {
   "cell_type": "code",
   "execution_count": 23,
   "metadata": {},
   "outputs": [],
   "source": [
    "from sklearn.metrics import accuracy_score\n",
    "\n",
    "#print('logistic_regression (L1) accuracy:',accuracy_score(Y_test, LR_L1.predict(X_test)))\n",
    "#print('logistic_regression (L2) accuracy:',accuracy_score(Y_test, LR_L2.predict(X_test)))"
   ]
  },
  {
   "cell_type": "code",
   "execution_count": 24,
   "metadata": {},
   "outputs": [],
   "source": [
    "from sklearn.metrics import classification_report, confusion_matrix\n",
    "\n",
    "# LASSO:\n",
    "    \n",
    "Y_pred_L1 = LR_L1.predict(X_train)\n",
    "\n",
    "# Saving other metric (Recall, Precision, F1-Score)\n",
    "\n",
    "report = classification_report(Y_train, Y_pred_L1, output_dict=True)\n",
    "recall_L1 = report['0']['recall']\n",
    "precision_L1 = report['0']['precision']\n",
    "f1_L1 = report['0']['f1-score']\n",
    "\n",
    "# Ridge\n",
    "\n",
    "Y_pred_L2 = LR_L2.predict(X_train)\n",
    "\n",
    "# Saving other metric (Recall, Precision, F1-Score)\n",
    "\n",
    "report = classification_report(Y_train, Y_pred_L2, output_dict=True)\n",
    "recall_L2 = report['0']['recall']\n",
    "precision_L2 = report['0']['precision']\n",
    "f1_L2 = report['0']['f1-score']"
   ]
  },
  {
   "cell_type": "code",
   "execution_count": 25,
   "metadata": {},
   "outputs": [
    {
     "data": {
      "text/plain": [
       "0.8418277680140598"
      ]
     },
     "execution_count": 25,
     "metadata": {},
     "output_type": "execute_result"
    }
   ],
   "source": [
    "f1_L2"
   ]
  },
  {
   "cell_type": "code",
   "execution_count": 26,
   "metadata": {},
   "outputs": [],
   "source": [
    "# Feature Importance:\n",
    "def plot_coefficients(classifier, feature_names, clf_id, top_features=4):\n",
    "    coef = classifier.coef_.ravel()\n",
    "    top_positive_coefficients = np.argsort(coef)[-top_features:]\n",
    "    top_negative_coefficients = np.argsort(coef)[:top_features]\n",
    "    top_coefficients = np.hstack([top_negative_coefficients, top_positive_coefficients])\n",
    " # create plot\n",
    "    plt.figure(figsize=(15, 5))\n",
    "    plt.title(clf_id)\n",
    "    colors = ['red' if c < 0 else 'blue' for c in coef[top_coefficients]]\n",
    "    plt.bar(np.arange(2 * top_features), coef[top_coefficients], color=colors)\n",
    "    feature_names = np.array(feature_names)\n",
    "    plt.xticks(np.arange(0, 2 * top_features), feature_names[top_coefficients], rotation=0)\n",
    "    plt.show()"
   ]
  },
  {
   "cell_type": "code",
   "execution_count": 27,
   "metadata": {
    "scrolled": false
   },
   "outputs": [
    {
     "name": "stdout",
     "output_type": "stream",
     "text": [
      "logistic_regression (L1) accuracy: 0.797979797979798\n"
     ]
    },
    {
     "data": {
      "image/png": "[encoded data removed]",
      "text/plain": [
       "<Figure size 1080x360 with 1 Axes>"
      ]
     },
     "metadata": {
      "needs_background": "light"
     },
     "output_type": "display_data"
    }
   ],
   "source": [
    "from sklearn.metrics import accuracy_score\n",
    "\n",
    "print('logistic_regression (L1) accuracy:',accuracy_score(Y_train, LR_L1.predict(X_train)))\n",
    "plot_coefficients(LR_L1, X_names, 'Logistic Regression (L1)', top_features = 3)"
   ]
  },
  {
   "cell_type": "code",
   "execution_count": 28,
   "metadata": {
    "scrolled": false
   },
   "outputs": [
    {
     "name": "stdout",
     "output_type": "stream",
     "text": [
      "logistic_regression (L2) accuracy: 0.797979797979798\n"
     ]
    },
    {
     "data": {
      "image/png": "[encoded data removed]",
      "text/plain": [
       "<Figure size 1080x360 with 1 Axes>"
      ]
     },
     "metadata": {
      "needs_background": "light"
     },
     "output_type": "display_data"
    }
   ],
   "source": [
    "print('logistic_regression (L2) accuracy:',accuracy_score(Y_train, LR_L2.predict(X_train)))\n",
    "plot_coefficients(LR_L2, X_names, 'Logistic Regression (L2)', top_features=3)"
   ]
  },
  {
   "cell_type": "markdown",
   "metadata": {},
   "source": [
    "## Decision Tree and Random Forest"
   ]
  },
  {
   "cell_type": "code",
   "execution_count": 29,
   "metadata": {},
   "outputs": [
    {
     "name": "stdout",
     "output_type": "stream",
     "text": [
      "87.21\n"
     ]
    }
   ],
   "source": [
    "## Random Forest\n",
    "\n",
    "from sklearn.ensemble import RandomForestClassifier\n",
    "from sklearn.tree import DecisionTreeClassifier, plot_tree \n",
    "\n",
    "#parameters = [{'kernel': ['linear'],\n",
    "#                #'gamma': [1e-6, 1e-5, 1e-4],\n",
    "#                'C': [0.1, 1, 10, 100, 1000]}]\n",
    "\n",
    "\n",
    "#print(\"# Tuning hyper-parameters\")\n",
    "#clf = GridSearchCV(logreg, parameters, cv=10)\n",
    "#clf.fit(X_train, Y_train)\n",
    "\n",
    "\n",
    "#print('best parameters:')\n",
    "#print(clf.best_params_)\n",
    "#print('-------------------------------------')\n",
    "#means = clf.cv_results_['mean_test_score']\n",
    "#stds = clf.cv_results_['std_test_score']\n",
    "#for mean, std, params in zip(means, stds, clf.cv_results_['params']):\n",
    "#    print(\"%0.3f (+/-%0.03f) for %r\"\n",
    "#          % (mean, std * 2, params))\n",
    "\n",
    "random_forest = RandomForestClassifier(criterion = 'entropy' , n_estimators=100)\n",
    "random_forest.fit(X_train, Y_train)\n",
    "\n",
    "CV_random_forest = cross_val_score( random_forest, X_train, Y_train, cv = 10, scoring='accuracy')\n",
    "mean_random_forest = CV_random_forest.mean()\n",
    "std_random_forest = CV_random_forest.std()\n",
    "#Y_prediction = random_forest.predict(X_test)\n",
    "\n",
    "random_forest.score(X_train, Y_train)\n",
    "acc_random_forest = round(random_forest.score(X_train, Y_train) * 100, 2)\n",
    "print(acc_random_forest)\n",
    "\n",
    "\n",
    "RF = RandomForestClassifier(criterion='entropy',n_estimators=1000).fit(X_train, Y_train)\n",
    "\n",
    "#print('Random Forest accuracy:',accuracy_score(Y_test, RF.predict(X_test)))\n"
   ]
  },
  {
   "cell_type": "code",
   "execution_count": 30,
   "metadata": {},
   "outputs": [
    {
     "data": {
      "text/plain": [
       "0.8238576779026217"
      ]
     },
     "execution_count": 30,
     "metadata": {},
     "output_type": "execute_result"
    }
   ],
   "source": [
    "mean_random_forest"
   ]
  },
  {
   "cell_type": "code",
   "execution_count": 31,
   "metadata": {},
   "outputs": [],
   "source": [
    "Y_pred_RF = random_forest.predict(X_train)\n",
    "\n",
    "# Saving other metric (Recall, Precision, F1-Score)\n",
    "\n",
    "report = classification_report(Y_train, Y_pred_RF, output_dict=True)\n",
    "recall_RF = report['0']['recall']\n",
    "precision_RF = report['0']['precision']\n",
    "f1_RF = report['0']['f1-score']"
   ]
  },
  {
   "cell_type": "code",
   "execution_count": 32,
   "metadata": {},
   "outputs": [
    {
     "name": "stdout",
     "output_type": "stream",
     "text": [
      "87.21\n"
     ]
    }
   ],
   "source": [
    "# Decision Tree\n",
    "\n",
    "decision_tree = DecisionTreeClassifier(criterion = 'entropy' , max_depth=100) # Can change max depth\n",
    "decision_tree.fit(X_train, Y_train)\n",
    "\n",
    "CV_decision_tree = cross_val_score( decision_tree, X_train, Y_train, cv = 10, scoring='accuracy')\n",
    "mean_decision_tree = CV_decision_tree.mean()\n",
    "std_decision_tree = CV_decision_tree.std()\n",
    "#Y_prediction = random_forest.predict(X_test)\n",
    "\n",
    "decision_tree.score(X_train, Y_train)\n",
    "acc_decision_tree = round(decision_tree.score(X_train, Y_train) * 100, 2)\n",
    "print(acc_decision_tree)"
   ]
  },
  {
   "cell_type": "code",
   "execution_count": 33,
   "metadata": {},
   "outputs": [
    {
     "data": {
      "text/plain": [
       "0.8171285892634208"
      ]
     },
     "execution_count": 33,
     "metadata": {},
     "output_type": "execute_result"
    }
   ],
   "source": [
    "mean_decision_tree"
   ]
  },
  {
   "cell_type": "code",
   "execution_count": 34,
   "metadata": {},
   "outputs": [],
   "source": [
    "Y_pred_DT = decision_tree.predict(X_train)\n",
    "\n",
    "# Saving other metric (Recall, Precision, F1-Score)\n",
    "\n",
    "report = classification_report(Y_train, Y_pred_DT, output_dict=True)\n",
    "recall_DT = report['0']['recall']\n",
    "precision_DT = report['0']['precision']\n",
    "f1_DT = report['0']['f1-score']"
   ]
  },
  {
   "cell_type": "code",
   "execution_count": 35,
   "metadata": {},
   "outputs": [],
   "source": [
    "# for tree-based classifier's feature importance plotting\n",
    "def plot_keyFeat_trees(classifier, feature_names, clf_id, top_features=5):\n",
    "    importances = classifier.feature_importances_\n",
    "    indices = np.argsort(importances)[::-1]\n",
    "    indices_vis = indices[:top_features]\n",
    "    \n",
    "    plt.figure()\n",
    "    plt.figure(figsize=(15, 5))\n",
    "    plt.title(clf_id)\n",
    "    plt.bar(range(top_features), importances[indices_vis],\n",
    "       color=\"r\", align=\"center\")\n",
    "    plt.xticks(range(top_features), indices)\n",
    "    plt.xlim([-1, top_features])\n",
    "    feature_names = np.array(feature_names)\n",
    "    plt.xticks(np.arange(0, top_features), feature_names[indices_vis], rotation=60, ha='right')\n",
    "    plt.show()"
   ]
  },
  {
   "cell_type": "code",
   "execution_count": 36,
   "metadata": {
    "scrolled": true
   },
   "outputs": [
    {
     "data": {
      "image/png": "[encoded data removed]",
      "text/plain": [
       "<Figure size 432x288 with 1 Axes>"
      ]
     },
     "metadata": {
      "needs_background": "light"
     },
     "output_type": "display_data"
    }
   ],
   "source": [
    "plot_tree(decision_tree.fit(X_train, Y_train), filled=True)\n",
    "plt.show()"
   ]
  },
  {
   "cell_type": "code",
   "execution_count": 37,
   "metadata": {},
   "outputs": [
    {
     "data": {
      "text/html": [
       "<div>\n",
       "<style scoped>\n",
       "    .dataframe tbody tr th:only-of-type {\n",
       "        vertical-align: middle;\n",
       "    }\n",
       "\n",
       "    .dataframe tbody tr th {\n",
       "        vertical-align: top;\n",
       "    }\n",
       "\n",
       "    .dataframe thead th {\n",
       "        text-align: right;\n",
       "    }\n",
       "</style>\n",
       "<table border=\"1\" class=\"dataframe\">\n",
       "  <thead>\n",
       "    <tr style=\"text-align: right;\">\n",
       "      <th></th>\n",
       "      <th>Importance</th>\n",
       "    </tr>\n",
       "    <tr>\n",
       "      <th>Feature</th>\n",
       "      <th></th>\n",
       "    </tr>\n",
       "  </thead>\n",
       "  <tbody>\n",
       "    <tr>\n",
       "      <th>Title</th>\n",
       "      <td>0.260</td>\n",
       "    </tr>\n",
       "    <tr>\n",
       "      <th>Sex</th>\n",
       "      <td>0.161</td>\n",
       "    </tr>\n",
       "    <tr>\n",
       "      <th>Pclass</th>\n",
       "      <td>0.145</td>\n",
       "    </tr>\n",
       "    <tr>\n",
       "      <th>Deck</th>\n",
       "      <td>0.140</td>\n",
       "    </tr>\n",
       "    <tr>\n",
       "      <th>GroupSize</th>\n",
       "      <td>0.113</td>\n",
       "    </tr>\n",
       "    <tr>\n",
       "      <th>Embarked</th>\n",
       "      <td>0.077</td>\n",
       "    </tr>\n",
       "    <tr>\n",
       "      <th>Adult</th>\n",
       "      <td>0.028</td>\n",
       "    </tr>\n",
       "    <tr>\n",
       "      <th>Child</th>\n",
       "      <td>0.027</td>\n",
       "    </tr>\n",
       "    <tr>\n",
       "      <th>Young Adult</th>\n",
       "      <td>0.026</td>\n",
       "    </tr>\n",
       "    <tr>\n",
       "      <th>Adolescent</th>\n",
       "      <td>0.012</td>\n",
       "    </tr>\n",
       "  </tbody>\n",
       "</table>\n",
       "</div>"
      ],
      "text/plain": [
       "             Importance\n",
       "Feature                \n",
       "Title             0.260\n",
       "Sex               0.161\n",
       "Pclass            0.145\n",
       "Deck              0.140\n",
       "GroupSize         0.113\n",
       "Embarked          0.077\n",
       "Adult             0.028\n",
       "Child             0.027\n",
       "Young Adult       0.026\n",
       "Adolescent        0.012"
      ]
     },
     "execution_count": 37,
     "metadata": {},
     "output_type": "execute_result"
    }
   ],
   "source": [
    "importances_RF = pd.DataFrame({'Feature':X_train.columns,'Importance':np.round(random_forest.feature_importances_,3)})\n",
    "importances_RF = importances_RF.sort_values('Importance',ascending=False).set_index('Feature')\n",
    "importances_RF.head(10)"
   ]
  },
  {
   "cell_type": "code",
   "execution_count": 38,
   "metadata": {},
   "outputs": [
    {
     "name": "stderr",
     "output_type": "stream",
     "text": [
      "C:\\Users\\Lenovo\\anaconda3\\envs\\Titanic\\lib\\site-packages\\pandas\\plotting\\_matplotlib\\core.py:1373: MatplotlibDeprecationWarning: Using a string of single character colors as a color sequence is deprecated since 3.2 and will be removed two minor releases later. Use an explicit list instead.\n",
      "  return ax.bar(x, y, w, bottom=start, log=log, **kwds)\n"
     ]
    },
    {
     "data": {
      "text/plain": [
       "<AxesSubplot:xlabel='Feature'>"
      ]
     },
     "execution_count": 38,
     "metadata": {},
     "output_type": "execute_result"
    },
    {
     "data": {
      "image/png": "[encoded data removed]",
      "text/plain": [
       "<Figure size 432x288 with 1 Axes>"
      ]
     },
     "metadata": {
      "needs_background": "light"
     },
     "output_type": "display_data"
    }
   ],
   "source": [
    "\n",
    "#Plot the data:\n",
    "my_colours = list('rgbkymc')  #red, green, blue, black, etc.\n",
    "importances_RF.plot.bar(color = 'rgbkymc')"
   ]
  },
  {
   "cell_type": "code",
   "execution_count": 39,
   "metadata": {},
   "outputs": [
    {
     "data": {
      "text/html": [
       "<div>\n",
       "<style scoped>\n",
       "    .dataframe tbody tr th:only-of-type {\n",
       "        vertical-align: middle;\n",
       "    }\n",
       "\n",
       "    .dataframe tbody tr th {\n",
       "        vertical-align: top;\n",
       "    }\n",
       "\n",
       "    .dataframe thead th {\n",
       "        text-align: right;\n",
       "    }\n",
       "</style>\n",
       "<table border=\"1\" class=\"dataframe\">\n",
       "  <thead>\n",
       "    <tr style=\"text-align: right;\">\n",
       "      <th></th>\n",
       "      <th>Importance</th>\n",
       "    </tr>\n",
       "    <tr>\n",
       "      <th>Feature</th>\n",
       "      <th></th>\n",
       "    </tr>\n",
       "  </thead>\n",
       "  <tbody>\n",
       "    <tr>\n",
       "      <th>Title</th>\n",
       "      <td>0.460</td>\n",
       "    </tr>\n",
       "    <tr>\n",
       "      <th>Pclass</th>\n",
       "      <td>0.184</td>\n",
       "    </tr>\n",
       "    <tr>\n",
       "      <th>Deck</th>\n",
       "      <td>0.104</td>\n",
       "    </tr>\n",
       "    <tr>\n",
       "      <th>GroupSize</th>\n",
       "      <td>0.103</td>\n",
       "    </tr>\n",
       "    <tr>\n",
       "      <th>Embarked</th>\n",
       "      <td>0.040</td>\n",
       "    </tr>\n",
       "    <tr>\n",
       "      <th>Adult</th>\n",
       "      <td>0.036</td>\n",
       "    </tr>\n",
       "    <tr>\n",
       "      <th>Young Adult</th>\n",
       "      <td>0.028</td>\n",
       "    </tr>\n",
       "    <tr>\n",
       "      <th>Child</th>\n",
       "      <td>0.019</td>\n",
       "    </tr>\n",
       "    <tr>\n",
       "      <th>Senior</th>\n",
       "      <td>0.015</td>\n",
       "    </tr>\n",
       "    <tr>\n",
       "      <th>Adolescent</th>\n",
       "      <td>0.007</td>\n",
       "    </tr>\n",
       "  </tbody>\n",
       "</table>\n",
       "</div>"
      ],
      "text/plain": [
       "             Importance\n",
       "Feature                \n",
       "Title             0.460\n",
       "Pclass            0.184\n",
       "Deck              0.104\n",
       "GroupSize         0.103\n",
       "Embarked          0.040\n",
       "Adult             0.036\n",
       "Young Adult       0.028\n",
       "Child             0.019\n",
       "Senior            0.015\n",
       "Adolescent        0.007"
      ]
     },
     "execution_count": 39,
     "metadata": {},
     "output_type": "execute_result"
    }
   ],
   "source": [
    "importances_DT = pd.DataFrame({'Feature':X_train.columns,'Importance':np.round(decision_tree.feature_importances_,3)})\n",
    "importances_DT = importances_DT.sort_values('Importance',ascending=False).set_index('Feature')\n",
    "importances_DT.head(10)"
   ]
  },
  {
   "cell_type": "code",
   "execution_count": 40,
   "metadata": {},
   "outputs": [
    {
     "name": "stderr",
     "output_type": "stream",
     "text": [
      "C:\\Users\\Lenovo\\anaconda3\\envs\\Titanic\\lib\\site-packages\\pandas\\plotting\\_matplotlib\\core.py:1373: MatplotlibDeprecationWarning: Using a string of single character colors as a color sequence is deprecated since 3.2 and will be removed two minor releases later. Use an explicit list instead.\n",
      "  return ax.bar(x, y, w, bottom=start, log=log, **kwds)\n"
     ]
    },
    {
     "data": {
      "text/plain": [
       "<AxesSubplot:xlabel='Feature'>"
      ]
     },
     "execution_count": 40,
     "metadata": {},
     "output_type": "execute_result"
    },
    {
     "data": {
      "image/png": "[encoded data removed]",
      "text/plain": [
       "<Figure size 432x288 with 1 Axes>"
      ]
     },
     "metadata": {
      "needs_background": "light"
     },
     "output_type": "display_data"
    }
   ],
   "source": [
    "#Plot the data:\n",
    "my_colours = list('rgbkymc')  #red, green, blue, black, etc.\n",
    "importances_DT.plot.bar(color = 'rgbkymc')"
   ]
  },
  {
   "cell_type": "markdown",
   "metadata": {},
   "source": [
    "## Support Vector Machine"
   ]
  },
  {
   "cell_type": "code",
   "execution_count": 41,
   "metadata": {},
   "outputs": [
    {
     "name": "stdout",
     "output_type": "stream",
     "text": [
      "# Tuning hyper-parameters\n",
      "best parameters:\n",
      "{'C': 100, 'gamma': 0.0001, 'kernel': 'rbf'}\n",
      "-------------------------------------\n",
      "0.787 (+/-0.057) for {'C': 0.1, 'gamma': 1e-06, 'kernel': 'linear'}\n",
      "0.616 (+/-0.007) for {'C': 0.1, 'gamma': 1e-06, 'kernel': 'rbf'}\n",
      "0.787 (+/-0.057) for {'C': 0.1, 'gamma': 1e-05, 'kernel': 'linear'}\n",
      "0.616 (+/-0.007) for {'C': 0.1, 'gamma': 1e-05, 'kernel': 'rbf'}\n",
      "0.787 (+/-0.057) for {'C': 0.1, 'gamma': 0.0001, 'kernel': 'linear'}\n",
      "0.616 (+/-0.007) for {'C': 0.1, 'gamma': 0.0001, 'kernel': 'rbf'}\n",
      "0.787 (+/-0.057) for {'C': 1, 'gamma': 1e-06, 'kernel': 'linear'}\n",
      "0.616 (+/-0.007) for {'C': 1, 'gamma': 1e-06, 'kernel': 'rbf'}\n",
      "0.787 (+/-0.057) for {'C': 1, 'gamma': 1e-05, 'kernel': 'linear'}\n",
      "0.616 (+/-0.007) for {'C': 1, 'gamma': 1e-05, 'kernel': 'rbf'}\n",
      "0.787 (+/-0.057) for {'C': 1, 'gamma': 0.0001, 'kernel': 'linear'}\n",
      "0.616 (+/-0.007) for {'C': 1, 'gamma': 0.0001, 'kernel': 'rbf'}\n",
      "0.787 (+/-0.057) for {'C': 10, 'gamma': 1e-06, 'kernel': 'linear'}\n",
      "0.616 (+/-0.007) for {'C': 10, 'gamma': 1e-06, 'kernel': 'rbf'}\n",
      "0.787 (+/-0.057) for {'C': 10, 'gamma': 1e-05, 'kernel': 'linear'}\n",
      "0.616 (+/-0.007) for {'C': 10, 'gamma': 1e-05, 'kernel': 'rbf'}\n",
      "0.787 (+/-0.057) for {'C': 10, 'gamma': 0.0001, 'kernel': 'linear'}\n",
      "0.784 (+/-0.054) for {'C': 10, 'gamma': 0.0001, 'kernel': 'rbf'}\n",
      "0.787 (+/-0.057) for {'C': 100, 'gamma': 1e-06, 'kernel': 'linear'}\n",
      "0.616 (+/-0.007) for {'C': 100, 'gamma': 1e-06, 'kernel': 'rbf'}\n",
      "0.787 (+/-0.057) for {'C': 100, 'gamma': 1e-05, 'kernel': 'linear'}\n",
      "0.784 (+/-0.054) for {'C': 100, 'gamma': 1e-05, 'kernel': 'rbf'}\n",
      "0.787 (+/-0.057) for {'C': 100, 'gamma': 0.0001, 'kernel': 'linear'}\n",
      "0.788 (+/-0.057) for {'C': 100, 'gamma': 0.0001, 'kernel': 'rbf'}\n",
      "0.787 (+/-0.057) for {'C': 1000, 'gamma': 1e-06, 'kernel': 'linear'}\n",
      "0.784 (+/-0.054) for {'C': 1000, 'gamma': 1e-06, 'kernel': 'rbf'}\n",
      "0.787 (+/-0.057) for {'C': 1000, 'gamma': 1e-05, 'kernel': 'linear'}\n",
      "0.788 (+/-0.057) for {'C': 1000, 'gamma': 1e-05, 'kernel': 'rbf'}\n",
      "0.787 (+/-0.057) for {'C': 1000, 'gamma': 0.0001, 'kernel': 'linear'}\n",
      "0.787 (+/-0.057) for {'C': 1000, 'gamma': 0.0001, 'kernel': 'rbf'}\n"
     ]
    }
   ],
   "source": [
    "from sklearn.svm import SVC\n",
    "\n",
    "parameters = [{'kernel': ['linear', 'rbf'],\n",
    "                'gamma': [1e-6, 1e-5, 1e-4],\n",
    "                'C': [0.1, 1, 10, 100, 1000]}]\n",
    "\n",
    "\n",
    "print(\"# Tuning hyper-parameters\")\n",
    "clf = GridSearchCV(SVC(), parameters, cv=10)\n",
    "clf.fit(X_train, Y_train)\n",
    "\n",
    "\n",
    "print('best parameters:')\n",
    "print(clf.best_params_)\n",
    "print('-------------------------------------')\n",
    "means = clf.cv_results_['mean_test_score']\n",
    "stds = clf.cv_results_['std_test_score']\n",
    "for mean, std, params in zip(means, stds, clf.cv_results_['params']):\n",
    "    print(\"%0.3f (+/-%0.03f) for %r\"\n",
    "          % (mean, std * 2, params))"
   ]
  },
  {
   "cell_type": "code",
   "execution_count": 42,
   "metadata": {},
   "outputs": [
    {
     "name": "stdout",
     "output_type": "stream",
     "text": [
      "# Tuning hyper-parameters\n",
      "best parameters:\n",
      "{'C': 0.1, 'gamma': 1e-06, 'kernel': 'linear'}\n",
      "-------------------------------------\n",
      "0.787 (+/-0.057) for {'C': 0.1, 'gamma': 1e-06, 'kernel': 'linear'}\n",
      "0.787 (+/-0.057) for {'C': 0.1, 'gamma': 1e-05, 'kernel': 'linear'}\n",
      "0.787 (+/-0.057) for {'C': 0.1, 'gamma': 0.0001, 'kernel': 'linear'}\n",
      "0.787 (+/-0.057) for {'C': 1, 'gamma': 1e-06, 'kernel': 'linear'}\n",
      "0.787 (+/-0.057) for {'C': 1, 'gamma': 1e-05, 'kernel': 'linear'}\n",
      "0.787 (+/-0.057) for {'C': 1, 'gamma': 0.0001, 'kernel': 'linear'}\n",
      "0.787 (+/-0.057) for {'C': 10, 'gamma': 1e-06, 'kernel': 'linear'}\n",
      "0.787 (+/-0.057) for {'C': 10, 'gamma': 1e-05, 'kernel': 'linear'}\n",
      "0.787 (+/-0.057) for {'C': 10, 'gamma': 0.0001, 'kernel': 'linear'}\n",
      "0.787 (+/-0.057) for {'C': 100, 'gamma': 1e-06, 'kernel': 'linear'}\n",
      "0.787 (+/-0.057) for {'C': 100, 'gamma': 1e-05, 'kernel': 'linear'}\n",
      "0.787 (+/-0.057) for {'C': 100, 'gamma': 0.0001, 'kernel': 'linear'}\n",
      "# Tuning hyper-parameters\n",
      "best parameters:\n",
      "{'C': 100, 'gamma': 0.0001, 'kernel': 'rbf'}\n",
      "-------------------------------------\n",
      "0.616 (+/-0.007) for {'C': 0.1, 'gamma': 1e-06, 'kernel': 'rbf'}\n",
      "0.616 (+/-0.007) for {'C': 0.1, 'gamma': 1e-05, 'kernel': 'rbf'}\n",
      "0.616 (+/-0.007) for {'C': 0.1, 'gamma': 0.0001, 'kernel': 'rbf'}\n",
      "0.616 (+/-0.007) for {'C': 1, 'gamma': 1e-06, 'kernel': 'rbf'}\n",
      "0.616 (+/-0.007) for {'C': 1, 'gamma': 1e-05, 'kernel': 'rbf'}\n",
      "0.616 (+/-0.007) for {'C': 1, 'gamma': 0.0001, 'kernel': 'rbf'}\n",
      "0.616 (+/-0.007) for {'C': 10, 'gamma': 1e-06, 'kernel': 'rbf'}\n",
      "0.616 (+/-0.007) for {'C': 10, 'gamma': 1e-05, 'kernel': 'rbf'}\n",
      "0.784 (+/-0.054) for {'C': 10, 'gamma': 0.0001, 'kernel': 'rbf'}\n",
      "0.616 (+/-0.007) for {'C': 100, 'gamma': 1e-06, 'kernel': 'rbf'}\n",
      "0.784 (+/-0.054) for {'C': 100, 'gamma': 1e-05, 'kernel': 'rbf'}\n",
      "0.788 (+/-0.057) for {'C': 100, 'gamma': 0.0001, 'kernel': 'rbf'}\n"
     ]
    }
   ],
   "source": [
    "from sklearn.svm import SVC\n",
    "# Can split up into Linear and Rbf. \n",
    "\n",
    "# Linear: ___________________________________\n",
    "\n",
    "parameters = [{'kernel': ['linear'],\n",
    "                'gamma': [1e-6, 1e-5, 1e-4],\n",
    "                'C': [0.1, 1, 10, 100]}]\n",
    "\n",
    "print(\"# Tuning hyper-parameters\")\n",
    "clf = GridSearchCV(SVC(), parameters, cv=10)\n",
    "clf.fit(X_train, Y_train)\n",
    "\n",
    "print('best parameters:')\n",
    "print(clf.best_params_)\n",
    "print('-------------------------------------')\n",
    "means = clf.cv_results_['mean_test_score']\n",
    "stds = clf.cv_results_['std_test_score']\n",
    "for mean, std, params in zip(means, stds, clf.cv_results_['params']):\n",
    "    print(\"%0.3f (+/-%0.03f) for %r\"\n",
    "          % (mean, std * 2, params))\n",
    "linear = pd.DataFrame({'mean' : means , 'std' : stds , 'C' : clf.cv_results_['param_C'].data,\n",
    "                       'gamma' : clf.cv_results_['param_gamma'].data, 'kernal' : clf.cv_results_['param_kernel'].data} )  \n",
    "\n",
    "   \n",
    "# Rbf: ____________________________________\n",
    "\n",
    "parameters = [{'kernel': ['rbf'],\n",
    "                'gamma': [1e-6, 1e-5, 1e-4],\n",
    "                'C': [0.1, 1, 10, 100]}]\n",
    "\n",
    "print(\"# Tuning hyper-parameters\")\n",
    "clf = GridSearchCV(SVC(), parameters, cv=10)\n",
    "clf.fit(X_train, Y_train)\n",
    "\n",
    "print('best parameters:')\n",
    "print(clf.best_params_)\n",
    "print('-------------------------------------')\n",
    "means = clf.cv_results_['mean_test_score']\n",
    "stds = clf.cv_results_['std_test_score']\n",
    "for mean, std, params in zip(means, stds, clf.cv_results_['params']):\n",
    "    print(\"%0.3f (+/-%0.03f) for %r\"\n",
    "          % (mean, std * 2, params))\n",
    "\n",
    "rbf  =  pd.DataFrame({'mean' : means , 'std' : stds , 'C' : clf.cv_results_['param_C'].data,\n",
    "                       'gamma' : clf.cv_results_['param_gamma'].data, 'kernal' : clf.cv_results_['param_kernel'].data} )  \n"
   ]
  },
  {
   "cell_type": "code",
   "execution_count": 43,
   "metadata": {},
   "outputs": [
    {
     "data": {
      "text/plain": [
       "dict_keys(['mean_fit_time', 'std_fit_time', 'mean_score_time', 'std_score_time', 'param_C', 'param_gamma', 'param_kernel', 'params', 'split0_test_score', 'split1_test_score', 'split2_test_score', 'split3_test_score', 'split4_test_score', 'split5_test_score', 'split6_test_score', 'split7_test_score', 'split8_test_score', 'split9_test_score', 'mean_test_score', 'std_test_score', 'rank_test_score'])"
      ]
     },
     "execution_count": 43,
     "metadata": {},
     "output_type": "execute_result"
    }
   ],
   "source": [
    "clf.cv_results_.keys()"
   ]
  },
  {
   "cell_type": "raw",
   "metadata": {},
   "source": []
  },
  {
   "cell_type": "code",
   "execution_count": 44,
   "metadata": {},
   "outputs": [
    {
     "data": {
      "text/html": [
       "<div>\n",
       "<style scoped>\n",
       "    .dataframe tbody tr th:only-of-type {\n",
       "        vertical-align: middle;\n",
       "    }\n",
       "\n",
       "    .dataframe tbody tr th {\n",
       "        vertical-align: top;\n",
       "    }\n",
       "\n",
       "    .dataframe thead th {\n",
       "        text-align: right;\n",
       "    }\n",
       "</style>\n",
       "<table border=\"1\" class=\"dataframe\">\n",
       "  <thead>\n",
       "    <tr style=\"text-align: right;\">\n",
       "      <th></th>\n",
       "      <th>mean</th>\n",
       "      <th>std</th>\n",
       "      <th>C</th>\n",
       "      <th>gamma</th>\n",
       "      <th>kernal</th>\n",
       "      <th>ParamCombo</th>\n",
       "    </tr>\n",
       "  </thead>\n",
       "  <tbody>\n",
       "    <tr>\n",
       "      <th>0</th>\n",
       "      <td>0.786729</td>\n",
       "      <td>0.028599</td>\n",
       "      <td>0.1</td>\n",
       "      <td>1e-06</td>\n",
       "      <td>linear</td>\n",
       "      <td>[0.1, 1e-06]</td>\n",
       "    </tr>\n",
       "    <tr>\n",
       "      <th>1</th>\n",
       "      <td>0.786729</td>\n",
       "      <td>0.028599</td>\n",
       "      <td>0.1</td>\n",
       "      <td>1e-05</td>\n",
       "      <td>linear</td>\n",
       "      <td>[0.1, 1e-05]</td>\n",
       "    </tr>\n",
       "    <tr>\n",
       "      <th>2</th>\n",
       "      <td>0.786729</td>\n",
       "      <td>0.028599</td>\n",
       "      <td>0.1</td>\n",
       "      <td>0.0001</td>\n",
       "      <td>linear</td>\n",
       "      <td>[0.1, 0.0001]</td>\n",
       "    </tr>\n",
       "    <tr>\n",
       "      <th>3</th>\n",
       "      <td>0.786729</td>\n",
       "      <td>0.028599</td>\n",
       "      <td>1</td>\n",
       "      <td>1e-06</td>\n",
       "      <td>linear</td>\n",
       "      <td>[1, 1e-06]</td>\n",
       "    </tr>\n",
       "    <tr>\n",
       "      <th>4</th>\n",
       "      <td>0.786729</td>\n",
       "      <td>0.028599</td>\n",
       "      <td>1</td>\n",
       "      <td>1e-05</td>\n",
       "      <td>linear</td>\n",
       "      <td>[1, 1e-05]</td>\n",
       "    </tr>\n",
       "    <tr>\n",
       "      <th>5</th>\n",
       "      <td>0.786729</td>\n",
       "      <td>0.028599</td>\n",
       "      <td>1</td>\n",
       "      <td>0.0001</td>\n",
       "      <td>linear</td>\n",
       "      <td>[1, 0.0001]</td>\n",
       "    </tr>\n",
       "    <tr>\n",
       "      <th>6</th>\n",
       "      <td>0.786729</td>\n",
       "      <td>0.028599</td>\n",
       "      <td>10</td>\n",
       "      <td>1e-06</td>\n",
       "      <td>linear</td>\n",
       "      <td>[10, 1e-06]</td>\n",
       "    </tr>\n",
       "    <tr>\n",
       "      <th>7</th>\n",
       "      <td>0.786729</td>\n",
       "      <td>0.028599</td>\n",
       "      <td>10</td>\n",
       "      <td>1e-05</td>\n",
       "      <td>linear</td>\n",
       "      <td>[10, 1e-05]</td>\n",
       "    </tr>\n",
       "    <tr>\n",
       "      <th>8</th>\n",
       "      <td>0.786729</td>\n",
       "      <td>0.028599</td>\n",
       "      <td>10</td>\n",
       "      <td>0.0001</td>\n",
       "      <td>linear</td>\n",
       "      <td>[10, 0.0001]</td>\n",
       "    </tr>\n",
       "    <tr>\n",
       "      <th>9</th>\n",
       "      <td>0.786729</td>\n",
       "      <td>0.028599</td>\n",
       "      <td>100</td>\n",
       "      <td>1e-06</td>\n",
       "      <td>linear</td>\n",
       "      <td>[100, 1e-06]</td>\n",
       "    </tr>\n",
       "    <tr>\n",
       "      <th>10</th>\n",
       "      <td>0.786729</td>\n",
       "      <td>0.028599</td>\n",
       "      <td>100</td>\n",
       "      <td>1e-05</td>\n",
       "      <td>linear</td>\n",
       "      <td>[100, 1e-05]</td>\n",
       "    </tr>\n",
       "    <tr>\n",
       "      <th>11</th>\n",
       "      <td>0.786729</td>\n",
       "      <td>0.028599</td>\n",
       "      <td>100</td>\n",
       "      <td>0.0001</td>\n",
       "      <td>linear</td>\n",
       "      <td>[100, 0.0001]</td>\n",
       "    </tr>\n",
       "  </tbody>\n",
       "</table>\n",
       "</div>"
      ],
      "text/plain": [
       "        mean       std    C   gamma  kernal     ParamCombo\n",
       "0   0.786729  0.028599  0.1   1e-06  linear   [0.1, 1e-06]\n",
       "1   0.786729  0.028599  0.1   1e-05  linear   [0.1, 1e-05]\n",
       "2   0.786729  0.028599  0.1  0.0001  linear  [0.1, 0.0001]\n",
       "3   0.786729  0.028599    1   1e-06  linear     [1, 1e-06]\n",
       "4   0.786729  0.028599    1   1e-05  linear     [1, 1e-05]\n",
       "5   0.786729  0.028599    1  0.0001  linear    [1, 0.0001]\n",
       "6   0.786729  0.028599   10   1e-06  linear    [10, 1e-06]\n",
       "7   0.786729  0.028599   10   1e-05  linear    [10, 1e-05]\n",
       "8   0.786729  0.028599   10  0.0001  linear   [10, 0.0001]\n",
       "9   0.786729  0.028599  100   1e-06  linear   [100, 1e-06]\n",
       "10  0.786729  0.028599  100   1e-05  linear   [100, 1e-05]\n",
       "11  0.786729  0.028599  100  0.0001  linear  [100, 0.0001]"
      ]
     },
     "execution_count": 44,
     "metadata": {},
     "output_type": "execute_result"
    }
   ],
   "source": [
    "linear['ParamCombo'] = linear[['C', 'gamma']].values.tolist()\n",
    "rbf['ParamCombo'] = rbf[['C', 'gamma']].values.tolist()\n",
    "linear"
   ]
  },
  {
   "cell_type": "code",
   "execution_count": 45,
   "metadata": {},
   "outputs": [],
   "source": [
    "linear['ParamCombo'] = linear['ParamCombo'].apply(str)"
   ]
  },
  {
   "cell_type": "code",
   "execution_count": 46,
   "metadata": {},
   "outputs": [
    {
     "data": {
      "text/html": [
       "<div>\n",
       "<style scoped>\n",
       "    .dataframe tbody tr th:only-of-type {\n",
       "        vertical-align: middle;\n",
       "    }\n",
       "\n",
       "    .dataframe tbody tr th {\n",
       "        vertical-align: top;\n",
       "    }\n",
       "\n",
       "    .dataframe thead th {\n",
       "        text-align: right;\n",
       "    }\n",
       "</style>\n",
       "<table border=\"1\" class=\"dataframe\">\n",
       "  <thead>\n",
       "    <tr style=\"text-align: right;\">\n",
       "      <th></th>\n",
       "      <th>mean</th>\n",
       "      <th>std</th>\n",
       "      <th>C</th>\n",
       "      <th>gamma</th>\n",
       "      <th>kernal</th>\n",
       "      <th>ParamCombo</th>\n",
       "    </tr>\n",
       "  </thead>\n",
       "  <tbody>\n",
       "    <tr>\n",
       "      <th>0</th>\n",
       "      <td>0.786729</td>\n",
       "      <td>0.028599</td>\n",
       "      <td>0.1</td>\n",
       "      <td>1e-06</td>\n",
       "      <td>linear</td>\n",
       "      <td>[0.1, 1e-06]</td>\n",
       "    </tr>\n",
       "    <tr>\n",
       "      <th>1</th>\n",
       "      <td>0.786729</td>\n",
       "      <td>0.028599</td>\n",
       "      <td>0.1</td>\n",
       "      <td>1e-05</td>\n",
       "      <td>linear</td>\n",
       "      <td>[0.1, 1e-05]</td>\n",
       "    </tr>\n",
       "    <tr>\n",
       "      <th>2</th>\n",
       "      <td>0.786729</td>\n",
       "      <td>0.028599</td>\n",
       "      <td>0.1</td>\n",
       "      <td>0.0001</td>\n",
       "      <td>linear</td>\n",
       "      <td>[0.1, 0.0001]</td>\n",
       "    </tr>\n",
       "    <tr>\n",
       "      <th>3</th>\n",
       "      <td>0.786729</td>\n",
       "      <td>0.028599</td>\n",
       "      <td>1</td>\n",
       "      <td>1e-06</td>\n",
       "      <td>linear</td>\n",
       "      <td>[1, 1e-06]</td>\n",
       "    </tr>\n",
       "    <tr>\n",
       "      <th>4</th>\n",
       "      <td>0.786729</td>\n",
       "      <td>0.028599</td>\n",
       "      <td>1</td>\n",
       "      <td>1e-05</td>\n",
       "      <td>linear</td>\n",
       "      <td>[1, 1e-05]</td>\n",
       "    </tr>\n",
       "    <tr>\n",
       "      <th>5</th>\n",
       "      <td>0.786729</td>\n",
       "      <td>0.028599</td>\n",
       "      <td>1</td>\n",
       "      <td>0.0001</td>\n",
       "      <td>linear</td>\n",
       "      <td>[1, 0.0001]</td>\n",
       "    </tr>\n",
       "    <tr>\n",
       "      <th>6</th>\n",
       "      <td>0.786729</td>\n",
       "      <td>0.028599</td>\n",
       "      <td>10</td>\n",
       "      <td>1e-06</td>\n",
       "      <td>linear</td>\n",
       "      <td>[10, 1e-06]</td>\n",
       "    </tr>\n",
       "    <tr>\n",
       "      <th>7</th>\n",
       "      <td>0.786729</td>\n",
       "      <td>0.028599</td>\n",
       "      <td>10</td>\n",
       "      <td>1e-05</td>\n",
       "      <td>linear</td>\n",
       "      <td>[10, 1e-05]</td>\n",
       "    </tr>\n",
       "    <tr>\n",
       "      <th>8</th>\n",
       "      <td>0.786729</td>\n",
       "      <td>0.028599</td>\n",
       "      <td>10</td>\n",
       "      <td>0.0001</td>\n",
       "      <td>linear</td>\n",
       "      <td>[10, 0.0001]</td>\n",
       "    </tr>\n",
       "    <tr>\n",
       "      <th>9</th>\n",
       "      <td>0.786729</td>\n",
       "      <td>0.028599</td>\n",
       "      <td>100</td>\n",
       "      <td>1e-06</td>\n",
       "      <td>linear</td>\n",
       "      <td>[100, 1e-06]</td>\n",
       "    </tr>\n",
       "    <tr>\n",
       "      <th>10</th>\n",
       "      <td>0.786729</td>\n",
       "      <td>0.028599</td>\n",
       "      <td>100</td>\n",
       "      <td>1e-05</td>\n",
       "      <td>linear</td>\n",
       "      <td>[100, 1e-05]</td>\n",
       "    </tr>\n",
       "    <tr>\n",
       "      <th>11</th>\n",
       "      <td>0.786729</td>\n",
       "      <td>0.028599</td>\n",
       "      <td>100</td>\n",
       "      <td>0.0001</td>\n",
       "      <td>linear</td>\n",
       "      <td>[100, 0.0001]</td>\n",
       "    </tr>\n",
       "  </tbody>\n",
       "</table>\n",
       "</div>"
      ],
      "text/plain": [
       "        mean       std    C   gamma  kernal     ParamCombo\n",
       "0   0.786729  0.028599  0.1   1e-06  linear   [0.1, 1e-06]\n",
       "1   0.786729  0.028599  0.1   1e-05  linear   [0.1, 1e-05]\n",
       "2   0.786729  0.028599  0.1  0.0001  linear  [0.1, 0.0001]\n",
       "3   0.786729  0.028599    1   1e-06  linear     [1, 1e-06]\n",
       "4   0.786729  0.028599    1   1e-05  linear     [1, 1e-05]\n",
       "5   0.786729  0.028599    1  0.0001  linear    [1, 0.0001]\n",
       "6   0.786729  0.028599   10   1e-06  linear    [10, 1e-06]\n",
       "7   0.786729  0.028599   10   1e-05  linear    [10, 1e-05]\n",
       "8   0.786729  0.028599   10  0.0001  linear   [10, 0.0001]\n",
       "9   0.786729  0.028599  100   1e-06  linear   [100, 1e-06]\n",
       "10  0.786729  0.028599  100   1e-05  linear   [100, 1e-05]\n",
       "11  0.786729  0.028599  100  0.0001  linear  [100, 0.0001]"
      ]
     },
     "execution_count": 46,
     "metadata": {},
     "output_type": "execute_result"
    }
   ],
   "source": [
    "linear"
   ]
  },
  {
   "cell_type": "code",
   "execution_count": 47,
   "metadata": {},
   "outputs": [],
   "source": [
    "# Extract scores from best models\n",
    "\n",
    "SVM_L = SVC(C=0.1, kernel='linear', gamma = 1e-06).fit(X_train, Y_train)\n",
    "SVM_rbf = SVC(C=100, kernel='rbf', gamma = 0.0001).fit(X_train, Y_train)\n",
    "\n",
    "# Extract scores:\n",
    "CV_SVM_L = cross_val_score( SVM_L , X_train, Y_train, cv = 10, scoring='accuracy')\n",
    "mean_SVM_L = CV_SVM_L.mean()\n",
    "std_SVM_L = CV_SVM_L.std()\n",
    "\n",
    "CV_SVM_rbf = cross_val_score( SVM_rbf, X_train, Y_train, cv = 10, scoring='accuracy')\n",
    "mean_SVM_rbf = CV_SVM_rbf.mean()\n",
    "std_SVM_rbf = CV_SVM_rbf.std()\n"
   ]
  },
  {
   "cell_type": "code",
   "execution_count": 48,
   "metadata": {},
   "outputs": [
    {
     "data": {
      "text/plain": [
       "0.028599350013463757"
      ]
     },
     "execution_count": 48,
     "metadata": {},
     "output_type": "execute_result"
    }
   ],
   "source": [
    "std_SVM_L"
   ]
  },
  {
   "cell_type": "code",
   "execution_count": 49,
   "metadata": {},
   "outputs": [],
   "source": [
    "## Linear Kernal\n",
    "\n",
    "Y_pred_SVM_L = SVM_L.predict(X_train)\n",
    "\n",
    "# Saving other metric (Recall, Precision, F1-Score)\n",
    "\n",
    "report = classification_report(Y_train, Y_pred_SVM_L, output_dict=True)\n",
    "recall_SVM_L = report['0']['recall']\n",
    "precision_SVM_L = report['0']['precision']\n",
    "f1_SVM_L = report['0']['f1-score']\n",
    "\n",
    "\n",
    "## RBF Kernal\n",
    "\n",
    "Y_pred_SVM_rbf = SVM_rbf.predict(X_train)\n",
    "\n",
    "# Saving other metric (Recall, Precision, F1-Score)\n",
    "\n",
    "report = classification_report(Y_train, Y_pred_SVM_rbf, output_dict=True)\n",
    "recall_SVM_rbf = report['0']['recall']\n",
    "precision_SVM_rbf = report['0']['precision']\n",
    "f1_SVM_rbf = report['0']['f1-score']"
   ]
  },
  {
   "cell_type": "markdown",
   "metadata": {},
   "source": [
    "## Naive Bayes (Gaussian Assumption)"
   ]
  },
  {
   "cell_type": "code",
   "execution_count": 50,
   "metadata": {
    "scrolled": true
   },
   "outputs": [],
   "source": [
    "from sklearn.naive_bayes import GaussianNB\n",
    "\n",
    "gaussian = GaussianNB() \n",
    "gaussian.fit(X_train, Y_train)  \n",
    "#Y_pred = gaussian.predict(X_test)  \n",
    "acc_gaussian = round(gaussian.score(X_train, Y_train) * 100, 2)\n",
    "\n",
    "parameters = [{#'kernel': ['linear', 'rbf'],\n",
    "                'gamma': [1e-6, 1e-5, 1e-4],\n",
    "                'C': [0.1, 1, 10, 100, 1000]}]\n",
    "\n",
    "\n",
    "#print(\"# Tuning hyper-parameters\")\n",
    "#clf = GridSearchCV(gaussian, parameters, cv=10)\n",
    "#clf.fit(X_train, Y_train)\n",
    "\n",
    "CV_GNB = cross_val_score(gaussian, X_train, Y_train, cv=10, n_jobs=1, scoring = 'accuracy')\n",
    "mean_GNB = CV_GNB.mean()\n",
    "std_GNB = CV_GNB.std()\n",
    "\n",
    "\n",
    "# We can work out mean and std as for nearest neighbours. No hyperparameters to tune ( oh yes there are what about mu and sigma?)\n",
    "\n",
    "#print('best parameters:')\n",
    "#print(clf.best_params_)\n",
    "#print('-------------------------------------')\n",
    "#means = clf.cv_results_['mean_test_score']\n",
    "#stds = clf.cv_results_['std_test_score']\n",
    "#for mean, std, params in zip(means, stds, clf.cv_results_['params']):\n",
    "#    print(\"%0.3f (+/-%0.03f) for %r\"\n",
    "#          % (mean, std * 2, params))"
   ]
  },
  {
   "cell_type": "code",
   "execution_count": 51,
   "metadata": {},
   "outputs": [
    {
     "data": {
      "text/plain": [
       "0.029032861387690644"
      ]
     },
     "execution_count": 51,
     "metadata": {},
     "output_type": "execute_result"
    }
   ],
   "source": [
    "std_GNB"
   ]
  },
  {
   "cell_type": "code",
   "execution_count": 52,
   "metadata": {},
   "outputs": [
    {
     "data": {
      "text/plain": [
       "0.7699126092384518"
      ]
     },
     "execution_count": 52,
     "metadata": {},
     "output_type": "execute_result"
    }
   ],
   "source": [
    "mean_GNB"
   ]
  },
  {
   "cell_type": "code",
   "execution_count": 53,
   "metadata": {},
   "outputs": [],
   "source": [
    "Y_pred_NB = gaussian.predict(X_train)\n",
    "\n",
    "# Saving other metric (Recall, Precision, F1-Score)\n",
    "\n",
    "report = classification_report(Y_train, Y_pred_NB, output_dict=True)\n",
    "recall_NB = report['0']['recall']\n",
    "precision_NB = report['0']['precision']\n",
    "f1_NB = report['0']['f1-score']"
   ]
  },
  {
   "cell_type": "code",
   "execution_count": 54,
   "metadata": {},
   "outputs": [
    {
     "data": {
      "text/plain": [
       "dict_keys(['priors', 'var_smoothing'])"
      ]
     },
     "execution_count": 54,
     "metadata": {},
     "output_type": "execute_result"
    }
   ],
   "source": [
    "gaussian.get_params().keys()"
   ]
  },
  {
   "cell_type": "code",
   "execution_count": 55,
   "metadata": {},
   "outputs": [
    {
     "data": {
      "text/plain": [
       "GaussianNB()"
      ]
     },
     "execution_count": 55,
     "metadata": {},
     "output_type": "execute_result"
    }
   ],
   "source": [
    "gaussian.fit(X_train, Y_train)"
   ]
  },
  {
   "cell_type": "markdown",
   "metadata": {},
   "source": [
    "## Perceptron "
   ]
  },
  {
   "cell_type": "code",
   "execution_count": 56,
   "metadata": {},
   "outputs": [],
   "source": [
    "from sklearn.linear_model import Perceptron\n",
    "\n",
    "perceptron = Perceptron(max_iter=100)\n",
    "perceptron.fit(X_train, Y_train)\n",
    "\n",
    "CV_perceptron = cross_val_score(perceptron, X_train, Y_train, cv=10, scoring = 'accuracy')\n",
    "mean_perceptron = CV_perceptron.mean()\n",
    "std_perceptron = CV_perceptron.std()"
   ]
  },
  {
   "cell_type": "code",
   "execution_count": 57,
   "metadata": {},
   "outputs": [
    {
     "data": {
      "text/plain": [
       "0.12548549268237857"
      ]
     },
     "execution_count": 57,
     "metadata": {},
     "output_type": "execute_result"
    }
   ],
   "source": [
    "std_perceptron"
   ]
  },
  {
   "cell_type": "code",
   "execution_count": 58,
   "metadata": {},
   "outputs": [],
   "source": [
    "Y_pred_perceptron = perceptron.predict(X_train)\n",
    "\n",
    "# Saving other metric (Recall, Precision, F1-Score)\n",
    "\n",
    "report = classification_report(Y_train, Y_pred_perceptron, output_dict=True)\n",
    "recall_perceptron = report['0']['recall']\n",
    "precision_perceptron = report['0']['precision']\n",
    "f1_perceptron = report['0']['f1-score']"
   ]
  },
  {
   "cell_type": "markdown",
   "metadata": {},
   "source": [
    "## Deep Learning (Multi Layer Perceptron)"
   ]
  },
  {
   "cell_type": "code",
   "execution_count": 59,
   "metadata": {},
   "outputs": [
    {
     "name": "stderr",
     "output_type": "stream",
     "text": [
      "Using TensorFlow backend.\n"
     ]
    }
   ],
   "source": [
    "from keras.models import Sequential\n",
    "from keras.layers import Dense, Activation, Dropout\n",
    "from keras.utils import np_utils"
   ]
  },
  {
   "cell_type": "markdown",
   "metadata": {},
   "source": [
    "batch_size = 128\n",
    "nb_classes = 10\n",
    "im_dim = 784 # the total pixel number \n",
    "nb_hidden = 256\n",
    "nb_epoch = 5"
   ]
  },
  {
   "cell_type": "markdown",
   "metadata": {},
   "source": [
    "(X_train, y_train), (X_test, y_test) = mnist.load_data()\n",
    "X_train = X_train.reshape(60000, im_dim)\n",
    "X_test = X_test.reshape(10000, im_dim)\n",
    "X_train = X_train.astype('float32')\n",
    "X_test = X_test.astype('float32')\n",
    "X_train /= 255\n",
    "X_test /= 255\n",
    "Y_train = np_utils.to_categorical(y_train, nb_classes)\n",
    "Y_test = np_utils.to_categorical(y_test, nb_classes)"
   ]
  },
  {
   "cell_type": "code",
   "execution_count": 60,
   "metadata": {},
   "outputs": [],
   "source": [
    "nb_hidden = len(X_names)\n",
    "nb_epoch = 5 \n",
    "nb_classes = 2\n",
    "\n",
    "# Keras requires y-data in (N, # classes) shape, not (N). For multiclass we can use OneHotEncoder. \n",
    "Y_train_deep = np_utils.to_categorical(Y_train, nb_classes) \n",
    "Y_test_deep = np_utils.to_categorical(Y_test, nb_classes)"
   ]
  },
  {
   "cell_type": "code",
   "execution_count": 61,
   "metadata": {},
   "outputs": [
    {
     "name": "stdout",
     "output_type": "stream",
     "text": [
      "Model: \"sequential_1\"\n",
      "_________________________________________________________________\n",
      "Layer (type)                 Output Shape              Param #   \n",
      "=================================================================\n",
      "dense_1 (Dense)              (None, 11)                132       \n",
      "_________________________________________________________________\n",
      "activation_1 (Activation)    (None, 11)                0         \n",
      "_________________________________________________________________\n",
      "dropout_1 (Dropout)          (None, 11)                0         \n",
      "_________________________________________________________________\n",
      "dense_2 (Dense)              (None, 11)                132       \n",
      "_________________________________________________________________\n",
      "activation_2 (Activation)    (None, 11)                0         \n",
      "_________________________________________________________________\n",
      "dropout_2 (Dropout)          (None, 11)                0         \n",
      "_________________________________________________________________\n",
      "dense_3 (Dense)              (None, 2)                 24        \n",
      "_________________________________________________________________\n",
      "activation_3 (Activation)    (None, 2)                 0         \n",
      "=================================================================\n",
      "Total params: 288\n",
      "Trainable params: 288\n",
      "Non-trainable params: 0\n",
      "_________________________________________________________________\n"
     ]
    }
   ],
   "source": [
    "# Deep Multilayer Perceptron model\n",
    "model = Sequential()\n",
    "model.add(Dense(input_dim=nb_hidden,units=nb_hidden))\n",
    "model.add(Activation('relu')) \n",
    "model.add(Dropout(0.2))\n",
    "model.add(Dense(input_dim=nb_hidden,units=nb_hidden))\n",
    "model.add(Activation('relu'))\n",
    "model.add(Dropout(0.5))\n",
    "model.add(Dense(input_dim=nb_hidden, units=(nb_classes)))\n",
    "model.add(Activation('sigmoid')) # converts to a categorical prediction at the end\n",
    "\n",
    "# use sparse_categorical_crossentropy is we havent one hot encoded the output labels. \n",
    "model.compile(optimizer='adam', loss='categorical_crossentropy', metrics=['accuracy'])\n",
    "model.summary()"
   ]
  },
  {
   "cell_type": "code",
   "execution_count": 62,
   "metadata": {},
   "outputs": [
    {
     "name": "stdout",
     "output_type": "stream",
     "text": [
      "Train on 712 samples, validate on 179 samples\n",
      "Epoch 1/5\n",
      "712/712 [==============================] - 0s 234us/step - loss: 0.7348 - accuracy: 0.4916 - val_loss: 0.7060 - val_accuracy: 0.3799\n",
      "Epoch 2/5\n",
      "712/712 [==============================] - 0s 22us/step - loss: 0.7076 - accuracy: 0.5239 - val_loss: 0.6727 - val_accuracy: 0.6425\n",
      "Epoch 3/5\n",
      "712/712 [==============================] - 0s 31us/step - loss: 0.6867 - accuracy: 0.5604 - val_loss: 0.6587 - val_accuracy: 0.6816\n",
      "Epoch 4/5\n",
      "712/712 [==============================] - 0s 44us/step - loss: 0.6731 - accuracy: 0.6011 - val_loss: 0.6395 - val_accuracy: 0.6872\n",
      "Epoch 5/5\n",
      "712/712 [==============================] - 0s 22us/step - loss: 0.6575 - accuracy: 0.6320 - val_loss: 0.6196 - val_accuracy: 0.7151\n"
     ]
    }
   ],
   "source": [
    "# Train\n",
    "history = model.fit(X_train, Y_train_deep, epochs=nb_epoch , \n",
    "                   validation_split = 0.2 )#,\n",
    "                   # batch_size=batch_size, verbose=1)\n"
   ]
  },
  {
   "cell_type": "code",
   "execution_count": 63,
   "metadata": {},
   "outputs": [],
   "source": [
    "# Evaluate\n",
    "#evaluation = model.evaluate(X_test, Y_test_deep, verbose=1)\n",
    "#print('Summary: Loss over the test dataset: %.2f, Accuracy: %.2f' % (evaluation[0], evaluation[1]))"
   ]
  },
  {
   "cell_type": "code",
   "execution_count": 64,
   "metadata": {},
   "outputs": [],
   "source": [
    "## Deep learning only really outperforms other methods as data increases into a big data scenario. "
   ]
  },
  {
   "cell_type": "code",
   "execution_count": null,
   "metadata": {},
   "outputs": [],
   "source": []
  },
  {
   "cell_type": "markdown",
   "metadata": {},
   "source": [
    "## Summary "
   ]
  },
  {
   "cell_type": "markdown",
   "metadata": {},
   "source": [
    "results = pd.DataFrame({\n",
    "    'Model': ['KNN', \n",
    "              'Logistic Regression (Ridge)', 'LASSO-Logisitc',  \n",
    "              'Random Forest', 'Decision Tree' , \n",
    "              'SVM - Linear Kernel', 'SVM - rbf Kernel', \n",
    "              'Naive Bayes' , \n",
    "              'Perceptron'],\n",
    "    'Mean Accuracy': [mean_neigh, \n",
    "                      mean_ridge, mean_lasso, \n",
    "                      mean_random_forest, mean_decision_tree, \n",
    "                      mean_SVM_L , mean_SVM_rbf,  \n",
    "                      mean_GNB, \n",
    "                      mean_perceptron ],\n",
    "    'Accuracy Error' : [std_neigh, \n",
    "                      std_ridge, std_lasso, \n",
    "                      std_random_forest, std_decision_tree,\n",
    "                      std_SVM_L, std_SVM_rbf, \n",
    "                      std_GNB, \n",
    "                      std_perceptron ]\n",
    "        })\n",
    "\n",
    "\n",
    "#result_df_one_hot_nofare = results.sort_values(by='Mean Accuracy', ascending=False)\n",
    "#result_df_one_hot_nofare.to_pickle('result_df_one_hot_nofare.pkl')"
   ]
  },
  {
   "cell_type": "code",
   "execution_count": 65,
   "metadata": {},
   "outputs": [],
   "source": [
    "results = pd.DataFrame({\n",
    "    'Model': ['KNN', \n",
    "              'Logistic Regression (Ridge)', 'LASSO-Logisitc',  \n",
    "              'Random Forest', 'Decision Tree' , \n",
    "              'SVM - Linear Kernel', 'SVM - rbf Kernel', \n",
    "              'Naive Bayes' , \n",
    "              'Perceptron'],\n",
    "    'Mean Accuracy': [mean_neigh, \n",
    "                      mean_ridge, mean_lasso, \n",
    "                      mean_random_forest, mean_decision_tree, \n",
    "                      mean_SVM_L , mean_SVM_rbf,  \n",
    "                      mean_GNB, \n",
    "                      mean_perceptron ],\n",
    "    'Accuracy Error' : [std_neigh, \n",
    "                      std_ridge, std_lasso, \n",
    "                      std_random_forest, std_decision_tree,\n",
    "                      std_SVM_L, std_SVM_rbf, \n",
    "                      std_GNB, \n",
    "                      std_perceptron ],\n",
    "    'Recall' : [recall_knn, \n",
    "                recall_L2, recall_L1 , \n",
    "                recall_RF , recall_DT , \n",
    "                recall_SVM_L , recall_SVM_rbf , \n",
    "                recall_NB , recall_perceptron ] ,\n",
    "    'Precision' : [precision_knn, \n",
    "                precision_L2, precision_L1 , \n",
    "                precision_RF , precision_DT , \n",
    "                precision_SVM_L , precision_SVM_rbf , \n",
    "                precision_NB , precision_perceptron ] ,\n",
    "    'F1-Score' : [f1_knn, \n",
    "                f1_L2, f1_L1 , \n",
    "                f1_RF , f1_DT , \n",
    "                f1_SVM_L , f1_SVM_rbf , \n",
    "                f1_NB , f1_perceptron ]\n",
    "    })\n",
    "\n",
    "\n",
    "result_df_train_final = results.sort_values(by='Mean Accuracy', ascending=False)\n",
    "result_df_train_final.to_pickle('result_df_train_final.pkl')"
   ]
  },
  {
   "cell_type": "code",
   "execution_count": 66,
   "metadata": {},
   "outputs": [
    {
     "data": {
      "text/html": [
       "<style  type=\"text/css\" >\n",
       "#T_756c3fae_6242_11eb_b7e5_548d5af7bfbfrow0_col1,#T_756c3fae_6242_11eb_b7e5_548d5af7bfbfrow2_col3,#T_756c3fae_6242_11eb_b7e5_548d5af7bfbfrow2_col5,#T_756c3fae_6242_11eb_b7e5_548d5af7bfbfrow4_col2,#T_756c3fae_6242_11eb_b7e5_548d5af7bfbfrow5_col2,#T_756c3fae_6242_11eb_b7e5_548d5af7bfbfrow8_col4{\n",
       "            background-color:  yellow;\n",
       "        }</style><table id=\"T_756c3fae_6242_11eb_b7e5_548d5af7bfbf\" ><thead>    <tr>        <th class=\"blank level0\" ></th>        <th class=\"col_heading level0 col0\" >Model</th>        <th class=\"col_heading level0 col1\" >Mean Accuracy</th>        <th class=\"col_heading level0 col2\" >Accuracy Error</th>        <th class=\"col_heading level0 col3\" >Recall</th>        <th class=\"col_heading level0 col4\" >Precision</th>        <th class=\"col_heading level0 col5\" >F1-Score</th>    </tr></thead><tbody>\n",
       "                <tr>\n",
       "                        <th id=\"T_756c3fae_6242_11eb_b7e5_548d5af7bfbflevel0_row0\" class=\"row_heading level0 row0\" >0</th>\n",
       "                        <td id=\"T_756c3fae_6242_11eb_b7e5_548d5af7bfbfrow0_col0\" class=\"data row0 col0\" >KNN</td>\n",
       "                        <td id=\"T_756c3fae_6242_11eb_b7e5_548d5af7bfbfrow0_col1\" class=\"data row0 col1\" >0.842</td>\n",
       "                        <td id=\"T_756c3fae_6242_11eb_b7e5_548d5af7bfbfrow0_col2\" class=\"data row0 col2\" >0.041</td>\n",
       "                        <td id=\"T_756c3fae_6242_11eb_b7e5_548d5af7bfbfrow0_col3\" class=\"data row0 col3\" >0.923</td>\n",
       "                        <td id=\"T_756c3fae_6242_11eb_b7e5_548d5af7bfbfrow0_col4\" class=\"data row0 col4\" >0.856</td>\n",
       "                        <td id=\"T_756c3fae_6242_11eb_b7e5_548d5af7bfbfrow0_col5\" class=\"data row0 col5\" >0.889</td>\n",
       "            </tr>\n",
       "            <tr>\n",
       "                        <th id=\"T_756c3fae_6242_11eb_b7e5_548d5af7bfbflevel0_row1\" class=\"row_heading level0 row1\" >3</th>\n",
       "                        <td id=\"T_756c3fae_6242_11eb_b7e5_548d5af7bfbfrow1_col0\" class=\"data row1 col0\" >Random Forest</td>\n",
       "                        <td id=\"T_756c3fae_6242_11eb_b7e5_548d5af7bfbfrow1_col1\" class=\"data row1 col1\" >0.824</td>\n",
       "                        <td id=\"T_756c3fae_6242_11eb_b7e5_548d5af7bfbfrow1_col2\" class=\"data row1 col2\" >0.047</td>\n",
       "                        <td id=\"T_756c3fae_6242_11eb_b7e5_548d5af7bfbfrow1_col3\" class=\"data row1 col3\" >0.944</td>\n",
       "                        <td id=\"T_756c3fae_6242_11eb_b7e5_548d5af7bfbfrow1_col4\" class=\"data row1 col4\" >0.862</td>\n",
       "                        <td id=\"T_756c3fae_6242_11eb_b7e5_548d5af7bfbfrow1_col5\" class=\"data row1 col5\" >0.901</td>\n",
       "            </tr>\n",
       "            <tr>\n",
       "                        <th id=\"T_756c3fae_6242_11eb_b7e5_548d5af7bfbflevel0_row2\" class=\"row_heading level0 row2\" >4</th>\n",
       "                        <td id=\"T_756c3fae_6242_11eb_b7e5_548d5af7bfbfrow2_col0\" class=\"data row2 col0\" >Decision Tree</td>\n",
       "                        <td id=\"T_756c3fae_6242_11eb_b7e5_548d5af7bfbfrow2_col1\" class=\"data row2 col1\" >0.817</td>\n",
       "                        <td id=\"T_756c3fae_6242_11eb_b7e5_548d5af7bfbfrow2_col2\" class=\"data row2 col2\" >0.051</td>\n",
       "                        <td id=\"T_756c3fae_6242_11eb_b7e5_548d5af7bfbfrow2_col3\" class=\"data row2 col3\" >0.956</td>\n",
       "                        <td id=\"T_756c3fae_6242_11eb_b7e5_548d5af7bfbfrow2_col4\" class=\"data row2 col4\" >0.854</td>\n",
       "                        <td id=\"T_756c3fae_6242_11eb_b7e5_548d5af7bfbfrow2_col5\" class=\"data row2 col5\" >0.902</td>\n",
       "            </tr>\n",
       "            <tr>\n",
       "                        <th id=\"T_756c3fae_6242_11eb_b7e5_548d5af7bfbflevel0_row3\" class=\"row_heading level0 row3\" >6</th>\n",
       "                        <td id=\"T_756c3fae_6242_11eb_b7e5_548d5af7bfbfrow3_col0\" class=\"data row3 col0\" >SVM - rbf Kernel</td>\n",
       "                        <td id=\"T_756c3fae_6242_11eb_b7e5_548d5af7bfbfrow3_col1\" class=\"data row3 col1\" >0.788</td>\n",
       "                        <td id=\"T_756c3fae_6242_11eb_b7e5_548d5af7bfbfrow3_col2\" class=\"data row3 col2\" >0.028</td>\n",
       "                        <td id=\"T_756c3fae_6242_11eb_b7e5_548d5af7bfbfrow3_col3\" class=\"data row3 col3\" >0.852</td>\n",
       "                        <td id=\"T_756c3fae_6242_11eb_b7e5_548d5af7bfbfrow3_col4\" class=\"data row3 col4\" >0.812</td>\n",
       "                        <td id=\"T_756c3fae_6242_11eb_b7e5_548d5af7bfbfrow3_col5\" class=\"data row3 col5\" >0.832</td>\n",
       "            </tr>\n",
       "            <tr>\n",
       "                        <th id=\"T_756c3fae_6242_11eb_b7e5_548d5af7bfbflevel0_row4\" class=\"row_heading level0 row4\" >1</th>\n",
       "                        <td id=\"T_756c3fae_6242_11eb_b7e5_548d5af7bfbfrow4_col0\" class=\"data row4 col0\" >Logistic Regression (Ridge)</td>\n",
       "                        <td id=\"T_756c3fae_6242_11eb_b7e5_548d5af7bfbfrow4_col1\" class=\"data row4 col1\" >0.788</td>\n",
       "                        <td id=\"T_756c3fae_6242_11eb_b7e5_548d5af7bfbfrow4_col2\" class=\"data row4 col2\" >0.026</td>\n",
       "                        <td id=\"T_756c3fae_6242_11eb_b7e5_548d5af7bfbfrow4_col3\" class=\"data row4 col3\" >0.872</td>\n",
       "                        <td id=\"T_756c3fae_6242_11eb_b7e5_548d5af7bfbfrow4_col4\" class=\"data row4 col4\" >0.813</td>\n",
       "                        <td id=\"T_756c3fae_6242_11eb_b7e5_548d5af7bfbfrow4_col5\" class=\"data row4 col5\" >0.842</td>\n",
       "            </tr>\n",
       "            <tr>\n",
       "                        <th id=\"T_756c3fae_6242_11eb_b7e5_548d5af7bfbflevel0_row5\" class=\"row_heading level0 row5\" >2</th>\n",
       "                        <td id=\"T_756c3fae_6242_11eb_b7e5_548d5af7bfbfrow5_col0\" class=\"data row5 col0\" >LASSO-Logisitc</td>\n",
       "                        <td id=\"T_756c3fae_6242_11eb_b7e5_548d5af7bfbfrow5_col1\" class=\"data row5 col1\" >0.788</td>\n",
       "                        <td id=\"T_756c3fae_6242_11eb_b7e5_548d5af7bfbfrow5_col2\" class=\"data row5 col2\" >0.026</td>\n",
       "                        <td id=\"T_756c3fae_6242_11eb_b7e5_548d5af7bfbfrow5_col3\" class=\"data row5 col3\" >0.872</td>\n",
       "                        <td id=\"T_756c3fae_6242_11eb_b7e5_548d5af7bfbfrow5_col4\" class=\"data row5 col4\" >0.813</td>\n",
       "                        <td id=\"T_756c3fae_6242_11eb_b7e5_548d5af7bfbfrow5_col5\" class=\"data row5 col5\" >0.842</td>\n",
       "            </tr>\n",
       "            <tr>\n",
       "                        <th id=\"T_756c3fae_6242_11eb_b7e5_548d5af7bfbflevel0_row6\" class=\"row_heading level0 row6\" >5</th>\n",
       "                        <td id=\"T_756c3fae_6242_11eb_b7e5_548d5af7bfbfrow6_col0\" class=\"data row6 col0\" >SVM - Linear Kernel</td>\n",
       "                        <td id=\"T_756c3fae_6242_11eb_b7e5_548d5af7bfbfrow6_col1\" class=\"data row6 col1\" >0.787</td>\n",
       "                        <td id=\"T_756c3fae_6242_11eb_b7e5_548d5af7bfbfrow6_col2\" class=\"data row6 col2\" >0.029</td>\n",
       "                        <td id=\"T_756c3fae_6242_11eb_b7e5_548d5af7bfbfrow6_col3\" class=\"data row6 col3\" >0.852</td>\n",
       "                        <td id=\"T_756c3fae_6242_11eb_b7e5_548d5af7bfbfrow6_col4\" class=\"data row6 col4\" >0.811</td>\n",
       "                        <td id=\"T_756c3fae_6242_11eb_b7e5_548d5af7bfbfrow6_col5\" class=\"data row6 col5\" >0.831</td>\n",
       "            </tr>\n",
       "            <tr>\n",
       "                        <th id=\"T_756c3fae_6242_11eb_b7e5_548d5af7bfbflevel0_row7\" class=\"row_heading level0 row7\" >7</th>\n",
       "                        <td id=\"T_756c3fae_6242_11eb_b7e5_548d5af7bfbfrow7_col0\" class=\"data row7 col0\" >Naive Bayes</td>\n",
       "                        <td id=\"T_756c3fae_6242_11eb_b7e5_548d5af7bfbfrow7_col1\" class=\"data row7 col1\" >0.770</td>\n",
       "                        <td id=\"T_756c3fae_6242_11eb_b7e5_548d5af7bfbfrow7_col2\" class=\"data row7 col2\" >0.029</td>\n",
       "                        <td id=\"T_756c3fae_6242_11eb_b7e5_548d5af7bfbfrow7_col3\" class=\"data row7 col3\" >0.752</td>\n",
       "                        <td id=\"T_756c3fae_6242_11eb_b7e5_548d5af7bfbfrow7_col4\" class=\"data row7 col4\" >0.857</td>\n",
       "                        <td id=\"T_756c3fae_6242_11eb_b7e5_548d5af7bfbfrow7_col5\" class=\"data row7 col5\" >0.801</td>\n",
       "            </tr>\n",
       "            <tr>\n",
       "                        <th id=\"T_756c3fae_6242_11eb_b7e5_548d5af7bfbflevel0_row8\" class=\"row_heading level0 row8\" >8</th>\n",
       "                        <td id=\"T_756c3fae_6242_11eb_b7e5_548d5af7bfbfrow8_col0\" class=\"data row8 col0\" >Perceptron</td>\n",
       "                        <td id=\"T_756c3fae_6242_11eb_b7e5_548d5af7bfbfrow8_col1\" class=\"data row8 col1\" >0.704</td>\n",
       "                        <td id=\"T_756c3fae_6242_11eb_b7e5_548d5af7bfbfrow8_col2\" class=\"data row8 col2\" >0.125</td>\n",
       "                        <td id=\"T_756c3fae_6242_11eb_b7e5_548d5af7bfbfrow8_col3\" class=\"data row8 col3\" >0.689</td>\n",
       "                        <td id=\"T_756c3fae_6242_11eb_b7e5_548d5af7bfbfrow8_col4\" class=\"data row8 col4\" >0.887</td>\n",
       "                        <td id=\"T_756c3fae_6242_11eb_b7e5_548d5af7bfbfrow8_col5\" class=\"data row8 col5\" >0.775</td>\n",
       "            </tr>\n",
       "    </tbody></table>"
      ],
      "text/plain": [
       "<pandas.io.formats.style.Styler at 0x29a248ffc88>"
      ]
     },
     "execution_count": 66,
     "metadata": {},
     "output_type": "execute_result"
    }
   ],
   "source": [
    "## Highlghting the best features within dataframe:\n",
    "\n",
    "result_df_train_final\n",
    "\n",
    "#result_df_train_final.style.apply(lambda x: [\"background: yellow\" if v > x.iloc[0] else \"\" for v in x], axis = 1)\n",
    "\n",
    "result_df_train_final.style\\\n",
    "    .highlight_max(color = 'yellow', axis = 0, subset=['Mean Accuracy','Recall','Precision','F1-Score'])\\\n",
    "    .highlight_min(color = 'yellow', axis = 0, subset=['Accuracy Error'])\\\n",
    "    .set_precision(3)\n",
    "\n",
    "\n",
    "#df.style\\\n",
    "#  .applymap(color_negative_red)\\\n",
    "#  .apply(highlight_max)\\\n",
    "#  .set_precision(2)\n"
   ]
  },
  {
   "cell_type": "markdown",
   "metadata": {},
   "source": [
    "### Proviously ran and analysed in iterative steps. \n",
    "Must change the dataset in code block 6 to replicate."
   ]
  },
  {
   "cell_type": "code",
   "execution_count": 67,
   "metadata": {},
   "outputs": [],
   "source": [
    "#result_df_train_nofare"
   ]
  },
  {
   "cell_type": "code",
   "execution_count": 68,
   "metadata": {},
   "outputs": [],
   "source": [
    "#result_df_UpLow_nofare"
   ]
  },
  {
   "cell_type": "code",
   "execution_count": 69,
   "metadata": {},
   "outputs": [],
   "source": [
    "#result_df_one_hot_nofare"
   ]
  },
  {
   "cell_type": "code",
   "execution_count": 70,
   "metadata": {},
   "outputs": [],
   "source": [
    "#result_df_one_hot_nofare.names()"
   ]
  },
  {
   "cell_type": "code",
   "execution_count": 71,
   "metadata": {},
   "outputs": [],
   "source": [
    "#result_df_one_hot"
   ]
  },
  {
   "cell_type": "code",
   "execution_count": 72,
   "metadata": {
    "scrolled": true
   },
   "outputs": [],
   "source": [
    "#result_df_train"
   ]
  },
  {
   "cell_type": "markdown",
   "metadata": {},
   "source": [
    "### Feature Selection Process:\n",
    "\n",
    "We can try to tabulate all results from the pickles stored: However it seems that the one-hot-encoded age categories with no fare variable produced the best results. K-NN and decision tree/random forest produced the best results. We can plot the results for the dataset **train_one_hot_nofare**.  "
   ]
  },
  {
   "cell_type": "code",
   "execution_count": 73,
   "metadata": {},
   "outputs": [
    {
     "data": {
      "text/plain": [
       "Text(0.5, 0.98, 'Comparison of Machine Leanring Algorithms')"
      ]
     },
     "execution_count": 73,
     "metadata": {},
     "output_type": "execute_result"
    },
    {
     "data": {
      "image/png": "[encoded data removed]",
      "text/plain": [
       "<Figure size 432x288 with 1 Axes>"
      ]
     },
     "metadata": {
      "needs_background": "light"
     },
     "output_type": "display_data"
    }
   ],
   "source": [
    "%matplotlib inline\n",
    "\n",
    "results = pd.read_pickle('result_df_train_final.pkl') \n",
    "\n",
    "x = [0,1,2,3,4,5,6,7,8]\n",
    "labels = ['kNN', 'RF', 'DT', 'Ridge', 'rbf', 'LASSO', 'SVM-lin', 'NB', 'Perc']\n",
    "\n",
    "colour = sns.color_palette(\"colorblind\")\n",
    "ax = sns.pointplot(x = 'Model', y = 'Mean Accuracy',\n",
    "                    data=results, join=False, hue = 'Model', scale =1.5 ,\n",
    "                     palette = colour )\n",
    "plt.xticks(x, labels,rotation=90)\n",
    "plt.legend(bbox_to_anchor=(1.05, 1), loc=2, borderaxespad=0.)\n",
    "\n",
    "ax.errorbar(x = results['Model'], y = results['Mean Accuracy'], yerr=results['Accuracy Error'], \n",
    "            fmt = ' ' , ecolor = colour)\n",
    "plt.suptitle('Comparison of Machine Leanring Algorithms')"
   ]
  },
  {
   "cell_type": "markdown",
   "metadata": {},
   "source": [
    "###  We can explore AUC and ROC curves of the chose model evaluated on the test set. "
   ]
  },
  {
   "cell_type": "code",
   "execution_count": 74,
   "metadata": {},
   "outputs": [],
   "source": [
    "### Our Test Set\n",
    "test_one_hot_nofare\n",
    "\n",
    "# Data Set-Up\n",
    "X_test = test_one_hot_nofare.drop('Survived' , axis = 1)\n",
    "Y_test = test_one_hot_nofare['Survived']\n",
    "\n",
    "# Refresh Memory\n",
    "X_train = train_one_hot_nofare.drop('Survived', axis = 1)\n",
    "Y_train = train_one_hot_nofare['Survived']"
   ]
  },
  {
   "cell_type": "markdown",
   "metadata": {},
   "source": [
    "### Final Model is a kNN-Classifier. "
   ]
  },
  {
   "cell_type": "code",
   "execution_count": 75,
   "metadata": {},
   "outputs": [
    {
     "name": "stdout",
     "output_type": "stream",
     "text": [
      "No Skill: ROC AUC=0.500\n",
      "kNN K=5: ROC AUC=0.808\n"
     ]
    },
    {
     "data": {
      "image/png": "[encoded data removed]",
      "text/plain": [
       "<Figure size 432x288 with 1 Axes>"
      ]
     },
     "metadata": {
      "needs_background": "light"
     },
     "output_type": "display_data"
    }
   ],
   "source": [
    "# Choose a best model and use this to explore ROC and AUC on the test set. \n",
    "\n",
    "from sklearn.metrics import roc_curve\n",
    "from sklearn.metrics import roc_auc_score\n",
    "from matplotlib import pyplot\n",
    "\n",
    "# generate a no skill prediction (majority class)\n",
    "ns_probs = [0 for _ in range(len(Y_test))]\n",
    "\n",
    "# fit a model\n",
    "final_model = KNeighborsClassifier(n_neighbors=6)\n",
    "final_model.fit(X_train, Y_train)\n",
    "# predict probabilities\n",
    "lr_probs = final_model.predict_proba(X_test)\n",
    "# keep probabilities for the positive outcome only\n",
    "lr_probs = lr_probs[:, 1]\n",
    "# calculate scores\n",
    "ns_auc = roc_auc_score(Y_test, ns_probs)\n",
    "lr_auc = roc_auc_score(Y_test, lr_probs)\n",
    "lr_auc_per= lr_auc*100\n",
    "# print scores\n",
    "print('No Skill: ROC AUC=%.3f' % (ns_auc))\n",
    "print('kNN K=5: ROC AUC=%.3f' % (lr_auc))\n",
    "\n",
    "\n",
    "# calculate roc curves\n",
    "ns_fpr, ns_tpr, _ = roc_curve(Y_test, ns_probs)\n",
    "lr_fpr, lr_tpr, _ = roc_curve(Y_test, lr_probs)\n",
    "# plot the roc curve for the model\n",
    "pyplot.plot(ns_fpr, ns_tpr, linestyle='--', label='Coin Toss')\n",
    "pyplot.plot(lr_fpr, lr_tpr, marker='.', color='m' , label='kNN k=6')\n",
    "# fix axis, title and legends \n",
    "pyplot.xlabel('False Positive Rate')\n",
    "pyplot.ylabel('True Positive Rate')\n",
    "pyplot.legend()\n",
    "plt.suptitle('ROC AUC Curve - Test Set', fontsize=18)\n",
    "plt.text(0.65,0.05, 'AUC = {}%'.format(\"%.2f\" % lr_auc_per), color='Black', fontsize=16 )\n",
    "\n",
    "\n",
    "# show the plot\n",
    "pyplot.show()"
   ]
  },
  {
   "cell_type": "code",
   "execution_count": 76,
   "metadata": {},
   "outputs": [
    {
     "name": "stdout",
     "output_type": "stream",
     "text": [
      "              precision    recall  f1-score   support\n",
      "\n",
      "           0       0.86      0.92      0.89       549\n",
      "           1       0.86      0.75      0.80       342\n",
      "\n",
      "    accuracy                           0.86       891\n",
      "   macro avg       0.86      0.84      0.85       891\n",
      "weighted avg       0.86      0.86      0.86       891\n",
      "\n"
     ]
    },
    {
     "data": {
      "text/plain": [
       "Text(0.5, 0.98, 'Confusion Matrix - Test Set    ')"
      ]
     },
     "execution_count": 76,
     "metadata": {},
     "output_type": "execute_result"
    },
    {
     "data": {
      "image/png": "[encoded data removed]",
      "text/plain": [
       "<Figure size 432x288 with 2 Axes>"
      ]
     },
     "metadata": {
      "needs_background": "light"
     },
     "output_type": "display_data"
    }
   ],
   "source": [
    "from sklearn.metrics import classification_report, confusion_matrix\n",
    "\n",
    "Y_pred_test = final_model.predict(X_test)\n",
    "\n",
    "cf_matrix = confusion_matrix(Y_test, Y_pred_test)\n",
    "\n",
    "#print(confusion_matrix(Y_train, Y_pred))\n",
    "print(classification_report(Y_train, Y_pred))\n",
    "\n",
    "group_names = ['True Neg','False Pos','False Neg','True Pos']\n",
    "group_counts = ['{0:0.0f}'.format(value) for value in\n",
    "                cf_matrix.flatten()]\n",
    "group_percentages = ['{0:.2%}'.format(value) for value in\n",
    "                     cf_matrix.flatten()/np.sum(cf_matrix)]\n",
    "labels = [f'{v1}\\n{v2}\\n{v3}' for v1, v2, v3 in\n",
    "          zip(group_names,group_counts,group_percentages)]\n",
    "labels = np.asarray(labels).reshape(2,2)\n",
    "sns.heatmap(cf_matrix, annot=labels, fmt='', cmap='Greens')\n",
    "plt.suptitle('Confusion Matrix - Test Set    ', fontsize=18)"
   ]
  },
  {
   "cell_type": "code",
   "execution_count": 77,
   "metadata": {},
   "outputs": [
    {
     "name": "stdout",
     "output_type": "stream",
     "text": [
      "              precision    recall  f1-score   support\n",
      "\n",
      "           0       0.81      0.83      0.82       260\n",
      "           1       0.70      0.67      0.69       158\n",
      "\n",
      "    accuracy                           0.77       418\n",
      "   macro avg       0.75      0.75      0.75       418\n",
      "weighted avg       0.77      0.77      0.77       418\n",
      "\n"
     ]
    },
    {
     "data": {
      "text/html": [
       "<div>\n",
       "<style scoped>\n",
       "    .dataframe tbody tr th:only-of-type {\n",
       "        vertical-align: middle;\n",
       "    }\n",
       "\n",
       "    .dataframe tbody tr th {\n",
       "        vertical-align: top;\n",
       "    }\n",
       "\n",
       "    .dataframe thead th {\n",
       "        text-align: right;\n",
       "    }\n",
       "</style>\n",
       "<table border=\"1\" class=\"dataframe\">\n",
       "  <thead>\n",
       "    <tr style=\"text-align: right;\">\n",
       "      <th></th>\n",
       "      <th>0</th>\n",
       "      <th>1</th>\n",
       "      <th>accuracy</th>\n",
       "      <th>macro avg</th>\n",
       "      <th>weighted avg</th>\n",
       "    </tr>\n",
       "  </thead>\n",
       "  <tbody>\n",
       "    <tr>\n",
       "      <th>precision</th>\n",
       "      <td>0.805243</td>\n",
       "      <td>0.701987</td>\n",
       "      <td>0.767943</td>\n",
       "      <td>0.753615</td>\n",
       "      <td>0.766213</td>\n",
       "    </tr>\n",
       "    <tr>\n",
       "      <th>recall</th>\n",
       "      <td>0.826923</td>\n",
       "      <td>0.670886</td>\n",
       "      <td>0.767943</td>\n",
       "      <td>0.748905</td>\n",
       "      <td>0.767943</td>\n",
       "    </tr>\n",
       "    <tr>\n",
       "      <th>f1-score</th>\n",
       "      <td>0.815939</td>\n",
       "      <td>0.686084</td>\n",
       "      <td>0.767943</td>\n",
       "      <td>0.751012</td>\n",
       "      <td>0.766855</td>\n",
       "    </tr>\n",
       "    <tr>\n",
       "      <th>support</th>\n",
       "      <td>260.000000</td>\n",
       "      <td>158.000000</td>\n",
       "      <td>0.767943</td>\n",
       "      <td>418.000000</td>\n",
       "      <td>418.000000</td>\n",
       "    </tr>\n",
       "  </tbody>\n",
       "</table>\n",
       "</div>"
      ],
      "text/plain": [
       "                    0           1  accuracy   macro avg  weighted avg\n",
       "precision    0.805243    0.701987  0.767943    0.753615      0.766213\n",
       "recall       0.826923    0.670886  0.767943    0.748905      0.767943\n",
       "f1-score     0.815939    0.686084  0.767943    0.751012      0.766855\n",
       "support    260.000000  158.000000  0.767943  418.000000    418.000000"
      ]
     },
     "execution_count": 77,
     "metadata": {},
     "output_type": "execute_result"
    }
   ],
   "source": [
    "print(classification_report(Y_test, Y_pred_test))\n",
    "\n",
    "report = classification_report(Y_test, Y_pred_test, output_dict=True)\n",
    "\n",
    "pd.DataFrame(report)"
   ]
  },
  {
   "cell_type": "markdown",
   "metadata": {},
   "source": [
    "### Lets see how the ROC curve for Random Forest looks. "
   ]
  },
  {
   "cell_type": "code",
   "execution_count": 78,
   "metadata": {},
   "outputs": [
    {
     "name": "stdout",
     "output_type": "stream",
     "text": [
      "No Skill: ROC AUC=0.500\n",
      "kNN K=5: ROC AUC=0.807\n"
     ]
    },
    {
     "data": {
      "image/png": "[encoded data removed]",
      "text/plain": [
       "<Figure size 432x288 with 1 Axes>"
      ]
     },
     "metadata": {
      "needs_background": "light"
     },
     "output_type": "display_data"
    }
   ],
   "source": [
    "from sklearn.metrics import roc_curve\n",
    "from sklearn.metrics import roc_auc_score\n",
    "from matplotlib import pyplot\n",
    "\n",
    "\n",
    "# generate a no skill prediction (majority class)\n",
    "ns_probs = [0 for _ in range(len(Y_test))]\n",
    "\n",
    "# fit a model\n",
    "final_model2 = RandomForestClassifier(criterion = 'entropy' , n_estimators=100)\n",
    "final_model2.fit(X_train, Y_train)\n",
    "# predict probabilities\n",
    "lr_probs = final_model2.predict_proba(X_test)\n",
    "# keep probabilities for the positive outcome only\n",
    "lr_probs = lr_probs[:, 1]\n",
    "# calculate scores\n",
    "ns_auc = roc_auc_score(Y_test, ns_probs)\n",
    "ns_auc_per = ns_auc*100\n",
    "lr_auc = roc_auc_score(Y_test, lr_probs)\n",
    "lr_auc_per = lr_auc*100\n",
    "# print scores\n",
    "print('No Skill: ROC AUC=%.3f' % (ns_auc))\n",
    "print('kNN K=5: ROC AUC=%.3f' % (lr_auc))\n",
    "\n",
    "\n",
    "# calculate roc curves\n",
    "ns_fpr, ns_tpr, _ = roc_curve(Y_test, ns_probs)\n",
    "lr_fpr, lr_tpr, _ = roc_curve(Y_test, lr_probs)\n",
    "# plot the roc curve for the model\n",
    "pyplot.plot(ns_fpr, ns_tpr, linestyle='--', label='Coin Toss')\n",
    "pyplot.plot(lr_fpr, lr_tpr, marker='.', color='m' , label='Decision Tree')\n",
    "# fix axis, title and legends \n",
    "pyplot.xlabel('False Positive Rate')\n",
    "pyplot.ylabel('True Positive Rate')\n",
    "pyplot.legend()\n",
    "plt.suptitle('ROC AUC Curve - Test Set', fontsize=18)\n",
    "plt.text(0.65,0.05, 'AUC = {}%'.format(\"%.2f\" % lr_auc_per), color='Black', fontsize=16 )\n",
    "\n",
    "#\"Shepherd {} is on duty.\".format(shepherd)\n",
    "# show the plot\n",
    "pyplot.show()"
   ]
  },
  {
   "cell_type": "code",
   "execution_count": 79,
   "metadata": {},
   "outputs": [
    {
     "name": "stdout",
     "output_type": "stream",
     "text": [
      "              precision    recall  f1-score   support\n",
      "\n",
      "           0       0.86      0.92      0.89       549\n",
      "           1       0.86      0.75      0.80       342\n",
      "\n",
      "    accuracy                           0.86       891\n",
      "   macro avg       0.86      0.84      0.85       891\n",
      "weighted avg       0.86      0.86      0.86       891\n",
      "\n"
     ]
    },
    {
     "data": {
      "text/plain": [
       "Text(0.5, 0.98, 'Confusion Matrix - Test Set    ')"
      ]
     },
     "execution_count": 79,
     "metadata": {},
     "output_type": "execute_result"
    },
    {
     "data": {
      "image/png": "[encoded data removed]",
      "text/plain": [
       "<Figure size 432x288 with 2 Axes>"
      ]
     },
     "metadata": {
      "needs_background": "light"
     },
     "output_type": "display_data"
    }
   ],
   "source": [
    "from sklearn.metrics import classification_report, confusion_matrix\n",
    "\n",
    "Y_pred_test = final_model2.predict(X_test)\n",
    "\n",
    "cf_matrix = confusion_matrix(Y_test, Y_pred_test)\n",
    "\n",
    "#print(confusion_matrix(Y_train, Y_pred))\n",
    "print(classification_report(Y_train, Y_pred))\n",
    "\n",
    "group_names = ['True Neg','False Pos','False Neg','True Pos']\n",
    "group_counts = ['{0:0.0f}'.format(value) for value in\n",
    "                cf_matrix.flatten()]\n",
    "group_percentages = ['{0:.2%}'.format(value) for value in\n",
    "                     cf_matrix.flatten()/np.sum(cf_matrix)]\n",
    "labels = [f'{v1}\\n{v2}\\n{v3}' for v1, v2, v3 in\n",
    "          zip(group_names,group_counts,group_percentages)]\n",
    "labels = np.asarray(labels).reshape(2,2)\n",
    "sns.heatmap(cf_matrix, annot=labels, fmt='', cmap='Greens')\n",
    "plt.suptitle('Confusion Matrix - Test Set    ', fontsize=18)"
   ]
  },
  {
   "cell_type": "code",
   "execution_count": 80,
   "metadata": {},
   "outputs": [
    {
     "data": {
      "text/html": [
       "<div>\n",
       "<style scoped>\n",
       "    .dataframe tbody tr th:only-of-type {\n",
       "        vertical-align: middle;\n",
       "    }\n",
       "\n",
       "    .dataframe tbody tr th {\n",
       "        vertical-align: top;\n",
       "    }\n",
       "\n",
       "    .dataframe thead th {\n",
       "        text-align: right;\n",
       "    }\n",
       "</style>\n",
       "<table border=\"1\" class=\"dataframe\">\n",
       "  <thead>\n",
       "    <tr style=\"text-align: right;\">\n",
       "      <th></th>\n",
       "      <th>Importance</th>\n",
       "    </tr>\n",
       "    <tr>\n",
       "      <th>Feature</th>\n",
       "      <th></th>\n",
       "    </tr>\n",
       "  </thead>\n",
       "  <tbody>\n",
       "    <tr>\n",
       "      <th>Title</th>\n",
       "      <td>0.244</td>\n",
       "    </tr>\n",
       "    <tr>\n",
       "      <th>Sex</th>\n",
       "      <td>0.180</td>\n",
       "    </tr>\n",
       "    <tr>\n",
       "      <th>Pclass</th>\n",
       "      <td>0.153</td>\n",
       "    </tr>\n",
       "    <tr>\n",
       "      <th>Deck</th>\n",
       "      <td>0.139</td>\n",
       "    </tr>\n",
       "    <tr>\n",
       "      <th>GroupSize</th>\n",
       "      <td>0.118</td>\n",
       "    </tr>\n",
       "    <tr>\n",
       "      <th>Embarked</th>\n",
       "      <td>0.077</td>\n",
       "    </tr>\n",
       "    <tr>\n",
       "      <th>Child</th>\n",
       "      <td>0.023</td>\n",
       "    </tr>\n",
       "    <tr>\n",
       "      <th>Young Adult</th>\n",
       "      <td>0.023</td>\n",
       "    </tr>\n",
       "    <tr>\n",
       "      <th>Adult</th>\n",
       "      <td>0.022</td>\n",
       "    </tr>\n",
       "    <tr>\n",
       "      <th>Adolescent</th>\n",
       "      <td>0.012</td>\n",
       "    </tr>\n",
       "  </tbody>\n",
       "</table>\n",
       "</div>"
      ],
      "text/plain": [
       "             Importance\n",
       "Feature                \n",
       "Title             0.244\n",
       "Sex               0.180\n",
       "Pclass            0.153\n",
       "Deck              0.139\n",
       "GroupSize         0.118\n",
       "Embarked          0.077\n",
       "Child             0.023\n",
       "Young Adult       0.023\n",
       "Adult             0.022\n",
       "Adolescent        0.012"
      ]
     },
     "execution_count": 80,
     "metadata": {},
     "output_type": "execute_result"
    }
   ],
   "source": [
    "importances_DT = pd.DataFrame({'Feature':X_train.columns,'Importance':np.round(final_model2.feature_importances_,3)})\n",
    "importances_DT = importances_DT.sort_values('Importance',ascending=False).set_index('Feature')\n",
    "importances_DT.head(10)"
   ]
  },
  {
   "cell_type": "code",
   "execution_count": 81,
   "metadata": {},
   "outputs": [
    {
     "name": "stderr",
     "output_type": "stream",
     "text": [
      "C:\\Users\\Lenovo\\anaconda3\\envs\\Titanic\\lib\\site-packages\\pandas\\plotting\\_matplotlib\\core.py:1373: MatplotlibDeprecationWarning: Using a string of single character colors as a color sequence is deprecated since 3.2 and will be removed two minor releases later. Use an explicit list instead.\n",
      "  return ax.bar(x, y, w, bottom=start, log=log, **kwds)\n"
     ]
    },
    {
     "data": {
      "text/plain": [
       "<AxesSubplot:xlabel='Feature'>"
      ]
     },
     "execution_count": 81,
     "metadata": {},
     "output_type": "execute_result"
    },
    {
     "data": {
      "image/png": "[encoded data removed]",
      "text/plain": [
       "<Figure size 432x288 with 1 Axes>"
      ]
     },
     "metadata": {
      "needs_background": "light"
     },
     "output_type": "display_data"
    }
   ],
   "source": [
    "#Plot the data:\n",
    "my_colours = list('rgbkymc')  #red, green, blue, black, etc.\n",
    "importances_DT.plot.bar(color = 'rgbkymc')"
   ]
  },
  {
   "cell_type": "markdown",
   "metadata": {},
   "source": [
    "### End of Notebook. \n",
    "\n",
    "Thank you. "
   ]
  }
 ],
 "metadata": {
  "kernelspec": {
   "display_name": "Python 3",
   "language": "python",
   "name": "python3"
  },
  "language_info": {
   "codemirror_mode": {
    "name": "ipython",
    "version": 3
   },
   "file_extension": ".py",
   "mimetype": "text/x-python",
   "name": "python",
   "nbconvert_exporter": "python",
   "pygments_lexer": "ipython3",
   "version": "3.6.12"
  }
 },
 "nbformat": 4,
 "nbformat_minor": 4
}
